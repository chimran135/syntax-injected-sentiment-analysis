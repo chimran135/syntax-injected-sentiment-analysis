{
 "cells": [
  {
   "cell_type": "markdown",
   "metadata": {
    "id": "tRYUYZmrLnGo"
   },
   "source": [
    "Imran Muhammad, Olga Kellert, and Carlos Gómez-Rodríguez. \"A Syntax-Injected Approach for Faster and More Accurate Sentiment Analysis.\" arXiv preprint arXiv:2406.15163 (2024). The preprint version is available on arXiv: URL: https://arxiv.org/html/2406.15163v1"
   ]
  },
  {
   "cell_type": "code",
   "execution_count": 112,
   "metadata": {
    "colab": {
     "base_uri": "https://localhost:8080/"
    },
    "executionInfo": {
     "elapsed": 75329,
     "status": "ok",
     "timestamp": 1717488008509,
     "user": {
      "displayName": "Olga Kellert",
      "userId": "10697804426852394315"
     },
     "user_tz": -120
    },
    "id": "-fBnIq8u5UrP",
    "outputId": "a1f78f0f-008c-4da9-df6c-804bcf646fd2"
   },
   "outputs": [],
   "source": [
    "!pip install stanza"
   ]
  },
  {
   "cell_type": "code",
   "execution_count": 1,
   "metadata": {},
   "outputs": [
    {
     "name": "stderr",
     "output_type": "stream",
     "text": [
      "2024-06-13 16:04:10.402057: I tensorflow/core/util/port.cc:113] oneDNN custom operations are on. You may see slightly different numerical results due to floating-point round-off errors from different computation orders. To turn them off, set the environment variable `TF_ENABLE_ONEDNN_OPTS=0`.\n",
      "2024-06-13 16:04:10.440408: I tensorflow/core/platform/cpu_feature_guard.cc:210] This TensorFlow binary is optimized to use available CPU instructions in performance-critical operations.\n",
      "To enable the following instructions: AVX2 AVX512F AVX512_VNNI FMA, in other operations, rebuild TensorFlow with the appropriate compiler flags.\n",
      "2024-06-13 16:04:11.258282: W tensorflow/compiler/tf2tensorrt/utils/py_utils.cc:38] TF-TRT Warning: Could not find TensorRT\n"
     ]
    }
   ],
   "source": [
    "from utilities import *\n",
    "import transformers\n",
    "from transformers import AutoTokenizer\n",
    "from transformers import DataCollatorForTokenClassification\n",
    "from transformers import AutoModelForTokenClassification, TrainingArguments, Trainer\n",
    "\n",
    "from src.models.deps_tree import D_Tree\n",
    "from src.models.deps_label import D_Label\n",
    "from src.utils.constants import D_ROOT_HEAD, D_NULLHEAD, D_ROOT_REL, D_POSROOT, D_EMPTYREL, D_2P_GREED, D_2P_PROP\n",
    "#from src.utils.constants import D_ROOT_HEAD\n",
    "from src.encs.enc_deps import *\n",
    "from src.utils.constants import *\n",
    "from src.models.linearized_tree import LinearizedTree"
   ]
  },
  {
   "cell_type": "code",
   "execution_count": 2,
   "metadata": {},
   "outputs": [],
   "source": [
    "import io\n",
    "import spacy\n",
    "import os\n",
    "import time\n",
    "import numpy as np\n",
    "import pandas as pd\n",
    "\n",
    "from tqdm.notebook import tqdm\n",
    "tqdm.pandas()"
   ]
  },
  {
   "cell_type": "code",
   "execution_count": 3,
   "metadata": {
    "colab": {
     "base_uri": "https://localhost:8080/",
     "height": 654,
     "referenced_widgets": [
      "94ff413f7c804132a2ae3f347118d5ba",
      "9d6b28d7a5654cfa8dedfbe8125bffef",
      "ab83012992604d92a0e2b3131386e9a5",
      "e3c913a7aec342fd9e0edd1a6e4d5bb1",
      "e5e9a1624bb54365b02dbef84db7fd19",
      "cc4d5594412b4210b1d605333eb50c5d",
      "8ee4b7ee96734fbca1730d10ef6fbc6c",
      "4eec66cae932411ba00d31f4388fb523",
      "b6c5cc9c99fc452296044137be0c4221",
      "7e9a7c26d9ea420fbea8ee3e568cc707",
      "376ac339290c4bb3ad2f34f353027cbf",
      "82a85586cd9f4e8cadab9415a8cf6148",
      "d17a2206d7504c828ea15921c73b8754",
      "8e9dcb01fc834c3d96504a84a36e2c07",
      "5ed066843787426e8bb523c0b7747e8f",
      "f106833357804268a15d05f2bb75c2f7",
      "08b9eadf0beb4780b0df025c53a0487c",
      "112d01aebc214595aa3565f26f0b2266",
      "d91954ffcb934512b4ec9af3ad82df32",
      "067fe89e66c840deba10b80e4e5f00e5",
      "d7e0054c7ee147a4ba0ec0877a40e5bd",
      "98a25ce59ddd46c8b92552d68e088be9",
      "6cf2c7ddafde4b2ba8236c332ad06501",
      "df48fea07b3a4be49f9782eeced0dda6",
      "2359c87b74d7472f9b757e5f835d9033",
      "fb9ab28dffde47f7ab7a0895fd9f20f5",
      "af6e3c43697a4b74bd53b1980348a582",
      "80b830d856ad4a58b6cfe5f2b71a6dd8",
      "1cda8c396324497d86b095d1d7ab57d1",
      "5b1e7dc83601499993958b22c43d754f",
      "fb2c6769cd8c4e6689e0ef41bccf8e91",
      "c012e9a82e754193a283fba7a2f61279",
      "1f3ffa5349e64a198a5baf578e0b3ece"
     ]
    },
    "executionInfo": {
     "elapsed": 34519,
     "status": "ok",
     "timestamp": 1717488043012,
     "user": {
      "displayName": "Olga Kellert",
      "userId": "10697804426852394315"
     },
     "user_tz": -120
    },
    "id": "m9gI9km85ZiH",
    "outputId": "9e809a68-544a-4a89-99b1-ff8e71e84777"
   },
   "outputs": [
    {
     "data": {
      "application/vnd.jupyter.widget-view+json": {
       "model_id": "a6c6255b6bfc48619ea20f49c8b702c8",
       "version_major": 2,
       "version_minor": 0
      },
      "text/plain": [
       "Downloading https://raw.githubusercontent.com/stanfordnlp/stanza-resources/main/resources_1.6.0.json:   0%|   …"
      ]
     },
     "metadata": {},
     "output_type": "display_data"
    },
    {
     "name": "stderr",
     "output_type": "stream",
     "text": [
      "2024-06-13 16:04:12 INFO: Downloading default packages for language: es (Spanish) ...\n",
      "2024-06-13 16:04:13 INFO: File exists: /home/imran/stanza_resources/es/default.zip\n",
      "2024-06-13 16:04:17 INFO: Finished downloading models and saved to /home/imran/stanza_resources.\n",
      "2024-06-13 16:04:17 INFO: Checking for updates to resources.json in case models have been updated.  Note: this behavior can be turned off with download_method=None or download_method=DownloadMethod.REUSE_RESOURCES\n"
     ]
    },
    {
     "data": {
      "application/vnd.jupyter.widget-view+json": {
       "model_id": "db694174fd8946fd955f302157754cb1",
       "version_major": 2,
       "version_minor": 0
      },
      "text/plain": [
       "Downloading https://raw.githubusercontent.com/stanfordnlp/stanza-resources/main/resources_1.6.0.json:   0%|   …"
      ]
     },
     "metadata": {},
     "output_type": "display_data"
    },
    {
     "name": "stderr",
     "output_type": "stream",
     "text": [
      "2024-06-13 16:04:18 INFO: Loading these models for language: es (Spanish):\n",
      "==================================\n",
      "| Processor    | Package         |\n",
      "----------------------------------\n",
      "| tokenize     | ancora          |\n",
      "| mwt          | ancora          |\n",
      "| pos          | ancora_charlm   |\n",
      "| lemma        | ancora_nocharlm |\n",
      "| constituency | combined_charlm |\n",
      "| depparse     | ancora_charlm   |\n",
      "| sentiment    | tass2020        |\n",
      "| ner          | conll02         |\n",
      "==================================\n",
      "\n",
      "2024-06-13 16:04:18 INFO: Using device: cuda\n",
      "2024-06-13 16:04:18 INFO: Loading: tokenize\n",
      "2024-06-13 16:04:18 INFO: Loading: mwt\n",
      "2024-06-13 16:04:18 INFO: Loading: pos\n",
      "2024-06-13 16:04:18 INFO: Loading: lemma\n",
      "2024-06-13 16:04:18 INFO: Loading: constituency\n",
      "2024-06-13 16:04:19 INFO: Loading: depparse\n",
      "2024-06-13 16:04:19 INFO: Loading: sentiment\n",
      "2024-06-13 16:04:19 INFO: Loading: ner\n",
      "2024-06-13 16:04:20 INFO: Done loading processors!\n"
     ]
    }
   ],
   "source": [
    "from statistics import mean\n",
    "import stanza\n",
    "stanza.download('es')\n",
    "nlp = stanza.Pipeline('es')"
   ]
  },
  {
   "cell_type": "code",
   "execution_count": 4,
   "metadata": {
    "colab": {
     "base_uri": "https://localhost:8080/",
     "height": 416,
     "referenced_widgets": [
      "a9ca8114ca814e319f18f5db7544e71d",
      "1e65794e3cd04f8ead60152b1f5c2fe4",
      "d6a6e0537a844f2fb68a6c50a1375a8c",
      "3790e18aa1074b6fbd155cbdac55f11d",
      "572a956688e24f9f95b5228eb0be13ba",
      "08542e1572b4438b96fe6713d8f26dce",
      "186e07c469a44ccaaa57d92da943ed0b",
      "f1d1b9d0d5af48b0af2dbbc373d78ed4",
      "cd56f477d3134a0383e3989bab7bf89b",
      "b66cd26c2589448f90ea49e78efb9e11",
      "6eb84946acb041449d2e16b21512428a"
     ]
    },
    "executionInfo": {
     "elapsed": 1976,
     "status": "ok",
     "timestamp": 1717441566270,
     "user": {
      "displayName": "Olga Kellert",
      "userId": "10697804426852394315"
     },
     "user_tz": -120
    },
    "id": "EIpfztdcBrNg",
    "outputId": "14dfad84-2508-423c-f002-e5150c2444ca"
   },
   "outputs": [
    {
     "name": "stderr",
     "output_type": "stream",
     "text": [
      "2024-06-13 16:04:20 INFO: Checking for updates to resources.json in case models have been updated.  Note: this behavior can be turned off with download_method=None or download_method=DownloadMethod.REUSE_RESOURCES\n"
     ]
    },
    {
     "data": {
      "application/vnd.jupyter.widget-view+json": {
       "model_id": "ff302f6fd8bf462293bc51c501a48524",
       "version_major": 2,
       "version_minor": 0
      },
      "text/plain": [
       "Downloading https://raw.githubusercontent.com/stanfordnlp/stanza-resources/main/resources_1.6.0.json:   0%|   …"
      ]
     },
     "metadata": {},
     "output_type": "display_data"
    },
    {
     "name": "stderr",
     "output_type": "stream",
     "text": [
      "2024-06-13 16:04:20 INFO: Loading these models for language: es (Spanish):\n",
      "===============================\n",
      "| Processor | Package         |\n",
      "-------------------------------\n",
      "| tokenize  | ancora          |\n",
      "| mwt       | ancora          |\n",
      "| pos       | ancora_charlm   |\n",
      "| lemma     | ancora_nocharlm |\n",
      "| depparse  | ancora_charlm   |\n",
      "===============================\n",
      "\n",
      "2024-06-13 16:04:20 INFO: Using device: cuda\n",
      "2024-06-13 16:04:20 INFO: Loading: tokenize\n",
      "2024-06-13 16:04:20 INFO: Loading: mwt\n",
      "2024-06-13 16:04:20 INFO: Loading: pos\n",
      "2024-06-13 16:04:21 INFO: Loading: lemma\n",
      "2024-06-13 16:04:21 INFO: Loading: depparse\n",
      "2024-06-13 16:04:21 INFO: Done loading processors!\n"
     ]
    }
   ],
   "source": [
    "nlp = stanza.Pipeline(lang='es', processors='tokenize,pos,mwt,lemma,depparse')"
   ]
  },
  {
   "cell_type": "markdown",
   "metadata": {
    "id": "zwxgrU7Tod4v"
   },
   "source": [
    "Process the dictionaries\n"
   ]
  },
  {
   "cell_type": "code",
   "execution_count": 5,
   "metadata": {
    "id": "BXSxQYcGBJIM"
   },
   "outputs": [],
   "source": [
    "# def populateDict(fileLocation):\n",
    "#     dic={}\n",
    "#     f = open(fileLocation, encoding='latin-1')\n",
    "#     for line in f:\n",
    "#         (key,value) = line.split()\n",
    "#         dic[key]=int(value.strip())\n",
    "#     return dic"
   ]
  },
  {
   "cell_type": "code",
   "execution_count": 6,
   "metadata": {
    "executionInfo": {
     "elapsed": 21,
     "status": "ok",
     "timestamp": 1717441589944,
     "user": {
      "displayName": "Olga Kellert",
      "userId": "10697804426852394315"
     },
     "user_tz": -120
    },
    "id": "9b6XLrhWI0pC"
   },
   "outputs": [],
   "source": [
    "def populateDict(filename):\n",
    "    dic = {}\n",
    "    encodings = ['utf-8', 'latin-1', 'cp1252']\n",
    "    for encoding in encodings:\n",
    "        try:\n",
    "            with open(filename, 'r', encoding=encoding) as file:\n",
    "                for line in file:\n",
    "                    try:\n",
    "                        #(key,value) = line.split()\n",
    "                        #dct[key]=float(value.strip())\n",
    "                        word, value = line.strip().split('\\t')\n",
    "                        dic[word] = float(value)\n",
    "                    except ValueError:\n",
    "                        print(\"Error parsing line:\", line)\n",
    "            return dic\n",
    "        except UnicodeDecodeError:\n",
    "            print(f\"Failed to decode using {encoding} encoding\")\n",
    "    print(\"Failed to decode the file using any of the specified encodings\")\n",
    "    return None"
   ]
  },
  {
   "cell_type": "code",
   "execution_count": null,
   "metadata": {},
   "outputs": [],
   "source": [
    "Dict = \"Dict1\" #Options [\"Dict1\", \"Dict2\", \"Dict3\", \"Dict4\"]\n",
    "mode = \"Stanza\" #Options [\"Model\", \"Stanza\"]"
   ]
  },
  {
   "cell_type": "code",
   "execution_count": null,
   "metadata": {},
   "outputs": [],
   "source": [
    "# Dict1 - SO-CAL\n",
    "if(Dict == \"Dict1\"):\n",
    "    dAdj = populateDict('../sentiment-dictionaries/spanish/so-cal/adj.txt')\n",
    "    dAdv = populateDict('../sentiment-dictionaries/spanish/so-cal/adv.txt')\n",
    "    dNoun = populateDict('../sentiment-dictionaries/spanish/so-cal/noun.txt')\n",
    "    dVerb = populateDict('../sentiment-dictionaries/spanish/so-cal/verb.txt')\n",
    "\n",
    "# Dict2 - Merged (SO-CAL + VADER)\n",
    "elif(Dict == \"Dict2\"):\n",
    "    dAdj = populateDict('../sentiment-dictionaries/spanish/vader/adj.txt')\n",
    "    dAdv = populateDict('../sentiment-dictionaries/spanish/vader/adv.txt')\n",
    "    dNoun = populateDict('../sentiment-dictionaries/spanish/vader/noun.txt')\n",
    "    dVerb = populateDict('../sentiment-dictionaries/spanish/vader/verb.txt')\n",
    "\n",
    "# Dict3 - Rest-Mex Only\n",
    "elif(Dict == \"Dict3\"):\n",
    "    dAdj = populateDict('../sentiment-dictionaries/spanish/Rest-Mex-Only/adj.txt')\n",
    "    dAdv = populateDict('../sentiment-dictionaries/spanish/Rest-Mex-Only/adv.txt')\n",
    "    dNoun = populateDict('../sentiment-dictionaries/spanish/Rest-Mex-Only/noun.txt')\n",
    "    dVerb = populateDict('../sentiment-dictionaries/spanish/Rest-Mex-Only/verb.txt')\n",
    "\n",
    "# Dict4 - Merged (Rest-Mex + SO-CAL + VADER)\n",
    "elif(Dict == \"Dict4\"):\n",
    "    dAdj = populateDict('../sentiment-dictionaries/spanish/Rest-Mex/adj.txt')\n",
    "    dAdv = populateDict('../sentiment-dictionaries/spanish/Rest-Mex/adv.txt')\n",
    "    dNoun = populateDict('../sentiment-dictionaries/spanish/Rest-Mex/noun.txt')\n",
    "    dVerb = populateDict('../sentiment-dictionaries/spanish/Rest-Mex/verb.txt')\n",
    "\n",
    "# Sentdicts\n",
    "sentdicts={\"ADV\": dAdv, \"ADJ\": dAdj, \"NOUN\": dNoun, \"VERB\": dVerb}"
   ]
  },
  {
   "cell_type": "code",
   "execution_count": 10,
   "metadata": {
    "executionInfo": {
     "elapsed": 35,
     "status": "ok",
     "timestamp": 1717441593719,
     "user": {
      "displayName": "Olga Kellert",
      "userId": "10697804426852394315"
     },
     "user_tz": -120
    },
    "id": "6AMIS106pWf6"
   },
   "outputs": [],
   "source": [
    "lstNeg =['nadie','tampoco','no','ez','non','no','nunca','não','nada','ni','nunca','ningun','ninguno','ninguna','nisiquiera', \"sin\"]###new list of negation elements\n"
   ]
  },
  {
   "cell_type": "code",
   "execution_count": 11,
   "metadata": {
    "executionInfo": {
     "elapsed": 33,
     "status": "ok",
     "timestamp": 1717441593720,
     "user": {
      "displayName": "Olga Kellert",
      "userId": "10697804426852394315"
     },
     "user_tz": -120
    },
    "id": "pXRbbc0YGICS"
   },
   "outputs": [],
   "source": [
    "# Dictionary of modifiers/intensifiers in Spanish\n",
    "dInt = populateDict('../sentiment-dictionaries/spanish/intensifiers.txt')"
   ]
  },
  {
   "cell_type": "code",
   "execution_count": 12,
   "metadata": {
    "executionInfo": {
     "elapsed": 32,
     "status": "ok",
     "timestamp": 1717441593721,
     "user": {
      "displayName": "Olga Kellert",
      "userId": "10697804426852394315"
     },
     "user_tz": -120
    },
    "id": "uEhGKI6vzNcl"
   },
   "outputs": [],
   "source": [
    "#updated on May 14\n",
    "dictionaries = [dAdj, dNoun, dVerb, dAdv] # 14.5 important!!! This code snippet makes sure that intensifiers do not match sentiment words\n",
    "\n",
    "# Iterate through each dictionary\n",
    "for d in dictionaries:\n",
    "    # Iterate through the keys of dInt\n",
    "    for key in dInt.keys():\n",
    "        # Check if the key exists in the current dictionary\n",
    "        if key in d:\n",
    "            # Delete the entry from the current dictionary\n",
    "            del d[key]"
   ]
  },
  {
   "cell_type": "code",
   "execution_count": 13,
   "metadata": {
    "colab": {
     "base_uri": "https://localhost:8080/"
    },
    "id": "IDNmYz84YkCm",
    "outputId": "d6ccd412-70a9-4f09-c310-74759c390e38"
   },
   "outputs": [
    {
     "data": {
      "text/plain": [
       "5.0"
      ]
     },
     "execution_count": 13,
     "metadata": {},
     "output_type": "execute_result"
    }
   ],
   "source": [
    "max(dAdv.values())"
   ]
  },
  {
   "cell_type": "code",
   "execution_count": 14,
   "metadata": {
    "colab": {
     "base_uri": "https://localhost:8080/"
    },
    "id": "XFhKNDrbcYXG",
    "outputId": "91665093-b3bf-4137-d016-efb5680201e7"
   },
   "outputs": [
    {
     "data": {
      "text/plain": [
       "-5.0"
      ]
     },
     "execution_count": 14,
     "metadata": {},
     "output_type": "execute_result"
    }
   ],
   "source": [
    "min(dAdv.values())"
   ]
  },
  {
   "cell_type": "code",
   "execution_count": 15,
   "metadata": {
    "colab": {
     "base_uri": "https://localhost:8080/"
    },
    "id": "69SdNGoFcb7O",
    "outputId": "fd8de37b-1d68-470b-c7c5-e2541c0ca9f9"
   },
   "outputs": [
    {
     "data": {
      "text/plain": [
       "5.0"
      ]
     },
     "execution_count": 15,
     "metadata": {},
     "output_type": "execute_result"
    }
   ],
   "source": [
    "max(dAdj.values())"
   ]
  },
  {
   "cell_type": "code",
   "execution_count": 16,
   "metadata": {
    "colab": {
     "base_uri": "https://localhost:8080/"
    },
    "id": "Cip02yT5cgWC",
    "outputId": "b75277e6-00a0-4196-deb0-973985541db0"
   },
   "outputs": [
    {
     "data": {
      "text/plain": [
       "-5.0"
      ]
     },
     "execution_count": 16,
     "metadata": {},
     "output_type": "execute_result"
    }
   ],
   "source": [
    "min(dAdj.values())"
   ]
  },
  {
   "cell_type": "code",
   "execution_count": 17,
   "metadata": {},
   "outputs": [
    {
     "name": "stdout",
     "output_type": "stream",
     "text": [
      "cuda\n"
     ]
    }
   ],
   "source": [
    "if(mode == 'Model'):\n",
    "    device = torch.device(\"cuda\" if torch.cuda.is_available() else \"cpu\")\n",
    "    print(device)\n",
    "    tokenizer = AutoTokenizer.from_pretrained(\"dccuchile/distilbert-base-spanish-uncased\")\n",
    "    model = AutoModelForTokenClassification.from_pretrained(\"../parsers/models/rel-distilbert-es/model\")\n",
    "elif(mode == \"Stanza\"):\n",
    "    pass"
   ]
  },
  {
   "cell_type": "code",
   "execution_count": 18,
   "metadata": {
    "executionInfo": {
     "elapsed": 29,
     "status": "ok",
     "timestamp": 1717441593721,
     "user": {
      "displayName": "Olga Kellert",
      "userId": "10697804426852394315"
     },
     "user_tz": -120
    },
    "id": "ASfNkptN8msB"
   },
   "outputs": [],
   "source": [
    "### analysing a string (=sent) with Stanza\n",
    "def createDic(sent):\n",
    "    doc = nlp(sent)\n",
    "    dicts=doc.to_dict()\n",
    "    return dicts # lists of sentences where each sentence is split into words and each word has a dictionary\n",
    "\n",
    "def createDicModel(text, spacy_data):\n",
    "    try:\n",
    "        tokens_with_spacy = spacy_data['tokens']\n",
    "        if tokens_with_spacy[-1] == '\\n':\n",
    "            tokens_with_spacy = tokens_with_spacy[:-1]\n",
    "\n",
    "        tokenized_text = pre_tokenized_text(tokens_with_spacy)\n",
    "        # Example pre-tokenized text/data\n",
    "        #tokenized_text = [\"[CLS]\", 'I', 'do', \"n't\", 'eat', 'very', 'much', 'pieces', 'of', 'chocolate', '.', \"[SEP]\"]\n",
    "\n",
    "        # Convert tokens to input IDs using the tokenizer\n",
    "        input_ids = tokenizer.convert_tokens_to_ids(tokenized_text)\n",
    "\n",
    "        # Create input tensors\n",
    "        input_ids = torch.tensor(input_ids).unsqueeze(0)  # Add a batch dimension\n",
    "\n",
    "        with torch.no_grad():\n",
    "            #logits = model(**inputs).logits\n",
    "            logits = model(input_ids).logits\n",
    "\n",
    "            predictions = torch.argmax(logits, dim=2)\n",
    "            predicted_token_class = [model.config.id2label[t.item()] for t in predictions[0][1:-1]]\n",
    "\n",
    "        words = tokens_with_spacy\n",
    "        postags = spacy_data['postags']\n",
    "        if postags[-1] == 'SPACE':\n",
    "            postags = postags[:-1]\n",
    "        labels = []\n",
    "        for p in predicted_token_class:\n",
    "            if(p != '[CLS]' and p != '[SEP]'):\n",
    "                labels.append(D_Label.from_string(p, sep=\"_\"))\n",
    "        lin_tree = LinearizedTree(words=words, postags=postags,\n",
    "                    additional_feats=[], labels=labels, n_feats=0)\n",
    "\n",
    "        encoder = D_NaiveRelativeEncoding(separator=\"_\", hang_from_root=True)\n",
    "        dec_tree = encoder.decode(lin_tree)\n",
    "        dec_tree.postprocess_tree(search_root_strat=D_ROOT_HEAD, allow_multi_roots=False)\n",
    "        dec_tree = str(dec_tree)\n",
    "\n",
    "        return [tree2dic_optim(dec_tree, spacy_data['lemmas'])]\n",
    "    except Exception as e:\n",
    "        print(\"Model Inference Error: \" + str(e))"
   ]
  },
  {
   "cell_type": "code",
   "execution_count": 22,
   "metadata": {
    "executionInfo": {
     "elapsed": 23,
     "status": "ok",
     "timestamp": 1717441593722,
     "user": {
      "displayName": "Olga Kellert",
      "userId": "10697804426852394315"
     },
     "user_tz": -120
    },
    "id": "oawAlJB70cTo"
   },
   "outputs": [],
   "source": [
    "def FilterNonLemmaWords(Sentence): # this function deletes problematic lemmas like Spanish: hacerlo\n",
    "    FilteredSentence=[word for word in Sentence if 'lemma' in word.keys()]\n",
    "    return (FilteredSentence)"
   ]
  },
  {
   "cell_type": "code",
   "execution_count": 23,
   "metadata": {
    "executionInfo": {
     "elapsed": 23,
     "status": "ok",
     "timestamp": 1717441593723,
     "user": {
      "displayName": "Olga Kellert",
      "userId": "10697804426852394315"
     },
     "user_tz": -120
    },
    "id": "KYidodvj7-os"
   },
   "outputs": [],
   "source": [
    "def CreateDefaultElementType(Sentence): # assigns to each lemma a default element type 'ord'\n",
    "    for i in range(len(Sentence)):\n",
    "        Sentence[i]['elementType'] = 'ord'\n",
    "    return (Sentence)"
   ]
  },
  {
   "cell_type": "code",
   "execution_count": 24,
   "metadata": {
    "executionInfo": {
     "elapsed": 21,
     "status": "ok",
     "timestamp": 1717441593723,
     "user": {
      "displayName": "Olga Kellert",
      "userId": "10697804426852394315"
     },
     "user_tz": -120
    },
    "id": "r1Dln53xB_u3"
   },
   "outputs": [],
   "source": [
    "# Set element score from Sentiment dictionaries\n",
    "def GetElementScore(Sentence):\n",
    "    for i in range(len(Sentence)):\n",
    "        lem = Sentence[i]['lemma']\n",
    "        upos = Sentence[i]['upos']\n",
    "\n",
    "        if upos == 'ADJ' and lem in dAdj.keys():\n",
    "            Sentence[i]['elementScore']=dAdj[lem]\n",
    "        elif upos == 'ADV' and lem in dAdv.keys():\n",
    "            Sentence[i]['elementScore']=dAdv[lem]\n",
    "        elif upos == 'VERB' and lem in dVerb.keys():\n",
    "            Sentence[i]['elementScore']=dVerb[lem]\n",
    "        elif upos == 'NOUN' and lem in dNoun.keys():\n",
    "            Sentence[i]['elementScore']=dNoun[lem]\n",
    "        else:\n",
    "            Sentence[i]['elementScore']='none'\n",
    "    return Sentence"
   ]
  },
  {
   "cell_type": "code",
   "execution_count": 25,
   "metadata": {
    "executionInfo": {
     "elapsed": 18,
     "status": "ok",
     "timestamp": 1717441593723,
     "user": {
      "displayName": "Olga Kellert",
      "userId": "10697804426852394315"
     },
     "user_tz": -120
    },
    "id": "APi7ZyrBX4G4"
   },
   "outputs": [],
   "source": [
    "def InitializeSentimentScore(Sentence): # default is a Sentiment Score\n",
    "    for i in range(len(Sentence)):\n",
    "        Sentence[i]['SentimentScore']='none'\n",
    "    return Sentence"
   ]
  },
  {
   "cell_type": "code",
   "execution_count": 26,
   "metadata": {
    "executionInfo": {
     "elapsed": 17,
     "status": "ok",
     "timestamp": 1717441593723,
     "user": {
      "displayName": "Olga Kellert",
      "userId": "10697804426852394315"
     },
     "user_tz": -120
    },
    "id": "vpak5DOWfgaG"
   },
   "outputs": [],
   "source": [
    "### Creating dctChild dictionary: key= headid, value= a list of childrenids\n",
    "def getChildParentDicts(dct):\n",
    "    dctChild       = {} ## for now, this dictionary is important\n",
    "    dctParent      = {}\n",
    "    dctBeforeToken = {}\n",
    "\n",
    "    for dicVal in dct:\n",
    "        #print(dicVal)\n",
    "        elementID          = dicVal['id']\n",
    "        elementHead        = dicVal['head']\n",
    "        elementLemma       = dicVal['lemma']\n",
    "\n",
    "        #print(type(dct))\n",
    "        if(elementID != 1 ):\n",
    "            eleBeforeDic = dct[int(elementID)-2]\n",
    "            elementBeforLemma = eleBeforeDic['lemma']\n",
    "            #print(elementID, elementLemma, eleBeforeDic, eleBeforeDic['lemma'], elementBeforLemma)\n",
    "        else:\n",
    "            elementBeforLemma = \"-\"\n",
    "\n",
    "        # dic parent is done\n",
    "        dctParent[elementID] = elementHead\n",
    "        dctBeforeToken[elementLemma] =elementBeforLemma\n",
    "\n",
    "        if elementHead not in dctChild.keys():\n",
    "            dctChild[elementHead] =[]\n",
    "\n",
    "        # Adding to the parent node (Elements and ElementsLemma)\n",
    "        dctChild[elementHead].append(elementID)\n",
    "\n",
    "    # working on Sibling dictionary\n",
    "    dctSibling = {}\n",
    "\n",
    "    # Giviing some default values\n",
    "    for key in dctParent.keys():\n",
    "        dctSibling[key]=[]\n",
    "    for key in dctChild.keys():\n",
    "        childList = dctChild[key]\n",
    "        #print(childList)\n",
    "        for chld in childList:\n",
    "          #print(\"Child is: \", chld)\n",
    "          dctSibling[chld] = [x for x in childList if x != chld]\n",
    "    return dctChild, dctParent, dctSibling, dctBeforeToken"
   ]
  },
  {
   "cell_type": "code",
   "execution_count": 27,
   "metadata": {
    "executionInfo": {
     "elapsed": 16,
     "status": "ok",
     "timestamp": 1717441593724,
     "user": {
      "displayName": "Olga Kellert",
      "userId": "10697804426852394315"
     },
     "user_tz": -120
    },
    "id": "RjqWUmr-GKLN"
   },
   "outputs": [],
   "source": [
    "#### definining the ORDER of key-value pairs from dctChild, which equal tree branches in a dependency tree. The order follows from branches at the bottom that are simple branches (sb) to complex branches (cb), e.g. [a [very good]-sb service]-cb\n",
    "def calcbranchorder(dctChild):\n",
    "    #print(\"dctChild.keys are\", list(dctChild.keys()))\n",
    "    if list(dctChild.keys())==[0]:\n",
    "        calcheads=[0]\n",
    "        #print(\"only one word\")\n",
    "    else:\n",
    "        allheads=list(dctChild.keys())\n",
    "        calcheads=[]\n",
    "        children=dctChild[0]\n",
    "        nextchildren=[]\n",
    "        numchildren=len(children)\n",
    "        #print(\"numchildren is\", numchildren)\n",
    "        while numchildren > 0:\n",
    "            nextchildren=[]\n",
    "            #print('numchildren = ', numchildren)\n",
    "            for child in children:\n",
    "                #print('child = ', child)\n",
    "                if child in allheads:\n",
    "                    #print('headchild = ', child)\n",
    "                    calcheads.append(child)\n",
    "                    nextchildren = nextchildren + dctChild[child]\n",
    "                    #print('calcheads = ', calcheads)\n",
    "                    #print('nextchildren = ', nextchildren)\n",
    "            children=nextchildren\n",
    "            numchildren=len(children)\n",
    "        calcheads.reverse()\n",
    "    #print('branch order = ', calcheads)\n",
    "    return calcheads"
   ]
  },
  {
   "cell_type": "markdown",
   "metadata": {
    "id": "e93tN1ryW0CC"
   },
   "source": [
    "Compute the Sentence Score"
   ]
  },
  {
   "cell_type": "code",
   "execution_count": 28,
   "metadata": {
    "executionInfo": {
     "elapsed": 286,
     "status": "ok",
     "timestamp": 1717447460011,
     "user": {
      "displayName": "Olga Kellert",
      "userId": "10697804426852394315"
     },
     "user_tz": -120
    },
    "id": "bsYsqyjnGaZf"
   },
   "outputs": [],
   "source": [
    "################################ to deal with conjunction ############\n",
    "# this code snippet is a definition that takes a list of word dictionaries (=dct) and spits out a modified dct with updated elementScore that depends on sentiment words being modified by elements like intensification, negation, adversative modifiers.\n",
    "\n",
    "from pickle import TRUE\n",
    "def calcbranch(dct, headId,childIds):\n",
    "    #dct is a list of word dictionaries like Sentence\n",
    "    lstchildren=[dct[childId-1][\"text\"] + \"({},{})\".format(childId, dct[childId-1][\"deprel\"]) for childId in childIds]\n",
    "    #print(\"head: {}({}), children: {}\".format(dct[headId-1][\"text\"], headId, lstchildren) )\n",
    "####finding relevant elements in each branch\n",
    "    a=0\n",
    "    b=0\n",
    "    c=0\n",
    "    neg=0\n",
    "    p=0\n",
    "    pvalue=0.25\n",
    "    negvalue=-4\n",
    "    Negstat=False\n",
    "    fmodstat=False\n",
    "    lexmodstat=False\n",
    "    conjmodstat=False\n",
    "    lexstat=False\n",
    "    lstcntchildren=[]\n",
    "    lstmodification=[]\n",
    "    lstnegation=[]\n",
    "    PrintList=[]\n",
    "    \n",
    "    # default outputs\n",
    "    HeadOutput=[]\n",
    "    NegOutput=[]\n",
    "    ModOutput=[]\n",
    "\n",
    "    #### starting with children of the branch\n",
    "    PrintList.append('Number of Children: {}'.format(len(childIds)))\n",
    "    for i in range(len(childIds)):\n",
    "        childId=childIds[i]\n",
    "        lemma=dct[childId-1][\"lemma\"]\n",
    "        text=dct[childId-1][\"text\"]\n",
    "        pos=dct[childId-1][\"upos\"]#\n",
    "        deprel=dct[childId-1][\"deprel\"] # head, amod, nmod, mod in deprel\n",
    "        elementScore=dct[childId-1][\"elementScore\"]\n",
    "        if dct[childId-1][\"SentimentScore\"]!='none':\n",
    "            SentimentScore=dct[childId-1][\"SentimentScore\"]\n",
    "        else:\n",
    "            SentimentScore=elementScore\n",
    "        #lstchildren[i]=lstchildren[i] + \"({})\".format(deprel)\n",
    "\n",
    "        if lemma in lstNeg: # find negation\n",
    "            ### Child cannot be a head. ###\n",
    "            Negstat=True\n",
    "            neg=negvalue\n",
    "            lstchildren[i]=lstchildren[i] + \"({})\".format(\"N\")\n",
    "            dct[childId-1]['elementType']='neg'\n",
    "            #print(\"negation token is: \", text, \"negation childid is: \", childId, \"the negation value is: \", neg) #information for the demo\n",
    "            PrintList.append(\"Child{}: '{}'({}), Neg={}\".format(i, text, childId, neg)) # important for the demo\n",
    "            NegOutput=[text,neg]\n",
    "        elif text == 'un' and pos==\"DET\" and deprel == 'advmod': # 31.5 accounting for \"un poco as in un poco triste or ofrece un poco.\"\n",
    "            fmodstat = True\n",
    "            b=-0.3\n",
    "            lstchildren[i]=lstchildren[i] + \"(un poco={})\".format(b)\n",
    "            ModOutput=[text,b]\n",
    "        elif lemma in dInt.keys() and ('mod' in deprel or 'det' in deprel or 'obj' in deprel):# new added 26 May,  find intensification\n",
    "            ### Child cannot be a head. ###\n",
    "            fmodstat = True\n",
    "            PrevExists=(childId-2) >= 0\n",
    "            NextExists=childId <= len(dct)-1\n",
    "            if PrevExists:\n",
    "                PrevIsInt=dct[childId - 2][\"lemma\"] in dInt.keys()\n",
    "                PrevIsNeg=dct[childId - 2][\"lemma\"] in lstNeg\n",
    "                PrevIsHead=dct[childId - 2][\"head\"]==dct[childId-1][\"id\"]\n",
    "            else:\n",
    "                PrevIsInt=False\n",
    "                PrevIsNeg=False\n",
    "                PrevIsHead=False\n",
    "            if NextExists:\n",
    "                NextIsInt=dct[childId][\"lemma\"] in dInt.keys()\n",
    "            else:\n",
    "                NextIsInt=False\n",
    "            if PrevIsInt==False and NextIsInt==False: # single intensifier found, e.g. a VERY good service\n",
    "                if PrevIsNeg and PrevIsHead: # looking for head negation of a single intensifier, e.g. not many problems (Stanza analyses not as a head of many)\n",
    "                    if dInt[lemma] >0:\n",
    "                        b= -abs(dInt[lemma])\n",
    "                    if dInt[lemma] <0:\n",
    "                        b = abs(dInt[lemma])\n",
    "                else:\n",
    "                    b = dInt[lemma]\n",
    "                #print(\"{}single modifier={}({}), b={}\".format(indent, text, childId, b)) ###new 23.5\n",
    "                PrintList.append(\"single modifier={}({}), b={}\".format(text, childId, b)) ###new 23.5\n",
    "                PrintList.append(\"Child{}: '{}'({}), 1b={}\".format(i, text, childId, b))\n",
    "                lstchildren[i]=lstchildren[i] + \"(1b={})\".format(b)\n",
    "                ModOutput=[text,b]\n",
    "            elif PrevIsInt: #double modifier found, e.g. little bit, very small, etc.\n",
    "                lemma2=dct[childId - 2][\"lemma\"]\n",
    "                fmodscore=dInt[lemma]*(1+dInt[lemma2]) # a compound b or 2b\n",
    "                b=fmodscore\n",
    "                #print(\"double modifier is:\", text, \"childid is: \", childId, \"the value of double modifier is: \",  b) ###new 22.5\n",
    "                PrintList.append(\"double modifier={}({}), b={}\".format(text, childId, b)) ###new 23.5, double modifier\n",
    "                PrintList.append(\"Child{}: '{}'({}), 2b={}\".format(i, text, childId, b))\n",
    "                lstchildren[i]=lstchildren[i] + \"(2b={})\".format(b)\n",
    "                ModOutput=[\"{}, {}\".format(dct[childId - 2][\"text\"], text), b]\n",
    "            else:\n",
    "                PrintList.append(\"Child{}: '{}'({}), first part of 2b={}\".format(i, text, childId, b))\n",
    "                lstchildren[i]=lstchildren[i] + \"(2b={})\".format(b)\n",
    "        #elif pos in sentdicts.keys(): # used before 1.6., only processes it if lexmodstat is not satisfied\n",
    "        elif (lemma in sentdicts.keys() or SentimentScore!='none') and 'cl' not in deprel and 'conj' not in deprel: # children are neither adj, verbs, nouns or adverbs, but pronouns with a SentimenSscore\n",
    "            lexmodstat=True\n",
    "            a=SentimentScore\n",
    "            lstchildren[i]=lstchildren[i] + \"(a={})\".format(SentimentScore)\n",
    "              #PrintList.append(\"Child{}: '{}'({}), elementScore={}, SentimentScore, a={}\".format(i, text, childId, elementScore, SentimentScore))\n",
    "        elif (lemma in sentdicts.keys() or SentimentScore!='none') and ('cl' in deprel or 'conj' in deprel):\n",
    "            conjmodstat=True\n",
    "            c=SentimentScore\n",
    "            lstchildren[i]=lstchildren[i] + \"(c={})\".format(SentimentScore)\n",
    "        elif lemma in ['pero', 'obstante', 'sino', 'aunque', 'malgrado']:\n",
    "            ### Child cannot be a head. ###\n",
    "            p=pvalue\n",
    "            lstchildren[i]=lstchildren[i] + \"(p={})\".format(p)\n",
    "            #print(\"but is present and has the value of: \", p) # for the demo\n",
    "            #PrintList.append(\"{} is present, p=\".format(lemma, p)) # for the demo\n",
    "            PrintList.append(\"Child{}: '{}'({}), p={}\".format(i, text, childId, p))\n",
    "        else:\n",
    "            lstchildren[i]=lstchildren[i] + \"({}={})\".format(pos,SentimentScore)\n",
    "            PrintList.append(\"Child{}: '{}'({})\".format(i, text, childId))\n",
    "        #print(\"child: \", childId, text, elementScore)\n",
    "    PrintList.append(\"Children-derived score elements: a={}, c={}, b={}, neg={}, p={}\".format(a, c, b, neg, p))\n",
    "######################################################################################################################################\n",
    "####continuing with parents/heads of the branch ###\n",
    "    lemma=dct[headId-1][\"lemma\"]\n",
    "    pos=dct[headId-1][\"upos\"]\n",
    "    deprel= dct[headId-1][\"deprel\"]\n",
    "    text= dct[headId-1][\"text\"]\n",
    "    #headmodstat= \"mod\" in deprel or 'conj' in deprel\n",
    "    headmodstat= \"mod\" in deprel\n",
    "    #headmodstat= \"mod\" in deprel or 'DET' in 'upos' #new\n",
    "    headscore=\"none\"\n",
    "    headsentimentscore='none'\n",
    "    childp=p\n",
    "    head_a=0\n",
    "    head_b=0\n",
    "    head_neg=0\n",
    "    head_p=0\n",
    "    calc_a, calc_b, calc_neg, calc_p = 0, 0, 0, 0\n",
    "    words_to_match = [\"barbaridad\", \"par\", \"montón\"]\n",
    "    #deprel_to_match = [\"advmod\", \"obj\"]\n",
    "    lstheads=[]\n",
    "\n",
    "    if lemma== \"nada\":\n",
    "        head_neg=negvalue\n",
    "        headsentimentscore=(a * (1+b)  + (np.sign(a*(1+b)))* head_neg)*(1+p) # new update on 3rd of June\n",
    "        dct[headId-1][\"SentimentScore\"]= headsentimentscore #new\n",
    "        PrintList.append(\"Head: '{}'({}), 'nada'={}, SentimentScore={}\".format(text, headId, head_neg, headsentimentscore))\n",
    "        lstheads.append([text,head_neg, headsentimentscore])\n",
    "    elif lemma in words_to_match and pos ==\"NOUN\":\n",
    "        fmodscore= dInt[lemma]\n",
    "        head_b=fmodscore\n",
    "        fmodstat=True\n",
    "        if True: #all([(type(x) is int) or (type(x) is float) for x in [a, head_b, p, neg]]):\n",
    "            headsentimentscore=(a * (1+head_b)  + (np.sign(a*(1+head_b)))* neg)*(1+p) # new 25.5\n",
    "            #headsentimentscore=(childsentimentscore * (1+head_b)  + (np.sign(childsentimentscore*(1+head_b)))* neg)*(1+p)# new 26.5\n",
    "            dct[headId-1][\"SentimentScore\"]= headsentimentscore #new\n",
    "            PrintList.append(\"Head: '{}'({}), head intensifier, b={}, SentimentScore={}\".format(text, headId, head_b, headsentimentscore))\n",
    "            HeadOutput=[text, a, headsentimentscore]\n",
    "            PrintList.append(\"HeadOutput {}\".format(HeadOutput))\n",
    "        else:\n",
    "            PrintList.append(\"Head: '{}'({}), a, b, p or neg is not a number, SentimentScore={}\".format(text, headId, headsentimentscore))\n",
    "            calc_a, calc_b, calc_neg, calc_p = a, head_b, neg, p\n",
    "    elif lexmodstat and conjmodstat: # if one of the children is a lexical head, then do the calculation of headsentimentscore.\n",
    "        if True: #all([(type(x) is int) or (type(x) is float) for x in [a, b, p, neg]]):\n",
    "            calc_a, calc_b, calc_neg, calc_p = a, b, neg, p\n",
    "            headsentimentscore=np.mean([((a * (1+b)  + (np.sign(a*(1+b)))* neg)*(1+p)), c]) # new 3.6.\n",
    "            #headsentimentscore=(childsentimentscore * (1+b)  + (np.sign(childsentimentscore*(1+b)))* neg)*(1+p) # 26.5\n",
    "            dct[headId-1][\"SentimentScore\"]= headsentimentscore # the head gets the polarity score of the child\n",
    "            PrintList.append(\"Head: '{}'({}), child is a sentiment word with a conjunction, a={},c={}, SentimentScore={}\".format(text, headId, a, c, headsentimentscore)) # 25.5.\n",
    "            #PrintList.append(\"Head inheriting Childfeatures: '{}'({}), childsentimentscore={}, SentimentScore={}\".format(text, headId, childsentimentscore, headsentimentscore)) # 26.5.\n",
    "            HeadOutput=[text, a, headsentimentscore]\n",
    "            PrintList.append(\"HeadOutput {}\".format(HeadOutput))\n",
    "        else:\n",
    "            PrintList.append(\"Head: '{}'({}), a, b, p or neg is not a number, SentimentScore={}\".format(text, headId, a, headsentimentscore))\n",
    "    elif lexmodstat and conjmodstat!=True: # if one of the children is a lexical head, then do the calculation of headsentimentscore.\n",
    "        if True: #all([(type(x) is int) or (type(x) is float) for x in [a, b, p, neg]]):\n",
    "            calc_a, calc_b, calc_neg, calc_p = a, b, neg, p\n",
    "            headsentimentscore=(a * (1+b)  + (np.sign(a*(1+b)))* neg)*(1+p)#25.5.\n",
    "            #headsentimentscore=(childsentimentscore * (1+b)  + (np.sign(childsentimentscore*(1+b)))* neg)*(1+p) # 26.5\n",
    "            dct[headId-1][\"SentimentScore\"]= headsentimentscore # the head gets the polarity score of the child\n",
    "            PrintList.append(\"Head: '{}'({}), child is a sentiment word, a={}, SentimentScore={}\".format(text, headId, a, headsentimentscore)) # 25.5.\n",
    "            #PrintList.append(\"Head inheriting Childfeatures: '{}'({}), childsentimentscore={}, SentimentScore={}\".format(text, headId, childsentimentscore, headsentimentscore)) # 26.5.\n",
    "            HeadOutput=[text, a, headsentimentscore]\n",
    "            PrintList.append(\"HeadOutput {}\".format(HeadOutput))\n",
    "        else:\n",
    "            PrintList.append(\"Head: '{}'({}), a, b, p or neg is not a number, SentimentScore={}\".format(text, headId, a, headsentimentscore))\n",
    "    elif pos in sentdicts.keys() and conjmodstat!=True: #only processes if lexmodstat (=child has a sentimentscore) is not satisfied\n",
    "        dsent= sentdicts[pos]\n",
    "        if lemma in dsent.keys():\n",
    "            headscore=dsent[lemma]\n",
    "            head_a=dsent[lemma]\n",
    "            headsentimentscore=(head_a * (1+b)  + (np.sign(head_a*(1+b)))* neg)*(1+p)\n",
    "            PrintList.append(\"Head: '{}'({}), head is a sentiment word, head_a={}, SentimentScore={}\".format(text, headId, head_a, headsentimentscore))\n",
    "            HeadOutput=[text, a, headsentimentscore]\n",
    "            PrintList.append(\"HeadOutput {}\".format(HeadOutput))\n",
    "            dct[headId-1][\"SentimentScore\"]= headsentimentscore\n",
    "           \n",
    "    elif pos in sentdicts.keys() and conjmodstat: #only processes if lexmodstat (=child has a sentimentscore) is not satisfied\n",
    "        dsent= sentdicts[pos]\n",
    "        if lemma in dsent.keys(): #or SentimentScore!='none':\n",
    "            headscore=dsent[lemma]\n",
    "            head_a=dsent[lemma]\n",
    "            headsentimentscore=np.mean([((head_a * (1+b)  + (np.sign(head_a*(1+b)))* neg)*(1+p)), c])\n",
    "            PrintList.append(\"Head: '{}'({}), head is a sentiment word with a conjunction head, head_a={}, SentimentScore={}\".format(text, headId, head_a, headsentimentscore))\n",
    "            HeadOutput=[text, a, headsentimentscore]\n",
    "            PrintList.append(\"HeadOutput {}\".format(HeadOutput))\n",
    "            dct[headId-1][\"SentimentScore\"]= headsentimentscore\n",
    "        else: #only processes if lexmodstat (=child has a sentimentscore) is not satisfied\n",
    "            headsentimentscore=c\n",
    "            PrintList.append(\"Head: '{}'({}), head has no sentiment word with a conjunction head, c={}, SentimentScore={}\".format(text, headId, head_a, headsentimentscore))\n",
    "            HeadOutput=[text, c, headsentimentscore]\n",
    "            PrintList.append(\"HeadOutput {}\".format(HeadOutput))\n",
    "            dct[headId-1][\"SentimentScore\"]= headsentimentscore\n",
    "    else:\n",
    "        PrintList.append(\"Head: '{}'({}), No calculation possible, SentimentScore={}\".format(text, headId, headsentimentscore))\n",
    "    #PrintList.append(\"Head-derived score elements: head_a={}, head_b={}, head_neg={}, head_p={}\".format(head_a, head_b, head_neg, head_p))\n",
    "    #PrintList.append(\"Calculation score elements: calc_a={}, calc_b={}, calc_neg={}, calc_p={}\".format(calc_a, calc_b, calc_neg, calc_p))\n",
    "    #PrintList.append('Result of Calculation:')\n",
    "    #PrintList.append(\"head: {}({}), children: {}\".format(dct[headId-1][\"text\"], headId, lstchildren))\n",
    "    #print(\"list of heads:\", lstheads)\n",
    "    #print(\"list of negation:\", lstnegation)\n",
    "    #print(\"list of modification:\", lstmodification)\n",
    "    #print(\"ListChildren is:\", lstchildren) #new 27.5.\n",
    "    PrintList.append(\"HeadOutput {}\".format(HeadOutput))\n",
    "    return dct, HeadOutput, NegOutput, ModOutput"
   ]
  },
  {
   "cell_type": "code",
   "execution_count": 29,
   "metadata": {
    "executionInfo": {
     "elapsed": 284,
     "status": "ok",
     "timestamp": 1717441643833,
     "user": {
      "displayName": "Olga Kellert",
      "userId": "10697804426852394315"
     },
     "user_tz": -120
    },
    "id": "k7yNagNtMbnC"
   },
   "outputs": [],
   "source": [
    "def GetSentenceWords(Sentence): # important for the demo\n",
    "    #Sentence is a list of word dictionaries\n",
    "    lstwords=[]\n",
    "    for word in Sentence:\n",
    "        lstwords.append(word[\"text\"])\n",
    "    return (lstwords)"
   ]
  },
  {
   "cell_type": "code",
   "execution_count": 30,
   "metadata": {
    "executionInfo": {
     "elapsed": 238,
     "status": "ok",
     "timestamp": 1717447464074,
     "user": {
      "displayName": "Olga Kellert",
      "userId": "10697804426852394315"
     },
     "user_tz": -120
    },
    "id": "wWPJpjCfauKn"
   },
   "outputs": [],
   "source": [
    "#for one-word sentences\n",
    "\n",
    "def calcSentenceScore(dct): # dct= Sentence which is a list of word dictionaries and the function takes only one sentence\n",
    "    lstScores=[]\n",
    "    lstHeadOutput=[]\n",
    "    lstModOutput=[]\n",
    "    lstNegOutput=[]\n",
    "    PrintList = []\n",
    "    try:\n",
    "        dctChild, dctParent, dctSibling, dctBeforeToken = getChildParentDicts(dct)\n",
    "\n",
    "        # Step 2 figure out order of nodes\n",
    "        branchheadIds= calcbranchorder(dctChild)\n",
    "        PrintList.append(\"branchheadIds: {}\".format(branchheadIds))\n",
    "        topheadid=branchheadIds[-1] # new updated on 22nd of May.\n",
    "\n",
    "        # Step 3 looping over nodes\n",
    "        PrintList.append('Number of branches: {}'.format(len(branchheadIds)))\n",
    "        if branchheadIds!=[0]: # calculate branches that have more than one word.\n",
    "            for BranchIndex in range(len(branchheadIds)): #looping over nodes\n",
    "                headId = branchheadIds[BranchIndex]\n",
    "                PrintList.append('Branch{}'.format(BranchIndex))\n",
    "                PrintList.append(\"Branch{} = head: '{}', children: {}\".format(BranchIndex, dct[headId-1]['text'],[dct[Id-1][\"text\"] for Id in dctChild[headId]]))\n",
    "                dct, HeadOutput, NegOutput, ModOutput=calcbranch(dct, headId, dctChild[headId])\n",
    "                lstHeadOutput.append(HeadOutput)\n",
    "                lstModOutput.append(ModOutput)\n",
    "                lstNegOutput.append(NegOutput)\n",
    "                \n",
    "                # Step 4 collect the scores of branchheadIds\n",
    "                if headId==topheadid and dct[headId-1][\"elementScore\"]!=\"none\":\n",
    "                      lstScores.append(dct[headId-1][\"SentimentScore\"])\n",
    "                      #print(\"lstScores\", lstScores)\n",
    "        else: # calculate branches with only one word\n",
    "            headId=1 #headId=0, ChildId=[1] dctChildren= {0: [1]}\n",
    "            #dct=calcbranch(dct, headId, [])\n",
    "            dct, HeadOutput, NegOutput, ModOutput=calcbranch(dct, headId, [])\n",
    "            lstHeadOutput.append(HeadOutput)\n",
    "            lstModOutput.append(ModOutput)\n",
    "            lstNegOutput.append(NegOutput)\n",
    "            PrintList.append(\"SentimentScore:{}\".format(dct[headId - 1][\"SentimentScore\"]))\n",
    "        ###Step 4 collect the scores of branchheadIds\n",
    "        if dct[headId - 1][\"SentimentScore\"]!=\"none\": # dct[headId - 1][\"elementScore\"] does not exist because it is either none nor some score\n",
    "            #print(\"elementScore:{}\".format(dct[headId - 1][\"elementScore\"]))\n",
    "            PrintList.append(\"SentimentScore:{}\".format(dct[headId - 1][\"SentimentScore\"]))\n",
    "            #lstScores.append(dct[headId - 1][\"elementScore\"])\n",
    "            lstScores.append(dct[headId - 1][\"SentimentScore\"])\n",
    "            #print(\"lstScores\", lstScores)\n",
    "        else:\n",
    "            lstScores.append('none')\n",
    "    except Exception as e:\n",
    "        print(\"calcSentenceScore Error: \" + str(e))\n",
    "        \n",
    "        #print(\"lstScores: {}\".format(lstScores))\n",
    "    \n",
    "    # Step 5 create a sentence score\n",
    "    if len(lstScores) != 0 and any([score != 'none' for score in lstScores]):\n",
    "        SentenceScore = np.mean([float(score) for score in lstScores if score!='none'])\n",
    "        return SentenceScore, lstHeadOutput, lstModOutput, lstNegOutput\n",
    "    else:\n",
    "        return 'none', lstHeadOutput, lstModOutput, lstNegOutput"
   ]
  },
  {
   "cell_type": "code",
   "execution_count": 31,
   "metadata": {
    "executionInfo": {
     "elapsed": 238,
     "status": "ok",
     "timestamp": 1717441621574,
     "user": {
      "displayName": "Olga Kellert",
      "userId": "10697804426852394315"
     },
     "user_tz": -120
    },
    "id": "74dTE6hfF0zI"
   },
   "outputs": [],
   "source": [
    "import os\n",
    "def calcReviewScore(r, spacy={}):\n",
    "    SentScores=[]\n",
    "    ReviewlstHeadOutput=[]\n",
    "    ReviewlstModOutput=[]\n",
    "    ReviewlstNegOutput=[]\n",
    "    \n",
    "    if mode == 'Stanza':\n",
    "        Sentences = createDic(r)\n",
    "    elif mode == 'Model':\n",
    "        Sentences = createDicModel(r, spacy)\n",
    "    else:\n",
    "        print('Wrong mode selection.')\n",
    "\n",
    "    for i in range(len(Sentences)): ### loop over sentences\n",
    "#         print(\"************ sentence {} *************\".format(i))\n",
    "        Sentence=FilterNonLemmaWords(Sentences[i]) #new 23 May it's filtering sentences that contain words don't have a lemma key\n",
    "        Sentence=CreateDefaultElementType(Sentence)\n",
    "        Sentence=GetElementScore(Sentence)\n",
    "        Sentence=InitializeSentimentScore(Sentence)\n",
    "#         print(\"all words: {}\".format(GetSentenceWords(Sentence)))\n",
    "#         print(\"sentiment words: {}\".format([\"{}={}\".format(word[\"text\"], word[\"elementScore\"]) for word in Sentence if word[\"elementScore\"]!=\"none\"]))\n",
    "        #SentenceScore= calcSentenceScore(Sentence)\n",
    "        SentenceScore, lstHeadOutput, lstModOutput, lstNegOutput = calcSentenceScore(Sentence)\n",
    "        #print(\"lstHeadOutput: {}\".format(lstHeadOutput))\n",
    "        SentScores.append(SentenceScore)\n",
    "        ReviewlstHeadOutput= ReviewlstHeadOutput + lstHeadOutput\n",
    "        ReviewlstNegOutput= ReviewlstNegOutput + lstNegOutput\n",
    "        ReviewlstModOutput= ReviewlstModOutput + lstModOutput\n",
    "        #ReviewlstSentimentOutput= ReviewlstSentimentOutput + lstSentimentOutput\n",
    "\n",
    "#     print(\"***********************************************\")\n",
    "#     print(\"Headlist: \", ReviewlstHeadOutput)\n",
    "#     print(\"Negationlist: \", ReviewlstNegOutput)\n",
    "#     print(\"Modifierlist: \", ReviewlstModOutput)\n",
    "#     #print(\"Sentimentwordslist: \", ReviewlstSentimentOutput)\n",
    "#     print(\"Sentence scores: \", SentScores)\n",
    "\n",
    "    if len(SentScores) > 0 and any([score != 'none' for score in SentScores]):\n",
    "        SentScores = [score for score in SentScores if score!='none']\n",
    "        reviewScore=np.mean([float(score) for score in SentScores])\n",
    "    else:\n",
    "        reviewScore='none'\n",
    "        #reviewScore=-200\n",
    "    \n",
    "    print(\"The Review Score is \", reviewScore)\n",
    "\n",
    "    # Save the reviewScore to an Excel file\n",
    "    return reviewScore"
   ]
  },
  {
   "cell_type": "code",
   "execution_count": 37,
   "metadata": {
    "executionInfo": {
     "elapsed": 5016,
     "status": "ok",
     "timestamp": 1717449341709,
     "user": {
      "displayName": "Olga Kellert",
      "userId": "10697804426852394315"
     },
     "user_tz": -120
    },
    "id": "sfAhzqbCZecM"
   },
   "outputs": [],
   "source": [
    "data_file = '../datasets/OpeNERes/opener_es.xlsx'\n",
    "dfTrain = pd.read_excel(data_file, sheet_name='Sheet1')"
   ]
  },
  {
   "cell_type": "code",
   "execution_count": 36,
   "metadata": {
    "colab": {
     "base_uri": "https://localhost:8080/"
    },
    "executionInfo": {
     "elapsed": 257,
     "status": "ok",
     "timestamp": 1717449346336,
     "user": {
      "displayName": "Olga Kellert",
      "userId": "10697804426852394315"
     },
     "user_tz": -120
    },
    "id": "fkczXy9j85gi",
    "outputId": "da84cc0c-2bd8-47c7-c5a1-e5a867ef377f"
   },
   "outputs": [
    {
     "name": "stdout",
     "output_type": "stream",
     "text": [
      "2\n"
     ]
    }
   ],
   "source": [
    "print(len(dfTrain))"
   ]
  },
  {
   "cell_type": "code",
   "execution_count": 37,
   "metadata": {
    "colab": {
     "base_uri": "https://localhost:8080/",
     "height": 300
    },
    "executionInfo": {
     "elapsed": 241,
     "status": "error",
     "timestamp": 1717158206837,
     "user": {
      "displayName": "Olga Kellert",
      "userId": "10697804426852394315"
     },
     "user_tz": -120
    },
    "id": "i6HVFAlim_AB",
    "outputId": "d3fd6c00-f742-43f3-90f9-37a72384c2d9"
   },
   "outputs": [],
   "source": [
    "# Drop rows where \"Review\" column is empty\n",
    "dfTrain = dfTrain.dropna(subset=[\"Review\"])"
   ]
  },
  {
   "cell_type": "code",
   "execution_count": 38,
   "metadata": {
    "colab": {
     "base_uri": "https://localhost:8080/"
    },
    "executionInfo": {
     "elapsed": 270,
     "status": "ok",
     "timestamp": 1716901642178,
     "user": {
      "displayName": "Olga Kellert",
      "userId": "10697804426852394315"
     },
     "user_tz": -120
    },
    "id": "QFgF0qKMm_AB",
    "outputId": "647bc99e-0c92-4ff2-e7d0-1946974a8495"
   },
   "outputs": [
    {
     "name": "stdout",
     "output_type": "stream",
     "text": [
      "2\n"
     ]
    }
   ],
   "source": [
    "print(len(dfTrain))"
   ]
  },
  {
   "cell_type": "code",
   "execution_count": 39,
   "metadata": {
    "colab": {
     "base_uri": "https://localhost:8080/"
    },
    "id": "5tmdxAhIm_AB",
    "outputId": "5450ef7e-15a5-4561-a5b0-c449d70696bf"
   },
   "outputs": [
    {
     "data": {
      "text/html": [
       "<div>\n",
       "<style scoped>\n",
       "    .dataframe tbody tr th:only-of-type {\n",
       "        vertical-align: middle;\n",
       "    }\n",
       "\n",
       "    .dataframe tbody tr th {\n",
       "        vertical-align: top;\n",
       "    }\n",
       "\n",
       "    .dataframe thead th {\n",
       "        text-align: right;\n",
       "    }\n",
       "</style>\n",
       "<table border=\"1\" class=\"dataframe\">\n",
       "  <thead>\n",
       "    <tr style=\"text-align: right;\">\n",
       "      <th></th>\n",
       "      <th>Review</th>\n",
       "    </tr>\n",
       "  </thead>\n",
       "  <tbody>\n",
       "    <tr>\n",
       "      <th>0</th>\n",
       "      <td>Este teléfono es bueno, pero feo. Este teléfon...</td>\n",
       "    </tr>\n",
       "    <tr>\n",
       "      <th>1</th>\n",
       "      <td>Este teléfono es feo, pero bueno. Este teléfon...</td>\n",
       "    </tr>\n",
       "  </tbody>\n",
       "</table>\n",
       "</div>"
      ],
      "text/plain": [
       "                                              Review\n",
       "0  Este teléfono es bueno, pero feo. Este teléfon...\n",
       "1  Este teléfono es feo, pero bueno. Este teléfon..."
      ]
     },
     "execution_count": 39,
     "metadata": {},
     "output_type": "execute_result"
    }
   ],
   "source": [
    "dfTrain.head(5)"
   ]
  },
  {
   "cell_type": "code",
   "execution_count": 40,
   "metadata": {
    "executionInfo": {
     "elapsed": 315,
     "status": "ok",
     "timestamp": 1717449387393,
     "user": {
      "displayName": "Olga Kellert",
      "userId": "10697804426852394315"
     },
     "user_tz": -120
    },
    "id": "zROEOHBem_AC"
   },
   "outputs": [],
   "source": [
    "import re\n",
    "def sentence_case(text):\n",
    "    # Split into sentences. Therefore, find all text that ends\n",
    "    # with punctuation followed by white space or end of string.\n",
    "    sentences = re.findall(r'(?:\\d+\\.\\d+|\\b[A-Z](?:\\.[A-Z])*\\b\\.?|[^.!?])+[.!?](?:\\s|\\Z)', text)\n",
    "\n",
    "    # Capitalize the first letter of each sentence\n",
    "    sentences = [x[0].upper() + x[1:] for x in sentences]\n",
    "    #print(sentences)\n",
    "    # Combine sentences\n",
    "    return ''.join(sentences)\n",
    "\n",
    "def fix_punctuation(text):\n",
    "  #lower case\n",
    "\n",
    "  try:\n",
    "    text = text.lower()\n",
    "    text = text.replace('\\n', '')\n",
    "    text = text.strip()\n",
    "    #add space after punctuation\n",
    "    text1 = re.sub(r'(\\d+\\.\\d+|\\b[A-Z](?:\\.[A-Z])*\\b\\.?)|([.,;:!?)])\\s*', lambda x: x.group(1) or f'{x.group(2)} ', text)\n",
    "    return text1\n",
    "  except:\n",
    "    return text"
   ]
  },
  {
   "cell_type": "markdown",
   "metadata": {
    "id": "Lp1Rp0pym_AC"
   },
   "source": [
    "### Remove Emojis From Text"
   ]
  },
  {
   "cell_type": "code",
   "execution_count": 1,
   "metadata": {
    "colab": {
     "base_uri": "https://localhost:8080/"
    },
    "executionInfo": {
     "elapsed": 297,
     "status": "ok",
     "timestamp": 1717449402046,
     "user": {
      "displayName": "Olga Kellert",
      "userId": "10697804426852394315"
     },
     "user_tz": -120
    },
    "id": "v-a5mnaXm_AC",
    "outputId": "80841ba7-a097-4683-bb39-501e86de47bd"
   },
   "outputs": [],
   "source": [
    "def remove_words_and_emojis(text):\n",
    "    # Sample list of words/emojis to remove\n",
    "    words_to_remove = ['$:', '%)', '%-)', '&-:', '&:', \"( '}{' )\", '(%', \"('-:\", \"(':\", '((-:', '(*', '(-%', '(-*', '(-:', '(-:0', '(-:<', '(-:o', '(-:O', '(-:{', '(-:|>*', '(-;', '(-;|', '(8', '(:', '(:0', '(:<', '(:o', '(:O', '(;', '(;<', '(=', '(?:', '(^:', '(^;', '(^;0', '(^;o', '(o:', \")':\", \")-':\", ')-:', ')-:<', ')-:{', '):', '):<', '):{', ');<', '*)', '*-)', '*-:', '*-;', '*:', '*<|:-)', '*\\\\0/*', '*^:', ',-:', \"---'-;-{@\", '--<--<@', '.-:', '..###-:', '..###:', '/-:', '/:', '/:<', '/=', '/^:', '/o:', '0-8', '0-|', '0:)', '0:-)', '0:-3', '0:03', '0;^)', '0_o', '10q', '1337', '143', '1432', '14aa41', '182', '187', '2g2b4g', '2g2bt', '2qt', '3:(', '3:)', '3:-(', '3:-)', '4col', '4q', '5fs', '8)', '8-d', '8-o', '86', '8d', ':###..', ':$', ':&', \":'(\", \":')\", \":'-(\", \":'-)\", ':(', ':)', ':*', ':-###..', ':-&', ':-(', ':-)', ':-))', ':-*', ':-,', ':-.', ':-/', ':-<', ':-d', ':-D', ':-o', ':-p', ':-[', ':-\\\\', ':-c', ':-p', ':-|', ':-||', ':-Þ', ':/', ':3', ':<', ':>', ':?)', ':?c', ':@', ':d', ':D', ':l', ':o', ':p', ':s', ':[', ':\\\\', ':]', ':^)', ':^*', ':^/', ':^\\\\', ':^|', ':c', ':c)', ':o)', ':o/', ':o\\\\', ':o|', ':P', ':{', ':|', ':}', ':Þ', ';)', ';-)', ';-*', ';-]', ';d', ';D', ';]', ';^)', '</3', '<3', '<:', '<:-|', '=)', '=-3', '=-d', '=-D', '=/', '=3', '=d', '=D', '=l', '=\\\\', '=]', '=p', '=|', '>-:', '>.<', '>:', '>:(', '>:)', '>:-(', '>:-)', '>:/', '>:o', '>:p', '>:[', '>:\\\\', '>;(', '>;)', '>_>^', '@:', '@>-->--', \"@}-;-'---\", 'aas', 'aayf', 'afu', 'alol', 'ambw', 'aml', 'atab', 'awol', 'ayc', 'ayor', 'aug-00', 'bfd', 'bfe', 'bff', 'bffn', 'bl', 'bsod', 'btd', 'btdt', 'bz', 'b^d', 'cwot', \"d-':\", 'd8', 'd:', 'd:<', 'd;', 'd=', 'doa', 'dx', 'ez', 'fav', 'fcol', 'ff', 'ffs', 'fkm', 'foaf', 'ftw', 'fu', 'fubar', 'fwb', 'fyi', 'fysa', 'g1', 'gg', 'gga', 'gigo', 'gj', 'gl', 'gla', 'gn', 'gr8', 'grrr', 'gt', 'h&k', 'hagd', 'hagn', 'hago', 'hak', 'hand', 'heart', 'hearts', 'hho1/2k', 'hhoj', 'hhok', 'hugz', 'hi5', 'idk', 'ijs', 'ilu', 'iluaaf', 'ily', 'ily2', 'iou', 'iyq', 'j/j', 'j/k', 'j/p', 'j/t', 'j/w', 'j4f', 'j4g', 'jho', 'jhomf', 'jj', 'jk', 'jp', 'jt', 'jw', 'jealz', 'k4y', 'kfy', 'kia', 'kk', 'kmuf', 'l', 'l&r', 'laoj', 'lmao', 'lmbao', 'lmfao', 'lmso', 'lol', 'lolz', 'lts', 'ly', 'ly4e', 'lya', 'lyb', 'lyl', 'lylab', 'lylas', 'lylb', 'm8', 'mia', 'mml', 'mofo', 'muah', 'mubar', 'musm', 'mwah', 'n1', 'nbd', 'nbif', 'nfc', 'nfw', 'nh', 'nimby', 'nimjd', 'nimq', 'nimy', 'nitl', 'nme', 'noyb', 'np', 'ntmu', 'o-8', 'o-:', 'o-|', 'o.o', 'O.o', 'o.O', 'o:', 'o:)', 'o:-)', 'o:-3', 'o:3', 'o:<', 'o;^)', 'ok', 'o_o', 'O_o', 'o_O', 'pita', 'pls', 'plz', 'pmbi', 'pmfji', 'pmji', 'po', 'ptl', 'pu', 'qq', 'qt', 'r&r', 'rofl', 'roflmao', 'rotfl', 'rotflmao', 'rotflmfao', 'rotflol', 'rotgl', 'rotglmao', 's:', 'sapfu', 'sete', 'sfete', 'sgtm', 'slap', 'slaw', 'smh', 'snafu', 'sob', 'swak', 'tgif', 'thks', 'thx', 'tia', 'tmi', 'tnx', 'true', 'tx', 'txs', 'ty', 'tyvm', 'urw', 'vbg', 'vbs', 'vip', 'vwd', 'vwp', 'wag', 'wd', 'wilco', 'wp', 'wtf', 'wtg', 'wth', 'x-d', 'x-p', 'xd', 'xlnt', 'xoxo', 'xoxozzz', 'xp', 'xqzt', 'xtc', 'yolo', 'yoyo', 'yvw', 'yw', 'ywia', 'zzz', '[-;', '[:', '[;', '[=', '\\\\-:', '\\\\:', '\\\\:<', '\\\\=', '\\\\^:', '\\\\o/', '\\\\o:', ']-:', ']:', ']:<', '^<_<', '^urs', '{:', '|-0', '|-:', '|-:>', '|-o', '|:', '|;-)', '|=', '|^:', '|o:', '||-:', '}:', '}:(', '}:)', '}:-(', '}:-)', 'x-d', 'x-p', 'xd', 'xp', 'yay']\n",
    "    words = text.split()\n",
    "    neat_words = []\n",
    "    for word in words:\n",
    "        if word not in words_to_remove:\n",
    "            neat_words.append(word)\n",
    "    return ' '.join(neat_words)"
   ]
  },
  {
   "cell_type": "code",
   "execution_count": 42,
   "metadata": {
    "colab": {
     "base_uri": "https://localhost:8080/"
    },
    "executionInfo": {
     "elapsed": 280,
     "status": "ok",
     "timestamp": 1717449425801,
     "user": {
      "displayName": "Olga Kellert",
      "userId": "10697804426852394315"
     },
     "user_tz": -120
    },
    "id": "aj-KQ6Wqm_AD",
    "outputId": "527f2f1e-5697-4b37-9409-3aa8a7bd427a"
   },
   "outputs": [],
   "source": [
    "import re\n",
    "\n",
    "def remove_emojis(text):\n",
    "    # Define regex pattern to match emojis\n",
    "    emoji_pattern = re.compile(\"[\"\n",
    "                               u\"\\U0001F600-\\U0001F64F\"  # emoticons\n",
    "                               u\"\\U0001F300-\\U0001F5FF\"  # symbols & pictographs\n",
    "                               u\"\\U0001F680-\\U0001F6FF\"  # transport & map symbols\n",
    "                               u\"\\U0001F1E0-\\U0001F1FF\"  # flags (iOS)\n",
    "                               u\"\\U00002500-\\U00002BEF\"  # chinese char\n",
    "                               u\"\\U00002702-\\U000027B0\"\n",
    "                               u\"\\U00002702-\\U000027B0\"\n",
    "                               u\"\\U000024C2-\\U0001F251\"\n",
    "                               u\"\\U0001f926-\\U0001f937\"\n",
    "                               u\"\\U00010000-\\U0010ffff\"\n",
    "                               u\"\\u2640-\\u2642\"\n",
    "                               u\"\\u2600-\\u2B55\"\n",
    "                               u\"\\u200d\"\n",
    "                               u\"\\u23cf\"\n",
    "                               u\"\\u23e9\"\n",
    "                               u\"\\u231a\"\n",
    "                               u\"\\ufe0f\"  # dingbats\n",
    "                               u\"\\u3030\"\n",
    "                               \"]+\", flags=re.UNICODE)\n",
    "    # Remove emojis from the text\n",
    "    cleaned_text = emoji_pattern.sub(r'', text)\n",
    "    return cleaned_text"
   ]
  },
  {
   "cell_type": "code",
   "execution_count": 44,
   "metadata": {},
   "outputs": [
    {
     "data": {
      "application/vnd.jupyter.widget-view+json": {
       "model_id": "27adb7d5ec0345aa91d795916f02ec32",
       "version_major": 2,
       "version_minor": 0
      },
      "text/plain": [
       "  0%|          | 0/2 [00:00<?, ?it/s]"
      ]
     },
     "metadata": {},
     "output_type": "display_data"
    },
    {
     "data": {
      "application/vnd.jupyter.widget-view+json": {
       "model_id": "62fe0c30a9524520abba94fd76872e8b",
       "version_major": 2,
       "version_minor": 0
      },
      "text/plain": [
       "  0%|          | 0/2 [00:00<?, ?it/s]"
      ]
     },
     "metadata": {},
     "output_type": "display_data"
    },
    {
     "data": {
      "application/vnd.jupyter.widget-view+json": {
       "model_id": "66fc83054f6b481da3840ac338cdbd85",
       "version_major": 2,
       "version_minor": 0
      },
      "text/plain": [
       "  0%|          | 0/2 [00:00<?, ?it/s]"
      ]
     },
     "metadata": {},
     "output_type": "display_data"
    }
   ],
   "source": [
    "dfTrain['reviewCorr'] = dfTrain['Review'].progress_apply(remove_words_and_emojis)\n",
    "dfTrain['reviewCorr'] = dfTrain['reviewCorr'].progress_apply(remove_emojis)\n",
    "dfTrain['reviewCorr'] = dfTrain['reviewCorr'].progress_apply(fix_punctuation)"
   ]
  },
  {
   "cell_type": "code",
   "execution_count": 45,
   "metadata": {},
   "outputs": [
    {
     "data": {
      "text/html": [
       "<div>\n",
       "<style scoped>\n",
       "    .dataframe tbody tr th:only-of-type {\n",
       "        vertical-align: middle;\n",
       "    }\n",
       "\n",
       "    .dataframe tbody tr th {\n",
       "        vertical-align: top;\n",
       "    }\n",
       "\n",
       "    .dataframe thead th {\n",
       "        text-align: right;\n",
       "    }\n",
       "</style>\n",
       "<table border=\"1\" class=\"dataframe\">\n",
       "  <thead>\n",
       "    <tr style=\"text-align: right;\">\n",
       "      <th></th>\n",
       "      <th>Review</th>\n",
       "      <th>reviewCorr</th>\n",
       "    </tr>\n",
       "  </thead>\n",
       "  <tbody>\n",
       "    <tr>\n",
       "      <th>0</th>\n",
       "      <td>Este teléfono es bueno, pero feo. Este teléfon...</td>\n",
       "      <td>este teléfono es bueno, pero feo. este teléfon...</td>\n",
       "    </tr>\n",
       "    <tr>\n",
       "      <th>1</th>\n",
       "      <td>Este teléfono es feo, pero bueno. Este teléfon...</td>\n",
       "      <td>este teléfono es feo, pero bueno. este teléfon...</td>\n",
       "    </tr>\n",
       "  </tbody>\n",
       "</table>\n",
       "</div>"
      ],
      "text/plain": [
       "                                              Review  \\\n",
       "0  Este teléfono es bueno, pero feo. Este teléfon...   \n",
       "1  Este teléfono es feo, pero bueno. Este teléfon...   \n",
       "\n",
       "                                          reviewCorr  \n",
       "0  este teléfono es bueno, pero feo. este teléfon...  \n",
       "1  este teléfono es feo, pero bueno. este teléfon...  "
      ]
     },
     "execution_count": 45,
     "metadata": {},
     "output_type": "execute_result"
    }
   ],
   "source": [
    "dfTrain[0:3]"
   ]
  },
  {
   "cell_type": "code",
   "execution_count": 46,
   "metadata": {
    "executionInfo": {
     "elapsed": 265,
     "status": "ok",
     "timestamp": 1717449449116,
     "user": {
      "displayName": "Olga Kellert",
      "userId": "10697804426852394315"
     },
     "user_tz": -120
    },
    "id": "CVvrs4iIhvjs"
   },
   "outputs": [],
   "source": [
    "dfTrain1= dfTrain"
   ]
  },
  {
   "cell_type": "code",
   "execution_count": 47,
   "metadata": {
    "colab": {
     "base_uri": "https://localhost:8080/"
    },
    "executionInfo": {
     "elapsed": 251,
     "status": "ok",
     "timestamp": 1717449464837,
     "user": {
      "displayName": "Olga Kellert",
      "userId": "10697804426852394315"
     },
     "user_tz": -120
    },
    "id": "izhzYrx3m_AE",
    "outputId": "bed1029a-a359-4efc-dc71-e8ecbef4d420"
   },
   "outputs": [
    {
     "name": "stdout",
     "output_type": "stream",
     "text": [
      "2\n"
     ]
    }
   ],
   "source": [
    "print(len(dfTrain1))"
   ]
  },
  {
   "cell_type": "markdown",
   "metadata": {},
   "source": [
    "### Remove NaN values"
   ]
  },
  {
   "cell_type": "code",
   "execution_count": 48,
   "metadata": {},
   "outputs": [],
   "source": [
    "def remove_nan(text):\n",
    "    return text"
   ]
  },
  {
   "cell_type": "code",
   "execution_count": 49,
   "metadata": {},
   "outputs": [],
   "source": [
    "if (mode == 'Model'):\n",
    "    str_list = [*map(remove_nan, dfTrain1['reviewCorr'])]\n",
    "    clearn_str_list = [x for x in str_list if str(x) != 'nan']\n",
    "    len(clearn_str_list)"
   ]
  },
  {
   "cell_type": "code",
   "execution_count": 50,
   "metadata": {},
   "outputs": [],
   "source": [
    "def list_to_file(str_list):\n",
    "    #print(str_list)\n",
    "    long_str = '\\n'.join(str_list)\n",
    "    #long_str = long_str.replace('@virginamerica', 'Imran')\n",
    "    file = io.StringIO(long_str)\n",
    "    return file.read()"
   ]
  },
  {
   "cell_type": "code",
   "execution_count": 51,
   "metadata": {},
   "outputs": [],
   "source": [
    "from spacy.language import Language\n",
    "#spacy.prefer_gpu\n",
    "\n",
    "@Language.component(\"custom_sentencizer\")\n",
    "def custom_sentencizer(doc):\n",
    "    for i, token in enumerate(doc[:-2]):\n",
    "        # Define sentence start if pipe + titlecase token\n",
    "        if token.text == \"\\n\":\n",
    "            doc[i + 1].is_sent_start = True\n",
    "        else:\n",
    "            # Explicitly set sentence start to False otherwise, to tell\n",
    "            # the parser to leave those tokens alone\n",
    "            doc[i + 1].is_sent_start = False\n",
    "    return doc"
   ]
  },
  {
   "cell_type": "code",
   "execution_count": 52,
   "metadata": {},
   "outputs": [
    {
     "name": "stdout",
     "output_type": "stream",
     "text": [
      "=== batchSpacy ===\n"
     ]
    }
   ],
   "source": [
    "print(\"=== batchSpacy ===\")"
   ]
  },
  {
   "cell_type": "code",
   "execution_count": 53,
   "metadata": {},
   "outputs": [],
   "source": [
    "def batchSpacy(text_data):\n",
    "    response = []\n",
    "    try:\n",
    "        spacy.prefer_gpu()\n",
    "        #text_data = text_data.replace('.', ',')\n",
    "        #text_data = text_data.replace('\\n', '.\\n')\n",
    "        nlp = spacy.load(\"es_core_news_sm\", disable=[\"parser\", \"ner\"])\n",
    "        nlp.add_pipe(\"custom_sentencizer\", before=\"parser\")  # Insert before the parser\n",
    "        #config = {\"punct_chars\": ['\\n']}\n",
    "        #nlp.add_pipe(\"sentencizer\", config=config)\n",
    "        #nlp.add_pipe('sentencizer')\n",
    "        nlp.max_length = 1500000000\n",
    "\n",
    "        doc = nlp(text_data)\n",
    "        for sent in doc.sents:\n",
    "            if sent.text == '\\n':\n",
    "                pass\n",
    "            else:\n",
    "                tokens = []\n",
    "                postags = []\n",
    "                lemmas = {}\n",
    "                for token in sent:\n",
    "                    lemmas.setdefault(token.text, token.lemma_) \n",
    "                    tokens.append(token.text)\n",
    "                    postags.append(token.pos_)\n",
    "                res = {\"tokens\": tokens, \"postags\": postags, \"lemmas\": lemmas}\n",
    "                response.append(res)\n",
    "    except Exception as error:\n",
    "        print(error)\n",
    "    return response"
   ]
  },
  {
   "cell_type": "code",
   "execution_count": null,
   "metadata": {},
   "outputs": [],
   "source": [
    "if (mode == 'Model'):\n",
    "    batch_size = 2000\n",
    "    \n",
    "    # create batches\n",
    "    batches = (clearn_str_list[i:i + batch_size] for i in range(0, len(clearn_str_list), batch_size))\n",
    "    batch_spacy = []\n",
    "    count = 0\n",
    "    for batch in batches:\n",
    "        count = count + 1\n",
    "        batch_file_data = list_to_file(batch)\n",
    "        #print(batch_file_data)\n",
    "        spacy_single_batch = batchSpacy(batch_file_data)\n",
    "        batch_spacy.extend(spacy_single_batch)\n",
    "\n",
    "    # Clear Memory Footprint\n",
    "    del str_list\n",
    "    del clearn_str_list\n",
    "    del batches"
   ]
  },
  {
   "cell_type": "code",
   "execution_count": null,
   "metadata": {},
   "outputs": [],
   "source": [
    "t0 = time.time()\n",
    "\n",
    "# Sentiment Analysis with MEAN Function\n",
    "for i, row in tqdm(dfTrain1.iterrows()):\n",
    "    #print(i, row.reviewCorr)\n",
    "    try:\n",
    "        if (mode == 'Model'):\n",
    "            dfTrain1.at[i,'Score'] = calcReviewScore(row.reviewCorr, batch_spacy[i])\n",
    "        elif(mode == 'Stanza'):\n",
    "            dfTrain1.at[i,'Score'] = calcReviewScore(row.reviewCorr)\n",
    "    except Exception as e:\n",
    "        dfTrain1.at[i,'Score'] = -100\n",
    "        #dfTrain1.at[i,'ScoreNew'] = -100\n",
    "        print(\"calcSentenceScore Error: \" + str(e))\n",
    "        \n",
    "print(\"================== Sentiment Analysis Completed ==================\")\n",
    "\n",
    "t1 = time.time()\n",
    "total = t1-t0\n",
    "print(mode)\n",
    "print('Total Time (Seconds): ' + str(total))"
   ]
  },
  {
   "cell_type": "code",
   "execution_count": 189,
   "metadata": {},
   "outputs": [
    {
     "name": "stdout",
     "output_type": "stream",
     "text": [
      "Total Time (Seconds): 2221.399104118347\n"
     ]
    }
   ],
   "source": [
    "print('Total Time (Seconds): ' + str(total))"
   ]
  },
  {
   "cell_type": "code",
   "execution_count": 190,
   "metadata": {},
   "outputs": [
    {
     "data": {
      "text/plain": [
       "4469"
      ]
     },
     "execution_count": 190,
     "metadata": {},
     "output_type": "execute_result"
    }
   ],
   "source": [
    "len(dfTrain1[(dfTrain1.Score==-300) | (dfTrain1.Score==-200) | (dfTrain1.Score==-100) | (dfTrain1.Score=='none')])"
   ]
  },
  {
   "cell_type": "code",
   "execution_count": 191,
   "metadata": {},
   "outputs": [
    {
     "data": {
      "text/plain": [
       "0"
      ]
     },
     "execution_count": 191,
     "metadata": {},
     "output_type": "execute_result"
    }
   ],
   "source": [
    "len(dfTrain1[dfTrain1.Score==-200])"
   ]
  },
  {
   "cell_type": "code",
   "execution_count": 192,
   "metadata": {
    "colab": {
     "base_uri": "https://localhost:8080/"
    },
    "executionInfo": {
     "elapsed": 231,
     "status": "ok",
     "timestamp": 1716903572390,
     "user": {
      "displayName": "Olga Kellert",
      "userId": "10697804426852394315"
     },
     "user_tz": -120
    },
    "id": "M910Ks55bB6D",
    "outputId": "003ffc41-8c32-42f3-aba9-1322d5b2ceb5"
   },
   "outputs": [
    {
     "data": {
      "text/plain": [
       "3901"
      ]
     },
     "execution_count": 192,
     "metadata": {},
     "output_type": "execute_result"
    }
   ],
   "source": [
    "len(dfTrain1[dfTrain1.Score=='none'])"
   ]
  },
  {
   "cell_type": "code",
   "execution_count": 193,
   "metadata": {
    "colab": {
     "base_uri": "https://localhost:8080/",
     "height": 1000
    },
    "executionInfo": {
     "elapsed": 472,
     "status": "ok",
     "timestamp": 1716653903571,
     "user": {
      "displayName": "Olga Kellert",
      "userId": "10697804426852394315"
     },
     "user_tz": -120
    },
    "id": "erS6DfIZeXd_",
    "outputId": "fc8639c1-a04c-426d-a49d-9aee9f1919ba"
   },
   "outputs": [
    {
     "data": {
      "text/html": [
       "<div>\n",
       "<style scoped>\n",
       "    .dataframe tbody tr th:only-of-type {\n",
       "        vertical-align: middle;\n",
       "    }\n",
       "\n",
       "    .dataframe tbody tr th {\n",
       "        vertical-align: top;\n",
       "    }\n",
       "\n",
       "    .dataframe thead th {\n",
       "        text-align: right;\n",
       "    }\n",
       "</style>\n",
       "<table border=\"1\" class=\"dataframe\">\n",
       "  <thead>\n",
       "    <tr style=\"text-align: right;\">\n",
       "      <th></th>\n",
       "      <th>ID</th>\n",
       "      <th>Title</th>\n",
       "      <th>Review</th>\n",
       "      <th>reviewCorr</th>\n",
       "      <th>Score</th>\n",
       "      <th>UpdatedScore</th>\n",
       "    </tr>\n",
       "  </thead>\n",
       "  <tbody>\n",
       "    <tr>\n",
       "      <th>1</th>\n",
       "      <td>1</td>\n",
       "      <td>Lo pasamos genial</td>\n",
       "      <td>Pasamos unos días muy agradables en el memorie...</td>\n",
       "      <td>pasamos unos días muy agradables en el memorie...</td>\n",
       "      <td>0.0</td>\n",
       "      <td>3.00</td>\n",
       "    </tr>\n",
       "    <tr>\n",
       "      <th>2</th>\n",
       "      <td>2</td>\n",
       "      <td>Muy congestionado</td>\n",
       "      <td>Demasiada gente en un vagón aunque es un medio...</td>\n",
       "      <td>demasiada gente en un vagón aunque es un medio...</td>\n",
       "      <td>4.375</td>\n",
       "      <td>4.75</td>\n",
       "    </tr>\n",
       "    <tr>\n",
       "      <th>3</th>\n",
       "      <td>3</td>\n",
       "      <td>Fantastica</td>\n",
       "      <td>zona restaurada. Hay una cervecería artesanal ...</td>\n",
       "      <td>zona restaurada. hay una cervecería artesanal ...</td>\n",
       "      <td>3.375</td>\n",
       "      <td>4.35</td>\n",
       "    </tr>\n",
       "    <tr>\n",
       "      <th>4</th>\n",
       "      <td>4</td>\n",
       "      <td>Por algo es una de las maravillas del mundo</td>\n",
       "      <td>Visite la zona arqueológica en compañía de mi ...</td>\n",
       "      <td>visite la zona arqueológica en compañía de mi ...</td>\n",
       "      <td>5.0</td>\n",
       "      <td>5.00</td>\n",
       "    </tr>\n",
       "    <tr>\n",
       "      <th>5</th>\n",
       "      <td>5</td>\n",
       "      <td>MUY BUEN HOTEL PET FRIENDLY</td>\n",
       "      <td>Sin duda es un muy buen hotel si vas con masco...</td>\n",
       "      <td>sin duda es un muy buen hotel si vas con masco...</td>\n",
       "      <td>2.9125</td>\n",
       "      <td>3.48</td>\n",
       "    </tr>\n",
       "    <tr>\n",
       "      <th>...</th>\n",
       "      <td>...</td>\n",
       "      <td>...</td>\n",
       "      <td>...</td>\n",
       "      <td>...</td>\n",
       "      <td>...</td>\n",
       "      <td>...</td>\n",
       "    </tr>\n",
       "    <tr>\n",
       "      <th>107858</th>\n",
       "      <td>107858</td>\n",
       "      <td>Modesto Cali</td>\n",
       "      <td>La pasamos muy bien restaurantes limpios y los...</td>\n",
       "      <td>la pasamos muy bien restaurantes limpios y los...</td>\n",
       "      <td>6.5</td>\n",
       "      <td>5.60</td>\n",
       "    </tr>\n",
       "    <tr>\n",
       "      <th>107859</th>\n",
       "      <td>107859</td>\n",
       "      <td>GUAU</td>\n",
       "      <td>Un gran complejo turístico todo incluido, con ...</td>\n",
       "      <td>un gran complejo turístico todo incluido, con ...</td>\n",
       "      <td>6.5</td>\n",
       "      <td>5.60</td>\n",
       "    </tr>\n",
       "    <tr>\n",
       "      <th>107860</th>\n",
       "      <td>107860</td>\n",
       "      <td>Complejo mejor en el que he estado en Puerto V...</td>\n",
       "      <td>La Estancia es hermosa, la piscina y las insta...</td>\n",
       "      <td>la estancia es hermosa, la piscina y las insta...</td>\n",
       "      <td>0.0</td>\n",
       "      <td>3.00</td>\n",
       "    </tr>\n",
       "    <tr>\n",
       "      <th>107861</th>\n",
       "      <td>107861</td>\n",
       "      <td>\"Hermoso teatro Juárez en Guanajuato\"</td>\n",
       "      <td>\"Me encanta visitar este lugar, está ves tuve ...</td>\n",
       "      <td>\"me encanta visitar este lugar, está ves tuve ...</td>\n",
       "      <td>-0.5</td>\n",
       "      <td>4.20</td>\n",
       "    </tr>\n",
       "    <tr>\n",
       "      <th>107862</th>\n",
       "      <td>107862</td>\n",
       "      <td>Me encanta este lugar!</td>\n",
       "      <td>Mi marido y yo vinimos aquí durante nuestra vi...</td>\n",
       "      <td>mi marido y yo vinimos aquí durante nuestra vi...</td>\n",
       "      <td>1.25</td>\n",
       "      <td>3.50</td>\n",
       "    </tr>\n",
       "  </tbody>\n",
       "</table>\n",
       "<p>103394 rows × 6 columns</p>\n",
       "</div>"
      ],
      "text/plain": [
       "            ID                                              Title  \\\n",
       "1            1                                  Lo pasamos genial   \n",
       "2            2                                  Muy congestionado   \n",
       "3            3                                         Fantastica   \n",
       "4            4        Por algo es una de las maravillas del mundo   \n",
       "5            5                        MUY BUEN HOTEL PET FRIENDLY   \n",
       "...        ...                                                ...   \n",
       "107858  107858                                       Modesto Cali   \n",
       "107859  107859                                               GUAU   \n",
       "107860  107860  Complejo mejor en el que he estado en Puerto V...   \n",
       "107861  107861              \"Hermoso teatro Juárez en Guanajuato\"   \n",
       "107862  107862                             Me encanta este lugar!   \n",
       "\n",
       "                                                   Review  \\\n",
       "1       Pasamos unos días muy agradables en el memorie...   \n",
       "2       Demasiada gente en un vagón aunque es un medio...   \n",
       "3       zona restaurada. Hay una cervecería artesanal ...   \n",
       "4       Visite la zona arqueológica en compañía de mi ...   \n",
       "5       Sin duda es un muy buen hotel si vas con masco...   \n",
       "...                                                   ...   \n",
       "107858  La pasamos muy bien restaurantes limpios y los...   \n",
       "107859  Un gran complejo turístico todo incluido, con ...   \n",
       "107860  La Estancia es hermosa, la piscina y las insta...   \n",
       "107861  \"Me encanta visitar este lugar, está ves tuve ...   \n",
       "107862  Mi marido y yo vinimos aquí durante nuestra vi...   \n",
       "\n",
       "                                               reviewCorr   Score  \\\n",
       "1       pasamos unos días muy agradables en el memorie...     0.0   \n",
       "2       demasiada gente en un vagón aunque es un medio...   4.375   \n",
       "3       zona restaurada. hay una cervecería artesanal ...   3.375   \n",
       "4       visite la zona arqueológica en compañía de mi ...     5.0   \n",
       "5       sin duda es un muy buen hotel si vas con masco...  2.9125   \n",
       "...                                                   ...     ...   \n",
       "107858  la pasamos muy bien restaurantes limpios y los...     6.5   \n",
       "107859  un gran complejo turístico todo incluido, con ...     6.5   \n",
       "107860  la estancia es hermosa, la piscina y las insta...     0.0   \n",
       "107861  \"me encanta visitar este lugar, está ves tuve ...    -0.5   \n",
       "107862  mi marido y yo vinimos aquí durante nuestra vi...    1.25   \n",
       "\n",
       "        UpdatedScore  \n",
       "1               3.00  \n",
       "2               4.75  \n",
       "3               4.35  \n",
       "4               5.00  \n",
       "5               3.48  \n",
       "...              ...  \n",
       "107858          5.60  \n",
       "107859          5.60  \n",
       "107860          3.00  \n",
       "107861          4.20  \n",
       "107862          3.50  \n",
       "\n",
       "[103394 rows x 6 columns]"
      ]
     },
     "execution_count": 193,
     "metadata": {},
     "output_type": "execute_result"
    }
   ],
   "source": [
    "dfTrain1[(dfTrain1.Score!=-300) & (dfTrain1.Score!=-200) & (dfTrain1.Score!=-100) & (dfTrain1.Score!='none')]"
   ]
  },
  {
   "cell_type": "code",
   "execution_count": 194,
   "metadata": {
    "colab": {
     "base_uri": "https://localhost:8080/",
     "height": 179
    },
    "executionInfo": {
     "elapsed": 25,
     "status": "error",
     "timestamp": 1717164598627,
     "user": {
      "displayName": "Olga Kellert",
      "userId": "10697804426852394315"
     },
     "user_tz": -120
    },
    "id": "s5bIYi4Gm_AH",
    "outputId": "67ce5c63-ca9c-416b-863f-2aaacc9b2e9d"
   },
   "outputs": [],
   "source": [
    "minVal = min(dfTrain1[(dfTrain1.Score!=-300) & (dfTrain1.Score!=-200) & (dfTrain1.Score.notnull()) & (dfTrain1.Score!=-100) & (dfTrain1.Score!= 'none')].Score.tolist())\n",
    "maxVal = max(dfTrain1[(dfTrain1.Score!=-300) & (dfTrain1.Score!=-200) & (dfTrain1.Score.notnull()) & (dfTrain1.Score!=-100) & (dfTrain1.Score!= 'none')].Score.tolist())"
   ]
  },
  {
   "cell_type": "code",
   "execution_count": 195,
   "metadata": {
    "id": "VREQUVOWm_AH",
    "outputId": "d0a93c26-9291-4b03-d68c-963df66ac0b1"
   },
   "outputs": [
    {
     "data": {
      "text/plain": [
       "-9.84375"
      ]
     },
     "execution_count": 195,
     "metadata": {},
     "output_type": "execute_result"
    }
   ],
   "source": [
    "minVal"
   ]
  },
  {
   "cell_type": "code",
   "execution_count": 196,
   "metadata": {
    "id": "VPqZmi2jm_AI",
    "outputId": "643bd6d7-f8c9-4ce3-85f6-12fa9324709d"
   },
   "outputs": [
    {
     "data": {
      "text/plain": [
       "19.6875"
      ]
     },
     "execution_count": 196,
     "metadata": {},
     "output_type": "execute_result"
    }
   ],
   "source": [
    "maxVal"
   ]
  },
  {
   "cell_type": "code",
   "execution_count": 198,
   "metadata": {
    "id": "Hk8qd-elm_AL"
   },
   "outputs": [],
   "source": [
    "def normalize_value(value, min_in=-5.0, max_in=5.0):\n",
    "    # Define the range of input values\n",
    "    min_in = -5\n",
    "    max_in = 5\n",
    "\n",
    "    # Define the range of output values\n",
    "    min_out = 1\n",
    "    max_out = 5\n",
    "\n",
    "    # Normalize the value\n",
    "    normalized_value = ((value - min_in) / (max_in - min_in)) * (max_out - min_out) + min_out\n",
    "\n",
    "    return round(normalized_value, 2)"
   ]
  },
  {
   "cell_type": "code",
   "execution_count": 199,
   "metadata": {
    "colab": {
     "base_uri": "https://localhost:8080/",
     "height": 69,
     "referenced_widgets": [
      "670347d352fc45a49b8e6aaa0e4e9a20",
      "f985bb8ae6334c26ae34abe93644b55b",
      "f5d2d34bbc3e418a96d55996f34e0423",
      "7234d119052d46be986af477e7be3d4b",
      "a28dbd072cfa477fbbf373a15124a5a1",
      "0639a19873f940b5aca5d275275618a7",
      "dc75fe95420f44408841fbfdbc802716",
      "c953941f65da479aab36a5d1b71fed99",
      "cab9bd9c0bfe42e3a81b653fe09dc9ad",
      "4c0026dc4df343c6b1f4598e901c83f2",
      "3e9b409d843948d880ee294a77c7929a"
     ]
    },
    "executionInfo": {
     "elapsed": 239,
     "status": "ok",
     "timestamp": 1717165023078,
     "user": {
      "displayName": "Olga Kellert",
      "userId": "10697804426852394315"
     },
     "user_tz": -120
    },
    "id": "52EgmXa2As1P",
    "outputId": "1d3de176-7379-46d3-97a9-5a20635c1f8f"
   },
   "outputs": [
    {
     "data": {
      "application/vnd.jupyter.widget-view+json": {
       "model_id": "74b286c6d6f7491a9bbf9ea4cb41089a",
       "version_major": 2,
       "version_minor": 0
      },
      "text/plain": [
       "0it [00:00, ?it/s]"
      ]
     },
     "metadata": {},
     "output_type": "display_data"
    }
   ],
   "source": [
    "for i, row in tqdm(dfTrain1[(dfTrain1.Score!=-300) & (dfTrain1.Score!=-200) & (dfTrain1.Score!=-100)].iterrows()):\n",
    "#print(i, row.reviewCorr, \"--------------\",row.Review)\n",
    "    try:\n",
    "        dfTrain1.at[i,'UpdatedScore'] = normalize_value(row.Score, minVal, maxVal)\n",
    "        #dfTrain1.at[i,'Polarity'] = normalize_value(row.Score, minVal, maxVal)\n",
    "    except:\n",
    "        dfTrain1.at[i,'UpdatedScore'] = -100\n",
    "        #dfTrain1.at[i,'Polarity'] = -100"
   ]
  },
  {
   "cell_type": "markdown",
   "metadata": {
    "id": "eI8fb0E6fmZx"
   },
   "source": [
    "### Generate Polarity Labels"
   ]
  },
  {
   "cell_type": "code",
   "execution_count": 200,
   "metadata": {
    "id": "0AxACS12XOGX"
   },
   "outputs": [],
   "source": [
    "def system_polarity_label(score):\n",
    "    polarity_label = ''\n",
    "    if score > 3.0:\n",
    "        polarity_label = \"Positive\"\n",
    "    elif 0.0 < score <= 2.0:\n",
    "        polarity_label = \"Negative\"\n",
    "    elif 2.0 < score <= 3.0:\n",
    "        polarity_label = \"Neutral\"\n",
    "    return polarity_label"
   ]
  },
  {
   "cell_type": "code",
   "execution_count": 201,
   "metadata": {
    "id": "CXMVfC-om_AM"
   },
   "outputs": [],
   "source": [
    "dfTrain1['polarity_label'] = dfTrain1['UpdatedScore'].progress_apply(system_polarity_label)"
   ]
  },
  {
   "cell_type": "code",
   "execution_count": 202,
   "metadata": {
    "id": "u2cRcfV6m_AN"
   },
   "outputs": [],
   "source": [
    "def gold_polarity_label(score):\n",
    "    polarity_label = ''\n",
    "    if score > 3.0:\n",
    "        polarity_label = \"Positive\"\n",
    "    elif 0.0 < score <= 2.0:\n",
    "        polarity_label = \"Negative\"\n",
    "    elif 2.0 < score <= 3.0:\n",
    "        polarity_label = \"Neutral\"\n",
    "    return polarity_label"
   ]
  },
  {
   "cell_type": "code",
   "execution_count": 203,
   "metadata": {
    "id": "ogEgA9sXm_AO"
   },
   "outputs": [],
   "source": [
    "#dfTrain1['gold_polarity_label'] = dfTrain1['Polarity'].progress_apply(gold_polarity_label)"
   ]
  },
  {
   "cell_type": "code",
   "execution_count": 204,
   "metadata": {
    "colab": {
     "base_uri": "https://localhost:8080/",
     "height": 727
    },
    "executionInfo": {
     "elapsed": 1635,
     "status": "ok",
     "timestamp": 1716531711642,
     "user": {
      "displayName": "Olga Kellert",
      "userId": "10697804426852394315"
     },
     "user_tz": -120
    },
    "id": "HSn_fB0vm_AO",
    "outputId": "cf79b542-4a0a-4bc8-bfdb-3f7e26a552ef"
   },
   "outputs": [
    {
     "data": {
      "text/plain": [
       "<Axes: xlabel='Score'>"
      ]
     },
     "execution_count": 204,
     "metadata": {},
     "output_type": "execute_result"
    },
    {
     "data": {
      "image/png": "[encoded data removed]",
      "text/plain": [
       "<Figure size 640x480 with 1 Axes>"
      ]
     },
     "metadata": {},
     "output_type": "display_data"
    }
   ],
   "source": [
    "import seaborn as sns\n",
    "sns.distplot(dfTrain1[(dfTrain1.Score!= 'none') & (dfTrain1.Score!=-300) & (dfTrain1.Score!=-200) & (dfTrain1.Score.notnull()) & (dfTrain1.Score!=-100)]['Score'], kde=False, bins = 40)"
   ]
  },
  {
   "cell_type": "code",
   "execution_count": 205,
   "metadata": {
    "colab": {
     "base_uri": "https://localhost:8080/",
     "height": 657
    },
    "executionInfo": {
     "elapsed": 771,
     "status": "ok",
     "timestamp": 1716531745090,
     "user": {
      "displayName": "Olga Kellert",
      "userId": "10697804426852394315"
     },
     "user_tz": -120
    },
    "id": "JbvjHi9Lm_AO",
    "outputId": "659f30e0-8292-4d53-9d2f-5f6d559552be"
   },
   "outputs": [
    {
     "data": {
      "text/plain": [
       "<Axes: xlabel='UpdatedScore'>"
      ]
     },
     "execution_count": 205,
     "metadata": {},
     "output_type": "execute_result"
    },
    {
     "data": {
      "image/png": "[encoded data removed]",
      "text/plain": [
       "<Figure size 640x480 with 1 Axes>"
      ]
     },
     "metadata": {},
     "output_type": "display_data"
    }
   ],
   "source": [
    "sns.distplot(dfTrain1[(dfTrain1.Score!= 'none') & (dfTrain1.Score!=-300) & (dfTrain1.Score!=-200) & (dfTrain1.Score.notnull()) & (dfTrain1.Score!=-100)]['UpdatedScore'], kde=False, bins = 40)"
   ]
  },
  {
   "cell_type": "markdown",
   "metadata": {
    "id": "WqrlyHtgm_AO"
   },
   "source": [
    "### Save Sentiment Analysis Results Files"
   ]
  },
  {
   "cell_type": "code",
   "execution_count": 206,
   "metadata": {
    "id": "ZKYboiN5m_AO"
   },
   "outputs": [],
   "source": [
    "file_name = \"Tweets_Spanish_\" + mode + \".xlsx\"\n",
    "dfTrain1.to_excel(\"/sentiment-analysis-results/\"+file_name)"
   ]
  },
  {
   "cell_type": "code",
   "execution_count": 207,
   "metadata": {
    "colab": {
     "base_uri": "https://localhost:8080/"
    },
    "executionInfo": {
     "elapsed": 9,
     "status": "ok",
     "timestamp": 1716902634908,
     "user": {
      "displayName": "Olga Kellert",
      "userId": "10697804426852394315"
     },
     "user_tz": -120
    },
    "id": "sJk_weRfm_AO",
    "outputId": "9ee6a16e-1436-4fcd-8a92-3bbc77c5e5d1"
   },
   "outputs": [
    {
     "name": "stdout",
     "output_type": "stream",
     "text": [
      "Output file save successfully..!\n"
     ]
    }
   ],
   "source": [
    "print(\"Output file save successfully..!\")"
   ]
  },
  {
   "cell_type": "code",
   "execution_count": null,
   "metadata": {
    "id": "qXaj4FSym_AP"
   },
   "outputs": [],
   "source": []
  }
 ],
 "metadata": {
  "colab": {
   "provenance": [
    {
     "file_id": "1CgSewcQ4XE2bE6kyTklBzJAdtUoo5neN",
     "timestamp": 1717048714788
    }
   ]
  },
  "kernelspec": {
   "display_name": "Python 3 (ipykernel)",
   "language": "python",
   "name": "python3"
  },
  "language_info": {
   "codemirror_mode": {
    "name": "ipython",
    "version": 3
   },
   "file_extension": ".py",
   "mimetype": "text/x-python",
   "name": "python",
   "nbconvert_exporter": "python",
   "pygments_lexer": "ipython3",
   "version": "3.11.5"
  },
  "widgets": {
   "application/vnd.jupyter.widget-state+json": {
    "0265b3f786954afaa539df0fcdf4b3ed": {
     "model_module": "@jupyter-widgets/controls",
     "model_module_version": "1.5.0",
     "model_name": "HBoxModel",
     "state": {
      "_dom_classes": [],
      "_model_module": "@jupyter-widgets/controls",
      "_model_module_version": "1.5.0",
      "_model_name": "HBoxModel",
      "_view_count": null,
      "_view_module": "@jupyter-widgets/controls",
      "_view_module_version": "1.5.0",
      "_view_name": "HBoxView",
      "box_style": "",
      "children": [
       "IPY_MODEL_9a60f3dae60a414c87669fd209cc3250",
       "IPY_MODEL_e764e60b93894010bfad3e0f9eee6f1b",
       "IPY_MODEL_eaac9460ef7742dfa32a3eac5cf33fbc"
      ],
      "layout": "IPY_MODEL_7a65e249d0a64b77bb471774e63f712a"
     }
    },
    "0639a19873f940b5aca5d275275618a7": {
     "model_module": "@jupyter-widgets/base",
     "model_module_version": "1.2.0",
     "model_name": "LayoutModel",
     "state": {
      "_model_module": "@jupyter-widgets/base",
      "_model_module_version": "1.2.0",
      "_model_name": "LayoutModel",
      "_view_count": null,
      "_view_module": "@jupyter-widgets/base",
      "_view_module_version": "1.2.0",
      "_view_name": "LayoutView",
      "align_content": null,
      "align_items": null,
      "align_self": null,
      "border": null,
      "bottom": null,
      "display": null,
      "flex": null,
      "flex_flow": null,
      "grid_area": null,
      "grid_auto_columns": null,
      "grid_auto_flow": null,
      "grid_auto_rows": null,
      "grid_column": null,
      "grid_gap": null,
      "grid_row": null,
      "grid_template_areas": null,
      "grid_template_columns": null,
      "grid_template_rows": null,
      "height": null,
      "justify_content": null,
      "justify_items": null,
      "left": null,
      "margin": null,
      "max_height": null,
      "max_width": null,
      "min_height": null,
      "min_width": null,
      "object_fit": null,
      "object_position": null,
      "order": null,
      "overflow": null,
      "overflow_x": null,
      "overflow_y": null,
      "padding": null,
      "right": null,
      "top": null,
      "visibility": null,
      "width": null
     }
    },
    "067fe89e66c840deba10b80e4e5f00e5": {
     "model_module": "@jupyter-widgets/controls",
     "model_module_version": "1.5.0",
     "model_name": "ProgressStyleModel",
     "state": {
      "_model_module": "@jupyter-widgets/controls",
      "_model_module_version": "1.5.0",
      "_model_name": "ProgressStyleModel",
      "_view_count": null,
      "_view_module": "@jupyter-widgets/base",
      "_view_module_version": "1.2.0",
      "_view_name": "StyleView",
      "bar_color": null,
      "description_width": ""
     }
    },
    "08542e1572b4438b96fe6713d8f26dce": {
     "model_module": "@jupyter-widgets/base",
     "model_module_version": "1.2.0",
     "model_name": "LayoutModel",
     "state": {
      "_model_module": "@jupyter-widgets/base",
      "_model_module_version": "1.2.0",
      "_model_name": "LayoutModel",
      "_view_count": null,
      "_view_module": "@jupyter-widgets/base",
      "_view_module_version": "1.2.0",
      "_view_name": "LayoutView",
      "align_content": null,
      "align_items": null,
      "align_self": null,
      "border": null,
      "bottom": null,
      "display": null,
      "flex": null,
      "flex_flow": null,
      "grid_area": null,
      "grid_auto_columns": null,
      "grid_auto_flow": null,
      "grid_auto_rows": null,
      "grid_column": null,
      "grid_gap": null,
      "grid_row": null,
      "grid_template_areas": null,
      "grid_template_columns": null,
      "grid_template_rows": null,
      "height": null,
      "justify_content": null,
      "justify_items": null,
      "left": null,
      "margin": null,
      "max_height": null,
      "max_width": null,
      "min_height": null,
      "min_width": null,
      "object_fit": null,
      "object_position": null,
      "order": null,
      "overflow": null,
      "overflow_x": null,
      "overflow_y": null,
      "padding": null,
      "right": null,
      "top": null,
      "visibility": null,
      "width": null
     }
    },
    "08b9eadf0beb4780b0df025c53a0487c": {
     "model_module": "@jupyter-widgets/base",
     "model_module_version": "1.2.0",
     "model_name": "LayoutModel",
     "state": {
      "_model_module": "@jupyter-widgets/base",
      "_model_module_version": "1.2.0",
      "_model_name": "LayoutModel",
      "_view_count": null,
      "_view_module": "@jupyter-widgets/base",
      "_view_module_version": "1.2.0",
      "_view_name": "LayoutView",
      "align_content": null,
      "align_items": null,
      "align_self": null,
      "border": null,
      "bottom": null,
      "display": null,
      "flex": null,
      "flex_flow": null,
      "grid_area": null,
      "grid_auto_columns": null,
      "grid_auto_flow": null,
      "grid_auto_rows": null,
      "grid_column": null,
      "grid_gap": null,
      "grid_row": null,
      "grid_template_areas": null,
      "grid_template_columns": null,
      "grid_template_rows": null,
      "height": null,
      "justify_content": null,
      "justify_items": null,
      "left": null,
      "margin": null,
      "max_height": null,
      "max_width": null,
      "min_height": null,
      "min_width": null,
      "object_fit": null,
      "object_position": null,
      "order": null,
      "overflow": null,
      "overflow_x": null,
      "overflow_y": null,
      "padding": null,
      "right": null,
      "top": null,
      "visibility": null,
      "width": null
     }
    },
    "0aa24de6802b4b78b8bd853e872306c6": {
     "model_module": "@jupyter-widgets/base",
     "model_module_version": "1.2.0",
     "model_name": "LayoutModel",
     "state": {
      "_model_module": "@jupyter-widgets/base",
      "_model_module_version": "1.2.0",
      "_model_name": "LayoutModel",
      "_view_count": null,
      "_view_module": "@jupyter-widgets/base",
      "_view_module_version": "1.2.0",
      "_view_name": "LayoutView",
      "align_content": null,
      "align_items": null,
      "align_self": null,
      "border": null,
      "bottom": null,
      "display": null,
      "flex": null,
      "flex_flow": null,
      "grid_area": null,
      "grid_auto_columns": null,
      "grid_auto_flow": null,
      "grid_auto_rows": null,
      "grid_column": null,
      "grid_gap": null,
      "grid_row": null,
      "grid_template_areas": null,
      "grid_template_columns": null,
      "grid_template_rows": null,
      "height": null,
      "justify_content": null,
      "justify_items": null,
      "left": null,
      "margin": null,
      "max_height": null,
      "max_width": null,
      "min_height": null,
      "min_width": null,
      "object_fit": null,
      "object_position": null,
      "order": null,
      "overflow": null,
      "overflow_x": null,
      "overflow_y": null,
      "padding": null,
      "right": null,
      "top": null,
      "visibility": null,
      "width": "20px"
     }
    },
    "0f0b9a1132674d72931124dd5573f495": {
     "model_module": "@jupyter-widgets/base",
     "model_module_version": "1.2.0",
     "model_name": "LayoutModel",
     "state": {
      "_model_module": "@jupyter-widgets/base",
      "_model_module_version": "1.2.0",
      "_model_name": "LayoutModel",
      "_view_count": null,
      "_view_module": "@jupyter-widgets/base",
      "_view_module_version": "1.2.0",
      "_view_name": "LayoutView",
      "align_content": null,
      "align_items": null,
      "align_self": null,
      "border": null,
      "bottom": null,
      "display": null,
      "flex": null,
      "flex_flow": null,
      "grid_area": null,
      "grid_auto_columns": null,
      "grid_auto_flow": null,
      "grid_auto_rows": null,
      "grid_column": null,
      "grid_gap": null,
      "grid_row": null,
      "grid_template_areas": null,
      "grid_template_columns": null,
      "grid_template_rows": null,
      "height": null,
      "justify_content": null,
      "justify_items": null,
      "left": null,
      "margin": null,
      "max_height": null,
      "max_width": null,
      "min_height": null,
      "min_width": null,
      "object_fit": null,
      "object_position": null,
      "order": null,
      "overflow": null,
      "overflow_x": null,
      "overflow_y": null,
      "padding": null,
      "right": null,
      "top": null,
      "visibility": null,
      "width": null
     }
    },
    "0fcc207cff4c4b14868220e1234ed2ae": {
     "model_module": "@jupyter-widgets/base",
     "model_module_version": "1.2.0",
     "model_name": "LayoutModel",
     "state": {
      "_model_module": "@jupyter-widgets/base",
      "_model_module_version": "1.2.0",
      "_model_name": "LayoutModel",
      "_view_count": null,
      "_view_module": "@jupyter-widgets/base",
      "_view_module_version": "1.2.0",
      "_view_name": "LayoutView",
      "align_content": null,
      "align_items": null,
      "align_self": null,
      "border": null,
      "bottom": null,
      "display": null,
      "flex": null,
      "flex_flow": null,
      "grid_area": null,
      "grid_auto_columns": null,
      "grid_auto_flow": null,
      "grid_auto_rows": null,
      "grid_column": null,
      "grid_gap": null,
      "grid_row": null,
      "grid_template_areas": null,
      "grid_template_columns": null,
      "grid_template_rows": null,
      "height": null,
      "justify_content": null,
      "justify_items": null,
      "left": null,
      "margin": null,
      "max_height": null,
      "max_width": null,
      "min_height": null,
      "min_width": null,
      "object_fit": null,
      "object_position": null,
      "order": null,
      "overflow": null,
      "overflow_x": null,
      "overflow_y": null,
      "padding": null,
      "right": null,
      "top": null,
      "visibility": null,
      "width": null
     }
    },
    "112d01aebc214595aa3565f26f0b2266": {
     "model_module": "@jupyter-widgets/controls",
     "model_module_version": "1.5.0",
     "model_name": "DescriptionStyleModel",
     "state": {
      "_model_module": "@jupyter-widgets/controls",
      "_model_module_version": "1.5.0",
      "_model_name": "DescriptionStyleModel",
      "_view_count": null,
      "_view_module": "@jupyter-widgets/base",
      "_view_module_version": "1.2.0",
      "_view_name": "StyleView",
      "description_width": ""
     }
    },
    "186e07c469a44ccaaa57d92da943ed0b": {
     "model_module": "@jupyter-widgets/controls",
     "model_module_version": "1.5.0",
     "model_name": "DescriptionStyleModel",
     "state": {
      "_model_module": "@jupyter-widgets/controls",
      "_model_module_version": "1.5.0",
      "_model_name": "DescriptionStyleModel",
      "_view_count": null,
      "_view_module": "@jupyter-widgets/base",
      "_view_module_version": "1.2.0",
      "_view_name": "StyleView",
      "description_width": ""
     }
    },
    "1cda8c396324497d86b095d1d7ab57d1": {
     "model_module": "@jupyter-widgets/controls",
     "model_module_version": "1.5.0",
     "model_name": "DescriptionStyleModel",
     "state": {
      "_model_module": "@jupyter-widgets/controls",
      "_model_module_version": "1.5.0",
      "_model_name": "DescriptionStyleModel",
      "_view_count": null,
      "_view_module": "@jupyter-widgets/base",
      "_view_module_version": "1.2.0",
      "_view_name": "StyleView",
      "description_width": ""
     }
    },
    "1d0031db865d4a67b37c3ae12aa8ace1": {
     "model_module": "@jupyter-widgets/base",
     "model_module_version": "1.2.0",
     "model_name": "LayoutModel",
     "state": {
      "_model_module": "@jupyter-widgets/base",
      "_model_module_version": "1.2.0",
      "_model_name": "LayoutModel",
      "_view_count": null,
      "_view_module": "@jupyter-widgets/base",
      "_view_module_version": "1.2.0",
      "_view_name": "LayoutView",
      "align_content": null,
      "align_items": null,
      "align_self": null,
      "border": null,
      "bottom": null,
      "display": null,
      "flex": null,
      "flex_flow": null,
      "grid_area": null,
      "grid_auto_columns": null,
      "grid_auto_flow": null,
      "grid_auto_rows": null,
      "grid_column": null,
      "grid_gap": null,
      "grid_row": null,
      "grid_template_areas": null,
      "grid_template_columns": null,
      "grid_template_rows": null,
      "height": null,
      "justify_content": null,
      "justify_items": null,
      "left": null,
      "margin": null,
      "max_height": null,
      "max_width": null,
      "min_height": null,
      "min_width": null,
      "object_fit": null,
      "object_position": null,
      "order": null,
      "overflow": null,
      "overflow_x": null,
      "overflow_y": null,
      "padding": null,
      "right": null,
      "top": null,
      "visibility": null,
      "width": null
     }
    },
    "1e65794e3cd04f8ead60152b1f5c2fe4": {
     "model_module": "@jupyter-widgets/controls",
     "model_module_version": "1.5.0",
     "model_name": "HTMLModel",
     "state": {
      "_dom_classes": [],
      "_model_module": "@jupyter-widgets/controls",
      "_model_module_version": "1.5.0",
      "_model_name": "HTMLModel",
      "_view_count": null,
      "_view_module": "@jupyter-widgets/controls",
      "_view_module_version": "1.5.0",
      "_view_name": "HTMLView",
      "description": "",
      "description_tooltip": null,
      "layout": "IPY_MODEL_08542e1572b4438b96fe6713d8f26dce",
      "placeholder": "​",
      "style": "IPY_MODEL_186e07c469a44ccaaa57d92da943ed0b",
      "value": "Downloading https://raw.githubusercontent.com/stanfordnlp/stanza-resources/main/resources_1.8.0.json: "
     }
    },
    "1f3ffa5349e64a198a5baf578e0b3ece": {
     "model_module": "@jupyter-widgets/controls",
     "model_module_version": "1.5.0",
     "model_name": "DescriptionStyleModel",
     "state": {
      "_model_module": "@jupyter-widgets/controls",
      "_model_module_version": "1.5.0",
      "_model_name": "DescriptionStyleModel",
      "_view_count": null,
      "_view_module": "@jupyter-widgets/base",
      "_view_module_version": "1.2.0",
      "_view_name": "StyleView",
      "description_width": ""
     }
    },
    "1f439a5100fc4a10bd3b1f071d142457": {
     "model_module": "@jupyter-widgets/controls",
     "model_module_version": "1.5.0",
     "model_name": "DescriptionStyleModel",
     "state": {
      "_model_module": "@jupyter-widgets/controls",
      "_model_module_version": "1.5.0",
      "_model_name": "DescriptionStyleModel",
      "_view_count": null,
      "_view_module": "@jupyter-widgets/base",
      "_view_module_version": "1.2.0",
      "_view_name": "StyleView",
      "description_width": ""
     }
    },
    "215523e422c44538b2a50edd37745f68": {
     "model_module": "@jupyter-widgets/controls",
     "model_module_version": "1.5.0",
     "model_name": "HTMLModel",
     "state": {
      "_dom_classes": [],
      "_model_module": "@jupyter-widgets/controls",
      "_model_module_version": "1.5.0",
      "_model_name": "HTMLModel",
      "_view_count": null,
      "_view_module": "@jupyter-widgets/controls",
      "_view_module_version": "1.5.0",
      "_view_name": "HTMLView",
      "description": "",
      "description_tooltip": null,
      "layout": "IPY_MODEL_db51cae46eb0418db0b1490faf96e6b5",
      "placeholder": "​",
      "style": "IPY_MODEL_430da50a7f9446918da4c0bda796ca37",
      "value": " 10000/10000 [00:00&lt;00:00, 20742.71it/s]"
     }
    },
    "2359c87b74d7472f9b757e5f835d9033": {
     "model_module": "@jupyter-widgets/controls",
     "model_module_version": "1.5.0",
     "model_name": "FloatProgressModel",
     "state": {
      "_dom_classes": [],
      "_model_module": "@jupyter-widgets/controls",
      "_model_module_version": "1.5.0",
      "_model_name": "FloatProgressModel",
      "_view_count": null,
      "_view_module": "@jupyter-widgets/controls",
      "_view_module_version": "1.5.0",
      "_view_name": "ProgressView",
      "bar_style": "success",
      "description": "",
      "description_tooltip": null,
      "layout": "IPY_MODEL_5b1e7dc83601499993958b22c43d754f",
      "max": 47208,
      "min": 0,
      "orientation": "horizontal",
      "style": "IPY_MODEL_fb2c6769cd8c4e6689e0ef41bccf8e91",
      "value": 47208
     }
    },
    "28d8aa69433e4e9fb5294a709fa4f095": {
     "model_module": "@jupyter-widgets/controls",
     "model_module_version": "1.5.0",
     "model_name": "DescriptionStyleModel",
     "state": {
      "_model_module": "@jupyter-widgets/controls",
      "_model_module_version": "1.5.0",
      "_model_name": "DescriptionStyleModel",
      "_view_count": null,
      "_view_module": "@jupyter-widgets/base",
      "_view_module_version": "1.2.0",
      "_view_name": "StyleView",
      "description_width": ""
     }
    },
    "376ac339290c4bb3ad2f34f353027cbf": {
     "model_module": "@jupyter-widgets/controls",
     "model_module_version": "1.5.0",
     "model_name": "DescriptionStyleModel",
     "state": {
      "_model_module": "@jupyter-widgets/controls",
      "_model_module_version": "1.5.0",
      "_model_name": "DescriptionStyleModel",
      "_view_count": null,
      "_view_module": "@jupyter-widgets/base",
      "_view_module_version": "1.2.0",
      "_view_name": "StyleView",
      "description_width": ""
     }
    },
    "3790e18aa1074b6fbd155cbdac55f11d": {
     "model_module": "@jupyter-widgets/controls",
     "model_module_version": "1.5.0",
     "model_name": "HTMLModel",
     "state": {
      "_dom_classes": [],
      "_model_module": "@jupyter-widgets/controls",
      "_model_module_version": "1.5.0",
      "_model_name": "HTMLModel",
      "_view_count": null,
      "_view_module": "@jupyter-widgets/controls",
      "_view_module_version": "1.5.0",
      "_view_name": "HTMLView",
      "description": "",
      "description_tooltip": null,
      "layout": "IPY_MODEL_b66cd26c2589448f90ea49e78efb9e11",
      "placeholder": "​",
      "style": "IPY_MODEL_6eb84946acb041449d2e16b21512428a",
      "value": " 379k/? [00:00&lt;00:00, 18.0MB/s]"
     }
    },
    "3e9b409d843948d880ee294a77c7929a": {
     "model_module": "@jupyter-widgets/controls",
     "model_module_version": "1.5.0",
     "model_name": "DescriptionStyleModel",
     "state": {
      "_model_module": "@jupyter-widgets/controls",
      "_model_module_version": "1.5.0",
      "_model_name": "DescriptionStyleModel",
      "_view_count": null,
      "_view_module": "@jupyter-widgets/base",
      "_view_module_version": "1.2.0",
      "_view_name": "StyleView",
      "description_width": ""
     }
    },
    "4075596ea8164a29b4ba7e1592b913a7": {
     "model_module": "@jupyter-widgets/base",
     "model_module_version": "1.2.0",
     "model_name": "LayoutModel",
     "state": {
      "_model_module": "@jupyter-widgets/base",
      "_model_module_version": "1.2.0",
      "_model_name": "LayoutModel",
      "_view_count": null,
      "_view_module": "@jupyter-widgets/base",
      "_view_module_version": "1.2.0",
      "_view_name": "LayoutView",
      "align_content": null,
      "align_items": null,
      "align_self": null,
      "border": null,
      "bottom": null,
      "display": null,
      "flex": null,
      "flex_flow": null,
      "grid_area": null,
      "grid_auto_columns": null,
      "grid_auto_flow": null,
      "grid_auto_rows": null,
      "grid_column": null,
      "grid_gap": null,
      "grid_row": null,
      "grid_template_areas": null,
      "grid_template_columns": null,
      "grid_template_rows": null,
      "height": null,
      "justify_content": null,
      "justify_items": null,
      "left": null,
      "margin": null,
      "max_height": null,
      "max_width": null,
      "min_height": null,
      "min_width": null,
      "object_fit": null,
      "object_position": null,
      "order": null,
      "overflow": null,
      "overflow_x": null,
      "overflow_y": null,
      "padding": null,
      "right": null,
      "top": null,
      "visibility": null,
      "width": null
     }
    },
    "430da50a7f9446918da4c0bda796ca37": {
     "model_module": "@jupyter-widgets/controls",
     "model_module_version": "1.5.0",
     "model_name": "DescriptionStyleModel",
     "state": {
      "_model_module": "@jupyter-widgets/controls",
      "_model_module_version": "1.5.0",
      "_model_name": "DescriptionStyleModel",
      "_view_count": null,
      "_view_module": "@jupyter-widgets/base",
      "_view_module_version": "1.2.0",
      "_view_name": "StyleView",
      "description_width": ""
     }
    },
    "44e279dcfe5d416ab7647cde24fce230": {
     "model_module": "@jupyter-widgets/base",
     "model_module_version": "1.2.0",
     "model_name": "LayoutModel",
     "state": {
      "_model_module": "@jupyter-widgets/base",
      "_model_module_version": "1.2.0",
      "_model_name": "LayoutModel",
      "_view_count": null,
      "_view_module": "@jupyter-widgets/base",
      "_view_module_version": "1.2.0",
      "_view_name": "LayoutView",
      "align_content": null,
      "align_items": null,
      "align_self": null,
      "border": null,
      "bottom": null,
      "display": null,
      "flex": null,
      "flex_flow": null,
      "grid_area": null,
      "grid_auto_columns": null,
      "grid_auto_flow": null,
      "grid_auto_rows": null,
      "grid_column": null,
      "grid_gap": null,
      "grid_row": null,
      "grid_template_areas": null,
      "grid_template_columns": null,
      "grid_template_rows": null,
      "height": null,
      "justify_content": null,
      "justify_items": null,
      "left": null,
      "margin": null,
      "max_height": null,
      "max_width": null,
      "min_height": null,
      "min_width": null,
      "object_fit": null,
      "object_position": null,
      "order": null,
      "overflow": null,
      "overflow_x": null,
      "overflow_y": null,
      "padding": null,
      "right": null,
      "top": null,
      "visibility": null,
      "width": null
     }
    },
    "4c0026dc4df343c6b1f4598e901c83f2": {
     "model_module": "@jupyter-widgets/base",
     "model_module_version": "1.2.0",
     "model_name": "LayoutModel",
     "state": {
      "_model_module": "@jupyter-widgets/base",
      "_model_module_version": "1.2.0",
      "_model_name": "LayoutModel",
      "_view_count": null,
      "_view_module": "@jupyter-widgets/base",
      "_view_module_version": "1.2.0",
      "_view_name": "LayoutView",
      "align_content": null,
      "align_items": null,
      "align_self": null,
      "border": null,
      "bottom": null,
      "display": null,
      "flex": null,
      "flex_flow": null,
      "grid_area": null,
      "grid_auto_columns": null,
      "grid_auto_flow": null,
      "grid_auto_rows": null,
      "grid_column": null,
      "grid_gap": null,
      "grid_row": null,
      "grid_template_areas": null,
      "grid_template_columns": null,
      "grid_template_rows": null,
      "height": null,
      "justify_content": null,
      "justify_items": null,
      "left": null,
      "margin": null,
      "max_height": null,
      "max_width": null,
      "min_height": null,
      "min_width": null,
      "object_fit": null,
      "object_position": null,
      "order": null,
      "overflow": null,
      "overflow_x": null,
      "overflow_y": null,
      "padding": null,
      "right": null,
      "top": null,
      "visibility": null,
      "width": null
     }
    },
    "4eec66cae932411ba00d31f4388fb523": {
     "model_module": "@jupyter-widgets/base",
     "model_module_version": "1.2.0",
     "model_name": "LayoutModel",
     "state": {
      "_model_module": "@jupyter-widgets/base",
      "_model_module_version": "1.2.0",
      "_model_name": "LayoutModel",
      "_view_count": null,
      "_view_module": "@jupyter-widgets/base",
      "_view_module_version": "1.2.0",
      "_view_name": "LayoutView",
      "align_content": null,
      "align_items": null,
      "align_self": null,
      "border": null,
      "bottom": null,
      "display": null,
      "flex": null,
      "flex_flow": null,
      "grid_area": null,
      "grid_auto_columns": null,
      "grid_auto_flow": null,
      "grid_auto_rows": null,
      "grid_column": null,
      "grid_gap": null,
      "grid_row": null,
      "grid_template_areas": null,
      "grid_template_columns": null,
      "grid_template_rows": null,
      "height": null,
      "justify_content": null,
      "justify_items": null,
      "left": null,
      "margin": null,
      "max_height": null,
      "max_width": null,
      "min_height": null,
      "min_width": null,
      "object_fit": null,
      "object_position": null,
      "order": null,
      "overflow": null,
      "overflow_x": null,
      "overflow_y": null,
      "padding": null,
      "right": null,
      "top": null,
      "visibility": null,
      "width": null
     }
    },
    "562573c5cf734228950bda624848d5d5": {
     "model_module": "@jupyter-widgets/controls",
     "model_module_version": "1.5.0",
     "model_name": "ProgressStyleModel",
     "state": {
      "_model_module": "@jupyter-widgets/controls",
      "_model_module_version": "1.5.0",
      "_model_name": "ProgressStyleModel",
      "_view_count": null,
      "_view_module": "@jupyter-widgets/base",
      "_view_module_version": "1.2.0",
      "_view_name": "StyleView",
      "bar_color": null,
      "description_width": ""
     }
    },
    "564d47466be6412cb3799a1e885a0575": {
     "model_module": "@jupyter-widgets/base",
     "model_module_version": "1.2.0",
     "model_name": "LayoutModel",
     "state": {
      "_model_module": "@jupyter-widgets/base",
      "_model_module_version": "1.2.0",
      "_model_name": "LayoutModel",
      "_view_count": null,
      "_view_module": "@jupyter-widgets/base",
      "_view_module_version": "1.2.0",
      "_view_name": "LayoutView",
      "align_content": null,
      "align_items": null,
      "align_self": null,
      "border": null,
      "bottom": null,
      "display": null,
      "flex": null,
      "flex_flow": null,
      "grid_area": null,
      "grid_auto_columns": null,
      "grid_auto_flow": null,
      "grid_auto_rows": null,
      "grid_column": null,
      "grid_gap": null,
      "grid_row": null,
      "grid_template_areas": null,
      "grid_template_columns": null,
      "grid_template_rows": null,
      "height": null,
      "justify_content": null,
      "justify_items": null,
      "left": null,
      "margin": null,
      "max_height": null,
      "max_width": null,
      "min_height": null,
      "min_width": null,
      "object_fit": null,
      "object_position": null,
      "order": null,
      "overflow": null,
      "overflow_x": null,
      "overflow_y": null,
      "padding": null,
      "right": null,
      "top": null,
      "visibility": null,
      "width": null
     }
    },
    "572a956688e24f9f95b5228eb0be13ba": {
     "model_module": "@jupyter-widgets/base",
     "model_module_version": "1.2.0",
     "model_name": "LayoutModel",
     "state": {
      "_model_module": "@jupyter-widgets/base",
      "_model_module_version": "1.2.0",
      "_model_name": "LayoutModel",
      "_view_count": null,
      "_view_module": "@jupyter-widgets/base",
      "_view_module_version": "1.2.0",
      "_view_name": "LayoutView",
      "align_content": null,
      "align_items": null,
      "align_self": null,
      "border": null,
      "bottom": null,
      "display": null,
      "flex": null,
      "flex_flow": null,
      "grid_area": null,
      "grid_auto_columns": null,
      "grid_auto_flow": null,
      "grid_auto_rows": null,
      "grid_column": null,
      "grid_gap": null,
      "grid_row": null,
      "grid_template_areas": null,
      "grid_template_columns": null,
      "grid_template_rows": null,
      "height": null,
      "justify_content": null,
      "justify_items": null,
      "left": null,
      "margin": null,
      "max_height": null,
      "max_width": null,
      "min_height": null,
      "min_width": null,
      "object_fit": null,
      "object_position": null,
      "order": null,
      "overflow": null,
      "overflow_x": null,
      "overflow_y": null,
      "padding": null,
      "right": null,
      "top": null,
      "visibility": null,
      "width": null
     }
    },
    "5b1e7dc83601499993958b22c43d754f": {
     "model_module": "@jupyter-widgets/base",
     "model_module_version": "1.2.0",
     "model_name": "LayoutModel",
     "state": {
      "_model_module": "@jupyter-widgets/base",
      "_model_module_version": "1.2.0",
      "_model_name": "LayoutModel",
      "_view_count": null,
      "_view_module": "@jupyter-widgets/base",
      "_view_module_version": "1.2.0",
      "_view_name": "LayoutView",
      "align_content": null,
      "align_items": null,
      "align_self": null,
      "border": null,
      "bottom": null,
      "display": null,
      "flex": null,
      "flex_flow": null,
      "grid_area": null,
      "grid_auto_columns": null,
      "grid_auto_flow": null,
      "grid_auto_rows": null,
      "grid_column": null,
      "grid_gap": null,
      "grid_row": null,
      "grid_template_areas": null,
      "grid_template_columns": null,
      "grid_template_rows": null,
      "height": null,
      "justify_content": null,
      "justify_items": null,
      "left": null,
      "margin": null,
      "max_height": null,
      "max_width": null,
      "min_height": null,
      "min_width": null,
      "object_fit": null,
      "object_position": null,
      "order": null,
      "overflow": null,
      "overflow_x": null,
      "overflow_y": null,
      "padding": null,
      "right": null,
      "top": null,
      "visibility": null,
      "width": null
     }
    },
    "5ed066843787426e8bb523c0b7747e8f": {
     "model_module": "@jupyter-widgets/controls",
     "model_module_version": "1.5.0",
     "model_name": "HTMLModel",
     "state": {
      "_dom_classes": [],
      "_model_module": "@jupyter-widgets/controls",
      "_model_module_version": "1.5.0",
      "_model_name": "HTMLModel",
      "_view_count": null,
      "_view_module": "@jupyter-widgets/controls",
      "_view_module_version": "1.5.0",
      "_view_name": "HTMLView",
      "description": "",
      "description_tooltip": null,
      "layout": "IPY_MODEL_d7e0054c7ee147a4ba0ec0877a40e5bd",
      "placeholder": "​",
      "style": "IPY_MODEL_98a25ce59ddd46c8b92552d68e088be9",
      "value": " 635M/635M [00:04&lt;00:00, 147MB/s]"
     }
    },
    "670347d352fc45a49b8e6aaa0e4e9a20": {
     "model_module": "@jupyter-widgets/controls",
     "model_module_version": "1.5.0",
     "model_name": "HBoxModel",
     "state": {
      "_dom_classes": [],
      "_model_module": "@jupyter-widgets/controls",
      "_model_module_version": "1.5.0",
      "_model_name": "HBoxModel",
      "_view_count": null,
      "_view_module": "@jupyter-widgets/controls",
      "_view_module_version": "1.5.0",
      "_view_name": "HBoxView",
      "box_style": "",
      "children": [
       "IPY_MODEL_f985bb8ae6334c26ae34abe93644b55b",
       "IPY_MODEL_f5d2d34bbc3e418a96d55996f34e0423",
       "IPY_MODEL_7234d119052d46be986af477e7be3d4b"
      ],
      "layout": "IPY_MODEL_a28dbd072cfa477fbbf373a15124a5a1"
     }
    },
    "6cf2c7ddafde4b2ba8236c332ad06501": {
     "model_module": "@jupyter-widgets/controls",
     "model_module_version": "1.5.0",
     "model_name": "HBoxModel",
     "state": {
      "_dom_classes": [],
      "_model_module": "@jupyter-widgets/controls",
      "_model_module_version": "1.5.0",
      "_model_name": "HBoxModel",
      "_view_count": null,
      "_view_module": "@jupyter-widgets/controls",
      "_view_module_version": "1.5.0",
      "_view_name": "HBoxView",
      "box_style": "",
      "children": [
       "IPY_MODEL_df48fea07b3a4be49f9782eeced0dda6",
       "IPY_MODEL_2359c87b74d7472f9b757e5f835d9033",
       "IPY_MODEL_fb9ab28dffde47f7ab7a0895fd9f20f5"
      ],
      "layout": "IPY_MODEL_af6e3c43697a4b74bd53b1980348a582"
     }
    },
    "6eb84946acb041449d2e16b21512428a": {
     "model_module": "@jupyter-widgets/controls",
     "model_module_version": "1.5.0",
     "model_name": "DescriptionStyleModel",
     "state": {
      "_model_module": "@jupyter-widgets/controls",
      "_model_module_version": "1.5.0",
      "_model_name": "DescriptionStyleModel",
      "_view_count": null,
      "_view_module": "@jupyter-widgets/base",
      "_view_module_version": "1.2.0",
      "_view_name": "StyleView",
      "description_width": ""
     }
    },
    "703c7ab14e53421e82ef61f1a44434d6": {
     "model_module": "@jupyter-widgets/controls",
     "model_module_version": "1.5.0",
     "model_name": "HBoxModel",
     "state": {
      "_dom_classes": [],
      "_model_module": "@jupyter-widgets/controls",
      "_model_module_version": "1.5.0",
      "_model_name": "HBoxModel",
      "_view_count": null,
      "_view_module": "@jupyter-widgets/controls",
      "_view_module_version": "1.5.0",
      "_view_name": "HBoxView",
      "box_style": "",
      "children": [
       "IPY_MODEL_a495fe64591547b8b111047737572d25",
       "IPY_MODEL_99cc5cd028e549e3a044d6f9f9ee1daa",
       "IPY_MODEL_98b8e5e771ff4df78a10e9365b24a60d"
      ],
      "layout": "IPY_MODEL_564d47466be6412cb3799a1e885a0575"
     }
    },
    "7234d119052d46be986af477e7be3d4b": {
     "model_module": "@jupyter-widgets/controls",
     "model_module_version": "1.5.0",
     "model_name": "HTMLModel",
     "state": {
      "_dom_classes": [],
      "_model_module": "@jupyter-widgets/controls",
      "_model_module_version": "1.5.0",
      "_model_name": "HTMLModel",
      "_view_count": null,
      "_view_module": "@jupyter-widgets/controls",
      "_view_module_version": "1.5.0",
      "_view_name": "HTMLView",
      "description": "",
      "description_tooltip": null,
      "layout": "IPY_MODEL_4c0026dc4df343c6b1f4598e901c83f2",
      "placeholder": "​",
      "style": "IPY_MODEL_3e9b409d843948d880ee294a77c7929a",
      "value": " 500/? [00:00&lt;00:00, 4357.88it/s]"
     }
    },
    "7a65e249d0a64b77bb471774e63f712a": {
     "model_module": "@jupyter-widgets/base",
     "model_module_version": "1.2.0",
     "model_name": "LayoutModel",
     "state": {
      "_model_module": "@jupyter-widgets/base",
      "_model_module_version": "1.2.0",
      "_model_name": "LayoutModel",
      "_view_count": null,
      "_view_module": "@jupyter-widgets/base",
      "_view_module_version": "1.2.0",
      "_view_name": "LayoutView",
      "align_content": null,
      "align_items": null,
      "align_self": null,
      "border": null,
      "bottom": null,
      "display": null,
      "flex": null,
      "flex_flow": null,
      "grid_area": null,
      "grid_auto_columns": null,
      "grid_auto_flow": null,
      "grid_auto_rows": null,
      "grid_column": null,
      "grid_gap": null,
      "grid_row": null,
      "grid_template_areas": null,
      "grid_template_columns": null,
      "grid_template_rows": null,
      "height": null,
      "justify_content": null,
      "justify_items": null,
      "left": null,
      "margin": null,
      "max_height": null,
      "max_width": null,
      "min_height": null,
      "min_width": null,
      "object_fit": null,
      "object_position": null,
      "order": null,
      "overflow": null,
      "overflow_x": null,
      "overflow_y": null,
      "padding": null,
      "right": null,
      "top": null,
      "visibility": null,
      "width": null
     }
    },
    "7e9a7c26d9ea420fbea8ee3e568cc707": {
     "model_module": "@jupyter-widgets/base",
     "model_module_version": "1.2.0",
     "model_name": "LayoutModel",
     "state": {
      "_model_module": "@jupyter-widgets/base",
      "_model_module_version": "1.2.0",
      "_model_name": "LayoutModel",
      "_view_count": null,
      "_view_module": "@jupyter-widgets/base",
      "_view_module_version": "1.2.0",
      "_view_name": "LayoutView",
      "align_content": null,
      "align_items": null,
      "align_self": null,
      "border": null,
      "bottom": null,
      "display": null,
      "flex": null,
      "flex_flow": null,
      "grid_area": null,
      "grid_auto_columns": null,
      "grid_auto_flow": null,
      "grid_auto_rows": null,
      "grid_column": null,
      "grid_gap": null,
      "grid_row": null,
      "grid_template_areas": null,
      "grid_template_columns": null,
      "grid_template_rows": null,
      "height": null,
      "justify_content": null,
      "justify_items": null,
      "left": null,
      "margin": null,
      "max_height": null,
      "max_width": null,
      "min_height": null,
      "min_width": null,
      "object_fit": null,
      "object_position": null,
      "order": null,
      "overflow": null,
      "overflow_x": null,
      "overflow_y": null,
      "padding": null,
      "right": null,
      "top": null,
      "visibility": null,
      "width": null
     }
    },
    "80b830d856ad4a58b6cfe5f2b71a6dd8": {
     "model_module": "@jupyter-widgets/base",
     "model_module_version": "1.2.0",
     "model_name": "LayoutModel",
     "state": {
      "_model_module": "@jupyter-widgets/base",
      "_model_module_version": "1.2.0",
      "_model_name": "LayoutModel",
      "_view_count": null,
      "_view_module": "@jupyter-widgets/base",
      "_view_module_version": "1.2.0",
      "_view_name": "LayoutView",
      "align_content": null,
      "align_items": null,
      "align_self": null,
      "border": null,
      "bottom": null,
      "display": null,
      "flex": null,
      "flex_flow": null,
      "grid_area": null,
      "grid_auto_columns": null,
      "grid_auto_flow": null,
      "grid_auto_rows": null,
      "grid_column": null,
      "grid_gap": null,
      "grid_row": null,
      "grid_template_areas": null,
      "grid_template_columns": null,
      "grid_template_rows": null,
      "height": null,
      "justify_content": null,
      "justify_items": null,
      "left": null,
      "margin": null,
      "max_height": null,
      "max_width": null,
      "min_height": null,
      "min_width": null,
      "object_fit": null,
      "object_position": null,
      "order": null,
      "overflow": null,
      "overflow_x": null,
      "overflow_y": null,
      "padding": null,
      "right": null,
      "top": null,
      "visibility": null,
      "width": null
     }
    },
    "82a85586cd9f4e8cadab9415a8cf6148": {
     "model_module": "@jupyter-widgets/controls",
     "model_module_version": "1.5.0",
     "model_name": "HBoxModel",
     "state": {
      "_dom_classes": [],
      "_model_module": "@jupyter-widgets/controls",
      "_model_module_version": "1.5.0",
      "_model_name": "HBoxModel",
      "_view_count": null,
      "_view_module": "@jupyter-widgets/controls",
      "_view_module_version": "1.5.0",
      "_view_name": "HBoxView",
      "box_style": "",
      "children": [
       "IPY_MODEL_d17a2206d7504c828ea15921c73b8754",
       "IPY_MODEL_8e9dcb01fc834c3d96504a84a36e2c07",
       "IPY_MODEL_5ed066843787426e8bb523c0b7747e8f"
      ],
      "layout": "IPY_MODEL_f106833357804268a15d05f2bb75c2f7"
     }
    },
    "867dc12b8df24f93971bcfebcc463fef": {
     "model_module": "@jupyter-widgets/base",
     "model_module_version": "1.2.0",
     "model_name": "LayoutModel",
     "state": {
      "_model_module": "@jupyter-widgets/base",
      "_model_module_version": "1.2.0",
      "_model_name": "LayoutModel",
      "_view_count": null,
      "_view_module": "@jupyter-widgets/base",
      "_view_module_version": "1.2.0",
      "_view_name": "LayoutView",
      "align_content": null,
      "align_items": null,
      "align_self": null,
      "border": null,
      "bottom": null,
      "display": null,
      "flex": null,
      "flex_flow": null,
      "grid_area": null,
      "grid_auto_columns": null,
      "grid_auto_flow": null,
      "grid_auto_rows": null,
      "grid_column": null,
      "grid_gap": null,
      "grid_row": null,
      "grid_template_areas": null,
      "grid_template_columns": null,
      "grid_template_rows": null,
      "height": null,
      "justify_content": null,
      "justify_items": null,
      "left": null,
      "margin": null,
      "max_height": null,
      "max_width": null,
      "min_height": null,
      "min_width": null,
      "object_fit": null,
      "object_position": null,
      "order": null,
      "overflow": null,
      "overflow_x": null,
      "overflow_y": null,
      "padding": null,
      "right": null,
      "top": null,
      "visibility": null,
      "width": null
     }
    },
    "8e2316145caa470db01e09dfb7e4489b": {
     "model_module": "@jupyter-widgets/controls",
     "model_module_version": "1.5.0",
     "model_name": "HTMLModel",
     "state": {
      "_dom_classes": [],
      "_model_module": "@jupyter-widgets/controls",
      "_model_module_version": "1.5.0",
      "_model_name": "HTMLModel",
      "_view_count": null,
      "_view_module": "@jupyter-widgets/controls",
      "_view_module_version": "1.5.0",
      "_view_name": "HTMLView",
      "description": "",
      "description_tooltip": null,
      "layout": "IPY_MODEL_4075596ea8164a29b4ba7e1592b913a7",
      "placeholder": "​",
      "style": "IPY_MODEL_cebc11b066bb4437a8a65e7126bee15a",
      "value": "100%"
     }
    },
    "8e9dcb01fc834c3d96504a84a36e2c07": {
     "model_module": "@jupyter-widgets/controls",
     "model_module_version": "1.5.0",
     "model_name": "FloatProgressModel",
     "state": {
      "_dom_classes": [],
      "_model_module": "@jupyter-widgets/controls",
      "_model_module_version": "1.5.0",
      "_model_name": "FloatProgressModel",
      "_view_count": null,
      "_view_module": "@jupyter-widgets/controls",
      "_view_module_version": "1.5.0",
      "_view_name": "ProgressView",
      "bar_style": "success",
      "description": "",
      "description_tooltip": null,
      "layout": "IPY_MODEL_d91954ffcb934512b4ec9af3ad82df32",
      "max": 635435384,
      "min": 0,
      "orientation": "horizontal",
      "style": "IPY_MODEL_067fe89e66c840deba10b80e4e5f00e5",
      "value": 635435384
     }
    },
    "8ee4b7ee96734fbca1730d10ef6fbc6c": {
     "model_module": "@jupyter-widgets/controls",
     "model_module_version": "1.5.0",
     "model_name": "DescriptionStyleModel",
     "state": {
      "_model_module": "@jupyter-widgets/controls",
      "_model_module_version": "1.5.0",
      "_model_name": "DescriptionStyleModel",
      "_view_count": null,
      "_view_module": "@jupyter-widgets/base",
      "_view_module_version": "1.2.0",
      "_view_name": "StyleView",
      "description_width": ""
     }
    },
    "91698575f09a45a2952da6f35a436e2c": {
     "model_module": "@jupyter-widgets/controls",
     "model_module_version": "1.5.0",
     "model_name": "ProgressStyleModel",
     "state": {
      "_model_module": "@jupyter-widgets/controls",
      "_model_module_version": "1.5.0",
      "_model_name": "ProgressStyleModel",
      "_view_count": null,
      "_view_module": "@jupyter-widgets/base",
      "_view_module_version": "1.2.0",
      "_view_name": "StyleView",
      "bar_color": null,
      "description_width": ""
     }
    },
    "91ef0bd6d67b42c5b67b5aadf45e03aa": {
     "model_module": "@jupyter-widgets/base",
     "model_module_version": "1.2.0",
     "model_name": "LayoutModel",
     "state": {
      "_model_module": "@jupyter-widgets/base",
      "_model_module_version": "1.2.0",
      "_model_name": "LayoutModel",
      "_view_count": null,
      "_view_module": "@jupyter-widgets/base",
      "_view_module_version": "1.2.0",
      "_view_name": "LayoutView",
      "align_content": null,
      "align_items": null,
      "align_self": null,
      "border": null,
      "bottom": null,
      "display": null,
      "flex": null,
      "flex_flow": null,
      "grid_area": null,
      "grid_auto_columns": null,
      "grid_auto_flow": null,
      "grid_auto_rows": null,
      "grid_column": null,
      "grid_gap": null,
      "grid_row": null,
      "grid_template_areas": null,
      "grid_template_columns": null,
      "grid_template_rows": null,
      "height": null,
      "justify_content": null,
      "justify_items": null,
      "left": null,
      "margin": null,
      "max_height": null,
      "max_width": null,
      "min_height": null,
      "min_width": null,
      "object_fit": null,
      "object_position": null,
      "order": null,
      "overflow": null,
      "overflow_x": null,
      "overflow_y": null,
      "padding": null,
      "right": null,
      "top": null,
      "visibility": null,
      "width": null
     }
    },
    "94ff413f7c804132a2ae3f347118d5ba": {
     "model_module": "@jupyter-widgets/controls",
     "model_module_version": "1.5.0",
     "model_name": "HBoxModel",
     "state": {
      "_dom_classes": [],
      "_model_module": "@jupyter-widgets/controls",
      "_model_module_version": "1.5.0",
      "_model_name": "HBoxModel",
      "_view_count": null,
      "_view_module": "@jupyter-widgets/controls",
      "_view_module_version": "1.5.0",
      "_view_name": "HBoxView",
      "box_style": "",
      "children": [
       "IPY_MODEL_9d6b28d7a5654cfa8dedfbe8125bffef",
       "IPY_MODEL_ab83012992604d92a0e2b3131386e9a5",
       "IPY_MODEL_e3c913a7aec342fd9e0edd1a6e4d5bb1"
      ],
      "layout": "IPY_MODEL_e5e9a1624bb54365b02dbef84db7fd19"
     }
    },
    "98a25ce59ddd46c8b92552d68e088be9": {
     "model_module": "@jupyter-widgets/controls",
     "model_module_version": "1.5.0",
     "model_name": "DescriptionStyleModel",
     "state": {
      "_model_module": "@jupyter-widgets/controls",
      "_model_module_version": "1.5.0",
      "_model_name": "DescriptionStyleModel",
      "_view_count": null,
      "_view_module": "@jupyter-widgets/base",
      "_view_module_version": "1.2.0",
      "_view_name": "StyleView",
      "description_width": ""
     }
    },
    "98b8e5e771ff4df78a10e9365b24a60d": {
     "model_module": "@jupyter-widgets/controls",
     "model_module_version": "1.5.0",
     "model_name": "HTMLModel",
     "state": {
      "_dom_classes": [],
      "_model_module": "@jupyter-widgets/controls",
      "_model_module_version": "1.5.0",
      "_model_name": "HTMLModel",
      "_view_count": null,
      "_view_module": "@jupyter-widgets/controls",
      "_view_module_version": "1.5.0",
      "_view_name": "HTMLView",
      "description": "",
      "description_tooltip": null,
      "layout": "IPY_MODEL_44e279dcfe5d416ab7647cde24fce230",
      "placeholder": "​",
      "style": "IPY_MODEL_1f439a5100fc4a10bd3b1f071d142457",
      "value": " 1743/? [14:55&lt;00:00,  2.40it/s]"
     }
    },
    "99cc5cd028e549e3a044d6f9f9ee1daa": {
     "model_module": "@jupyter-widgets/controls",
     "model_module_version": "1.5.0",
     "model_name": "FloatProgressModel",
     "state": {
      "_dom_classes": [],
      "_model_module": "@jupyter-widgets/controls",
      "_model_module_version": "1.5.0",
      "_model_name": "FloatProgressModel",
      "_view_count": null,
      "_view_module": "@jupyter-widgets/controls",
      "_view_module_version": "1.5.0",
      "_view_name": "ProgressView",
      "bar_style": "success",
      "description": "",
      "description_tooltip": null,
      "layout": "IPY_MODEL_d9cc77e8ef8147ff8da50655aee79de9",
      "max": 1,
      "min": 0,
      "orientation": "horizontal",
      "style": "IPY_MODEL_562573c5cf734228950bda624848d5d5",
      "value": 1
     }
    },
    "9a60f3dae60a414c87669fd209cc3250": {
     "model_module": "@jupyter-widgets/controls",
     "model_module_version": "1.5.0",
     "model_name": "HTMLModel",
     "state": {
      "_dom_classes": [],
      "_model_module": "@jupyter-widgets/controls",
      "_model_module_version": "1.5.0",
      "_model_name": "HTMLModel",
      "_view_count": null,
      "_view_module": "@jupyter-widgets/controls",
      "_view_module_version": "1.5.0",
      "_view_name": "HTMLView",
      "description": "",
      "description_tooltip": null,
      "layout": "IPY_MODEL_0fcc207cff4c4b14868220e1234ed2ae",
      "placeholder": "​",
      "style": "IPY_MODEL_9fe99e48219d48e6a2a5bbe03a08eb89",
      "value": ""
     }
    },
    "9d6b28d7a5654cfa8dedfbe8125bffef": {
     "model_module": "@jupyter-widgets/controls",
     "model_module_version": "1.5.0",
     "model_name": "HTMLModel",
     "state": {
      "_dom_classes": [],
      "_model_module": "@jupyter-widgets/controls",
      "_model_module_version": "1.5.0",
      "_model_name": "HTMLModel",
      "_view_count": null,
      "_view_module": "@jupyter-widgets/controls",
      "_view_module_version": "1.5.0",
      "_view_name": "HTMLView",
      "description": "",
      "description_tooltip": null,
      "layout": "IPY_MODEL_cc4d5594412b4210b1d605333eb50c5d",
      "placeholder": "​",
      "style": "IPY_MODEL_8ee4b7ee96734fbca1730d10ef6fbc6c",
      "value": "Downloading https://raw.githubusercontent.com/stanfordnlp/stanza-resources/main/resources_1.8.0.json: "
     }
    },
    "9fe99e48219d48e6a2a5bbe03a08eb89": {
     "model_module": "@jupyter-widgets/controls",
     "model_module_version": "1.5.0",
     "model_name": "DescriptionStyleModel",
     "state": {
      "_model_module": "@jupyter-widgets/controls",
      "_model_module_version": "1.5.0",
      "_model_name": "DescriptionStyleModel",
      "_view_count": null,
      "_view_module": "@jupyter-widgets/base",
      "_view_module_version": "1.2.0",
      "_view_name": "StyleView",
      "description_width": ""
     }
    },
    "a28dbd072cfa477fbbf373a15124a5a1": {
     "model_module": "@jupyter-widgets/base",
     "model_module_version": "1.2.0",
     "model_name": "LayoutModel",
     "state": {
      "_model_module": "@jupyter-widgets/base",
      "_model_module_version": "1.2.0",
      "_model_name": "LayoutModel",
      "_view_count": null,
      "_view_module": "@jupyter-widgets/base",
      "_view_module_version": "1.2.0",
      "_view_name": "LayoutView",
      "align_content": null,
      "align_items": null,
      "align_self": null,
      "border": null,
      "bottom": null,
      "display": null,
      "flex": null,
      "flex_flow": null,
      "grid_area": null,
      "grid_auto_columns": null,
      "grid_auto_flow": null,
      "grid_auto_rows": null,
      "grid_column": null,
      "grid_gap": null,
      "grid_row": null,
      "grid_template_areas": null,
      "grid_template_columns": null,
      "grid_template_rows": null,
      "height": null,
      "justify_content": null,
      "justify_items": null,
      "left": null,
      "margin": null,
      "max_height": null,
      "max_width": null,
      "min_height": null,
      "min_width": null,
      "object_fit": null,
      "object_position": null,
      "order": null,
      "overflow": null,
      "overflow_x": null,
      "overflow_y": null,
      "padding": null,
      "right": null,
      "top": null,
      "visibility": null,
      "width": null
     }
    },
    "a495fe64591547b8b111047737572d25": {
     "model_module": "@jupyter-widgets/controls",
     "model_module_version": "1.5.0",
     "model_name": "HTMLModel",
     "state": {
      "_dom_classes": [],
      "_model_module": "@jupyter-widgets/controls",
      "_model_module_version": "1.5.0",
      "_model_name": "HTMLModel",
      "_view_count": null,
      "_view_module": "@jupyter-widgets/controls",
      "_view_module_version": "1.5.0",
      "_view_name": "HTMLView",
      "description": "",
      "description_tooltip": null,
      "layout": "IPY_MODEL_867dc12b8df24f93971bcfebcc463fef",
      "placeholder": "​",
      "style": "IPY_MODEL_b7a4b63320b14453bc517ab9eacc1a16",
      "value": ""
     }
    },
    "a9ca8114ca814e319f18f5db7544e71d": {
     "model_module": "@jupyter-widgets/controls",
     "model_module_version": "1.5.0",
     "model_name": "HBoxModel",
     "state": {
      "_dom_classes": [],
      "_model_module": "@jupyter-widgets/controls",
      "_model_module_version": "1.5.0",
      "_model_name": "HBoxModel",
      "_view_count": null,
      "_view_module": "@jupyter-widgets/controls",
      "_view_module_version": "1.5.0",
      "_view_name": "HBoxView",
      "box_style": "",
      "children": [
       "IPY_MODEL_1e65794e3cd04f8ead60152b1f5c2fe4",
       "IPY_MODEL_d6a6e0537a844f2fb68a6c50a1375a8c",
       "IPY_MODEL_3790e18aa1074b6fbd155cbdac55f11d"
      ],
      "layout": "IPY_MODEL_572a956688e24f9f95b5228eb0be13ba"
     }
    },
    "ab83012992604d92a0e2b3131386e9a5": {
     "model_module": "@jupyter-widgets/controls",
     "model_module_version": "1.5.0",
     "model_name": "FloatProgressModel",
     "state": {
      "_dom_classes": [],
      "_model_module": "@jupyter-widgets/controls",
      "_model_module_version": "1.5.0",
      "_model_name": "FloatProgressModel",
      "_view_count": null,
      "_view_module": "@jupyter-widgets/controls",
      "_view_module_version": "1.5.0",
      "_view_name": "ProgressView",
      "bar_style": "success",
      "description": "",
      "description_tooltip": null,
      "layout": "IPY_MODEL_4eec66cae932411ba00d31f4388fb523",
      "max": 47208,
      "min": 0,
      "orientation": "horizontal",
      "style": "IPY_MODEL_b6c5cc9c99fc452296044137be0c4221",
      "value": 47208
     }
    },
    "af6e3c43697a4b74bd53b1980348a582": {
     "model_module": "@jupyter-widgets/base",
     "model_module_version": "1.2.0",
     "model_name": "LayoutModel",
     "state": {
      "_model_module": "@jupyter-widgets/base",
      "_model_module_version": "1.2.0",
      "_model_name": "LayoutModel",
      "_view_count": null,
      "_view_module": "@jupyter-widgets/base",
      "_view_module_version": "1.2.0",
      "_view_name": "LayoutView",
      "align_content": null,
      "align_items": null,
      "align_self": null,
      "border": null,
      "bottom": null,
      "display": null,
      "flex": null,
      "flex_flow": null,
      "grid_area": null,
      "grid_auto_columns": null,
      "grid_auto_flow": null,
      "grid_auto_rows": null,
      "grid_column": null,
      "grid_gap": null,
      "grid_row": null,
      "grid_template_areas": null,
      "grid_template_columns": null,
      "grid_template_rows": null,
      "height": null,
      "justify_content": null,
      "justify_items": null,
      "left": null,
      "margin": null,
      "max_height": null,
      "max_width": null,
      "min_height": null,
      "min_width": null,
      "object_fit": null,
      "object_position": null,
      "order": null,
      "overflow": null,
      "overflow_x": null,
      "overflow_y": null,
      "padding": null,
      "right": null,
      "top": null,
      "visibility": null,
      "width": null
     }
    },
    "b66cd26c2589448f90ea49e78efb9e11": {
     "model_module": "@jupyter-widgets/base",
     "model_module_version": "1.2.0",
     "model_name": "LayoutModel",
     "state": {
      "_model_module": "@jupyter-widgets/base",
      "_model_module_version": "1.2.0",
      "_model_name": "LayoutModel",
      "_view_count": null,
      "_view_module": "@jupyter-widgets/base",
      "_view_module_version": "1.2.0",
      "_view_name": "LayoutView",
      "align_content": null,
      "align_items": null,
      "align_self": null,
      "border": null,
      "bottom": null,
      "display": null,
      "flex": null,
      "flex_flow": null,
      "grid_area": null,
      "grid_auto_columns": null,
      "grid_auto_flow": null,
      "grid_auto_rows": null,
      "grid_column": null,
      "grid_gap": null,
      "grid_row": null,
      "grid_template_areas": null,
      "grid_template_columns": null,
      "grid_template_rows": null,
      "height": null,
      "justify_content": null,
      "justify_items": null,
      "left": null,
      "margin": null,
      "max_height": null,
      "max_width": null,
      "min_height": null,
      "min_width": null,
      "object_fit": null,
      "object_position": null,
      "order": null,
      "overflow": null,
      "overflow_x": null,
      "overflow_y": null,
      "padding": null,
      "right": null,
      "top": null,
      "visibility": null,
      "width": null
     }
    },
    "b6c5cc9c99fc452296044137be0c4221": {
     "model_module": "@jupyter-widgets/controls",
     "model_module_version": "1.5.0",
     "model_name": "ProgressStyleModel",
     "state": {
      "_model_module": "@jupyter-widgets/controls",
      "_model_module_version": "1.5.0",
      "_model_name": "ProgressStyleModel",
      "_view_count": null,
      "_view_module": "@jupyter-widgets/base",
      "_view_module_version": "1.2.0",
      "_view_name": "StyleView",
      "bar_color": null,
      "description_width": ""
     }
    },
    "b7a4b63320b14453bc517ab9eacc1a16": {
     "model_module": "@jupyter-widgets/controls",
     "model_module_version": "1.5.0",
     "model_name": "DescriptionStyleModel",
     "state": {
      "_model_module": "@jupyter-widgets/controls",
      "_model_module_version": "1.5.0",
      "_model_name": "DescriptionStyleModel",
      "_view_count": null,
      "_view_module": "@jupyter-widgets/base",
      "_view_module_version": "1.2.0",
      "_view_name": "StyleView",
      "description_width": ""
     }
    },
    "c012e9a82e754193a283fba7a2f61279": {
     "model_module": "@jupyter-widgets/base",
     "model_module_version": "1.2.0",
     "model_name": "LayoutModel",
     "state": {
      "_model_module": "@jupyter-widgets/base",
      "_model_module_version": "1.2.0",
      "_model_name": "LayoutModel",
      "_view_count": null,
      "_view_module": "@jupyter-widgets/base",
      "_view_module_version": "1.2.0",
      "_view_name": "LayoutView",
      "align_content": null,
      "align_items": null,
      "align_self": null,
      "border": null,
      "bottom": null,
      "display": null,
      "flex": null,
      "flex_flow": null,
      "grid_area": null,
      "grid_auto_columns": null,
      "grid_auto_flow": null,
      "grid_auto_rows": null,
      "grid_column": null,
      "grid_gap": null,
      "grid_row": null,
      "grid_template_areas": null,
      "grid_template_columns": null,
      "grid_template_rows": null,
      "height": null,
      "justify_content": null,
      "justify_items": null,
      "left": null,
      "margin": null,
      "max_height": null,
      "max_width": null,
      "min_height": null,
      "min_width": null,
      "object_fit": null,
      "object_position": null,
      "order": null,
      "overflow": null,
      "overflow_x": null,
      "overflow_y": null,
      "padding": null,
      "right": null,
      "top": null,
      "visibility": null,
      "width": null
     }
    },
    "c953941f65da479aab36a5d1b71fed99": {
     "model_module": "@jupyter-widgets/base",
     "model_module_version": "1.2.0",
     "model_name": "LayoutModel",
     "state": {
      "_model_module": "@jupyter-widgets/base",
      "_model_module_version": "1.2.0",
      "_model_name": "LayoutModel",
      "_view_count": null,
      "_view_module": "@jupyter-widgets/base",
      "_view_module_version": "1.2.0",
      "_view_name": "LayoutView",
      "align_content": null,
      "align_items": null,
      "align_self": null,
      "border": null,
      "bottom": null,
      "display": null,
      "flex": null,
      "flex_flow": null,
      "grid_area": null,
      "grid_auto_columns": null,
      "grid_auto_flow": null,
      "grid_auto_rows": null,
      "grid_column": null,
      "grid_gap": null,
      "grid_row": null,
      "grid_template_areas": null,
      "grid_template_columns": null,
      "grid_template_rows": null,
      "height": null,
      "justify_content": null,
      "justify_items": null,
      "left": null,
      "margin": null,
      "max_height": null,
      "max_width": null,
      "min_height": null,
      "min_width": null,
      "object_fit": null,
      "object_position": null,
      "order": null,
      "overflow": null,
      "overflow_x": null,
      "overflow_y": null,
      "padding": null,
      "right": null,
      "top": null,
      "visibility": null,
      "width": "20px"
     }
    },
    "cab9bd9c0bfe42e3a81b653fe09dc9ad": {
     "model_module": "@jupyter-widgets/controls",
     "model_module_version": "1.5.0",
     "model_name": "ProgressStyleModel",
     "state": {
      "_model_module": "@jupyter-widgets/controls",
      "_model_module_version": "1.5.0",
      "_model_name": "ProgressStyleModel",
      "_view_count": null,
      "_view_module": "@jupyter-widgets/base",
      "_view_module_version": "1.2.0",
      "_view_name": "StyleView",
      "bar_color": null,
      "description_width": ""
     }
    },
    "cc4d5594412b4210b1d605333eb50c5d": {
     "model_module": "@jupyter-widgets/base",
     "model_module_version": "1.2.0",
     "model_name": "LayoutModel",
     "state": {
      "_model_module": "@jupyter-widgets/base",
      "_model_module_version": "1.2.0",
      "_model_name": "LayoutModel",
      "_view_count": null,
      "_view_module": "@jupyter-widgets/base",
      "_view_module_version": "1.2.0",
      "_view_name": "LayoutView",
      "align_content": null,
      "align_items": null,
      "align_self": null,
      "border": null,
      "bottom": null,
      "display": null,
      "flex": null,
      "flex_flow": null,
      "grid_area": null,
      "grid_auto_columns": null,
      "grid_auto_flow": null,
      "grid_auto_rows": null,
      "grid_column": null,
      "grid_gap": null,
      "grid_row": null,
      "grid_template_areas": null,
      "grid_template_columns": null,
      "grid_template_rows": null,
      "height": null,
      "justify_content": null,
      "justify_items": null,
      "left": null,
      "margin": null,
      "max_height": null,
      "max_width": null,
      "min_height": null,
      "min_width": null,
      "object_fit": null,
      "object_position": null,
      "order": null,
      "overflow": null,
      "overflow_x": null,
      "overflow_y": null,
      "padding": null,
      "right": null,
      "top": null,
      "visibility": null,
      "width": null
     }
    },
    "cd56f477d3134a0383e3989bab7bf89b": {
     "model_module": "@jupyter-widgets/controls",
     "model_module_version": "1.5.0",
     "model_name": "ProgressStyleModel",
     "state": {
      "_model_module": "@jupyter-widgets/controls",
      "_model_module_version": "1.5.0",
      "_model_name": "ProgressStyleModel",
      "_view_count": null,
      "_view_module": "@jupyter-widgets/base",
      "_view_module_version": "1.2.0",
      "_view_name": "StyleView",
      "bar_color": null,
      "description_width": ""
     }
    },
    "cebc11b066bb4437a8a65e7126bee15a": {
     "model_module": "@jupyter-widgets/controls",
     "model_module_version": "1.5.0",
     "model_name": "DescriptionStyleModel",
     "state": {
      "_model_module": "@jupyter-widgets/controls",
      "_model_module_version": "1.5.0",
      "_model_name": "DescriptionStyleModel",
      "_view_count": null,
      "_view_module": "@jupyter-widgets/base",
      "_view_module_version": "1.2.0",
      "_view_name": "StyleView",
      "description_width": ""
     }
    },
    "d17a2206d7504c828ea15921c73b8754": {
     "model_module": "@jupyter-widgets/controls",
     "model_module_version": "1.5.0",
     "model_name": "HTMLModel",
     "state": {
      "_dom_classes": [],
      "_model_module": "@jupyter-widgets/controls",
      "_model_module_version": "1.5.0",
      "_model_name": "HTMLModel",
      "_view_count": null,
      "_view_module": "@jupyter-widgets/controls",
      "_view_module_version": "1.5.0",
      "_view_name": "HTMLView",
      "description": "",
      "description_tooltip": null,
      "layout": "IPY_MODEL_08b9eadf0beb4780b0df025c53a0487c",
      "placeholder": "​",
      "style": "IPY_MODEL_112d01aebc214595aa3565f26f0b2266",
      "value": "Downloading https://huggingface.co/stanfordnlp/stanza-es/resolve/v1.8.0/models/default.zip: 100%"
     }
    },
    "d6a6e0537a844f2fb68a6c50a1375a8c": {
     "model_module": "@jupyter-widgets/controls",
     "model_module_version": "1.5.0",
     "model_name": "FloatProgressModel",
     "state": {
      "_dom_classes": [],
      "_model_module": "@jupyter-widgets/controls",
      "_model_module_version": "1.5.0",
      "_model_name": "FloatProgressModel",
      "_view_count": null,
      "_view_module": "@jupyter-widgets/controls",
      "_view_module_version": "1.5.0",
      "_view_name": "ProgressView",
      "bar_style": "success",
      "description": "",
      "description_tooltip": null,
      "layout": "IPY_MODEL_f1d1b9d0d5af48b0af2dbbc373d78ed4",
      "max": 47208,
      "min": 0,
      "orientation": "horizontal",
      "style": "IPY_MODEL_cd56f477d3134a0383e3989bab7bf89b",
      "value": 47208
     }
    },
    "d7e0054c7ee147a4ba0ec0877a40e5bd": {
     "model_module": "@jupyter-widgets/base",
     "model_module_version": "1.2.0",
     "model_name": "LayoutModel",
     "state": {
      "_model_module": "@jupyter-widgets/base",
      "_model_module_version": "1.2.0",
      "_model_name": "LayoutModel",
      "_view_count": null,
      "_view_module": "@jupyter-widgets/base",
      "_view_module_version": "1.2.0",
      "_view_name": "LayoutView",
      "align_content": null,
      "align_items": null,
      "align_self": null,
      "border": null,
      "bottom": null,
      "display": null,
      "flex": null,
      "flex_flow": null,
      "grid_area": null,
      "grid_auto_columns": null,
      "grid_auto_flow": null,
      "grid_auto_rows": null,
      "grid_column": null,
      "grid_gap": null,
      "grid_row": null,
      "grid_template_areas": null,
      "grid_template_columns": null,
      "grid_template_rows": null,
      "height": null,
      "justify_content": null,
      "justify_items": null,
      "left": null,
      "margin": null,
      "max_height": null,
      "max_width": null,
      "min_height": null,
      "min_width": null,
      "object_fit": null,
      "object_position": null,
      "order": null,
      "overflow": null,
      "overflow_x": null,
      "overflow_y": null,
      "padding": null,
      "right": null,
      "top": null,
      "visibility": null,
      "width": null
     }
    },
    "d91954ffcb934512b4ec9af3ad82df32": {
     "model_module": "@jupyter-widgets/base",
     "model_module_version": "1.2.0",
     "model_name": "LayoutModel",
     "state": {
      "_model_module": "@jupyter-widgets/base",
      "_model_module_version": "1.2.0",
      "_model_name": "LayoutModel",
      "_view_count": null,
      "_view_module": "@jupyter-widgets/base",
      "_view_module_version": "1.2.0",
      "_view_name": "LayoutView",
      "align_content": null,
      "align_items": null,
      "align_self": null,
      "border": null,
      "bottom": null,
      "display": null,
      "flex": null,
      "flex_flow": null,
      "grid_area": null,
      "grid_auto_columns": null,
      "grid_auto_flow": null,
      "grid_auto_rows": null,
      "grid_column": null,
      "grid_gap": null,
      "grid_row": null,
      "grid_template_areas": null,
      "grid_template_columns": null,
      "grid_template_rows": null,
      "height": null,
      "justify_content": null,
      "justify_items": null,
      "left": null,
      "margin": null,
      "max_height": null,
      "max_width": null,
      "min_height": null,
      "min_width": null,
      "object_fit": null,
      "object_position": null,
      "order": null,
      "overflow": null,
      "overflow_x": null,
      "overflow_y": null,
      "padding": null,
      "right": null,
      "top": null,
      "visibility": null,
      "width": null
     }
    },
    "d9cc77e8ef8147ff8da50655aee79de9": {
     "model_module": "@jupyter-widgets/base",
     "model_module_version": "1.2.0",
     "model_name": "LayoutModel",
     "state": {
      "_model_module": "@jupyter-widgets/base",
      "_model_module_version": "1.2.0",
      "_model_name": "LayoutModel",
      "_view_count": null,
      "_view_module": "@jupyter-widgets/base",
      "_view_module_version": "1.2.0",
      "_view_name": "LayoutView",
      "align_content": null,
      "align_items": null,
      "align_self": null,
      "border": null,
      "bottom": null,
      "display": null,
      "flex": null,
      "flex_flow": null,
      "grid_area": null,
      "grid_auto_columns": null,
      "grid_auto_flow": null,
      "grid_auto_rows": null,
      "grid_column": null,
      "grid_gap": null,
      "grid_row": null,
      "grid_template_areas": null,
      "grid_template_columns": null,
      "grid_template_rows": null,
      "height": null,
      "justify_content": null,
      "justify_items": null,
      "left": null,
      "margin": null,
      "max_height": null,
      "max_width": null,
      "min_height": null,
      "min_width": null,
      "object_fit": null,
      "object_position": null,
      "order": null,
      "overflow": null,
      "overflow_x": null,
      "overflow_y": null,
      "padding": null,
      "right": null,
      "top": null,
      "visibility": null,
      "width": "20px"
     }
    },
    "db0d4918f6d94a988f0a17ae73fd0e18": {
     "model_module": "@jupyter-widgets/controls",
     "model_module_version": "1.5.0",
     "model_name": "ProgressStyleModel",
     "state": {
      "_model_module": "@jupyter-widgets/controls",
      "_model_module_version": "1.5.0",
      "_model_name": "ProgressStyleModel",
      "_view_count": null,
      "_view_module": "@jupyter-widgets/base",
      "_view_module_version": "1.2.0",
      "_view_name": "StyleView",
      "bar_color": null,
      "description_width": ""
     }
    },
    "db51cae46eb0418db0b1490faf96e6b5": {
     "model_module": "@jupyter-widgets/base",
     "model_module_version": "1.2.0",
     "model_name": "LayoutModel",
     "state": {
      "_model_module": "@jupyter-widgets/base",
      "_model_module_version": "1.2.0",
      "_model_name": "LayoutModel",
      "_view_count": null,
      "_view_module": "@jupyter-widgets/base",
      "_view_module_version": "1.2.0",
      "_view_name": "LayoutView",
      "align_content": null,
      "align_items": null,
      "align_self": null,
      "border": null,
      "bottom": null,
      "display": null,
      "flex": null,
      "flex_flow": null,
      "grid_area": null,
      "grid_auto_columns": null,
      "grid_auto_flow": null,
      "grid_auto_rows": null,
      "grid_column": null,
      "grid_gap": null,
      "grid_row": null,
      "grid_template_areas": null,
      "grid_template_columns": null,
      "grid_template_rows": null,
      "height": null,
      "justify_content": null,
      "justify_items": null,
      "left": null,
      "margin": null,
      "max_height": null,
      "max_width": null,
      "min_height": null,
      "min_width": null,
      "object_fit": null,
      "object_position": null,
      "order": null,
      "overflow": null,
      "overflow_x": null,
      "overflow_y": null,
      "padding": null,
      "right": null,
      "top": null,
      "visibility": null,
      "width": null
     }
    },
    "dc75fe95420f44408841fbfdbc802716": {
     "model_module": "@jupyter-widgets/controls",
     "model_module_version": "1.5.0",
     "model_name": "DescriptionStyleModel",
     "state": {
      "_model_module": "@jupyter-widgets/controls",
      "_model_module_version": "1.5.0",
      "_model_name": "DescriptionStyleModel",
      "_view_count": null,
      "_view_module": "@jupyter-widgets/base",
      "_view_module_version": "1.2.0",
      "_view_name": "StyleView",
      "description_width": ""
     }
    },
    "df48fea07b3a4be49f9782eeced0dda6": {
     "model_module": "@jupyter-widgets/controls",
     "model_module_version": "1.5.0",
     "model_name": "HTMLModel",
     "state": {
      "_dom_classes": [],
      "_model_module": "@jupyter-widgets/controls",
      "_model_module_version": "1.5.0",
      "_model_name": "HTMLModel",
      "_view_count": null,
      "_view_module": "@jupyter-widgets/controls",
      "_view_module_version": "1.5.0",
      "_view_name": "HTMLView",
      "description": "",
      "description_tooltip": null,
      "layout": "IPY_MODEL_80b830d856ad4a58b6cfe5f2b71a6dd8",
      "placeholder": "​",
      "style": "IPY_MODEL_1cda8c396324497d86b095d1d7ab57d1",
      "value": "Downloading https://raw.githubusercontent.com/stanfordnlp/stanza-resources/main/resources_1.8.0.json: "
     }
    },
    "e3131091dcf0457dacd06629f4a881de": {
     "model_module": "@jupyter-widgets/controls",
     "model_module_version": "1.5.0",
     "model_name": "FloatProgressModel",
     "state": {
      "_dom_classes": [],
      "_model_module": "@jupyter-widgets/controls",
      "_model_module_version": "1.5.0",
      "_model_name": "FloatProgressModel",
      "_view_count": null,
      "_view_module": "@jupyter-widgets/controls",
      "_view_module_version": "1.5.0",
      "_view_name": "ProgressView",
      "bar_style": "success",
      "description": "",
      "description_tooltip": null,
      "layout": "IPY_MODEL_91ef0bd6d67b42c5b67b5aadf45e03aa",
      "max": 10000,
      "min": 0,
      "orientation": "horizontal",
      "style": "IPY_MODEL_91698575f09a45a2952da6f35a436e2c",
      "value": 10000
     }
    },
    "e3c913a7aec342fd9e0edd1a6e4d5bb1": {
     "model_module": "@jupyter-widgets/controls",
     "model_module_version": "1.5.0",
     "model_name": "HTMLModel",
     "state": {
      "_dom_classes": [],
      "_model_module": "@jupyter-widgets/controls",
      "_model_module_version": "1.5.0",
      "_model_name": "HTMLModel",
      "_view_count": null,
      "_view_module": "@jupyter-widgets/controls",
      "_view_module_version": "1.5.0",
      "_view_name": "HTMLView",
      "description": "",
      "description_tooltip": null,
      "layout": "IPY_MODEL_7e9a7c26d9ea420fbea8ee3e568cc707",
      "placeholder": "​",
      "style": "IPY_MODEL_376ac339290c4bb3ad2f34f353027cbf",
      "value": " 379k/? [00:00&lt;00:00, 4.87MB/s]"
     }
    },
    "e5e9a1624bb54365b02dbef84db7fd19": {
     "model_module": "@jupyter-widgets/base",
     "model_module_version": "1.2.0",
     "model_name": "LayoutModel",
     "state": {
      "_model_module": "@jupyter-widgets/base",
      "_model_module_version": "1.2.0",
      "_model_name": "LayoutModel",
      "_view_count": null,
      "_view_module": "@jupyter-widgets/base",
      "_view_module_version": "1.2.0",
      "_view_name": "LayoutView",
      "align_content": null,
      "align_items": null,
      "align_self": null,
      "border": null,
      "bottom": null,
      "display": null,
      "flex": null,
      "flex_flow": null,
      "grid_area": null,
      "grid_auto_columns": null,
      "grid_auto_flow": null,
      "grid_auto_rows": null,
      "grid_column": null,
      "grid_gap": null,
      "grid_row": null,
      "grid_template_areas": null,
      "grid_template_columns": null,
      "grid_template_rows": null,
      "height": null,
      "justify_content": null,
      "justify_items": null,
      "left": null,
      "margin": null,
      "max_height": null,
      "max_width": null,
      "min_height": null,
      "min_width": null,
      "object_fit": null,
      "object_position": null,
      "order": null,
      "overflow": null,
      "overflow_x": null,
      "overflow_y": null,
      "padding": null,
      "right": null,
      "top": null,
      "visibility": null,
      "width": null
     }
    },
    "e764e60b93894010bfad3e0f9eee6f1b": {
     "model_module": "@jupyter-widgets/controls",
     "model_module_version": "1.5.0",
     "model_name": "FloatProgressModel",
     "state": {
      "_dom_classes": [],
      "_model_module": "@jupyter-widgets/controls",
      "_model_module_version": "1.5.0",
      "_model_name": "FloatProgressModel",
      "_view_count": null,
      "_view_module": "@jupyter-widgets/controls",
      "_view_module_version": "1.5.0",
      "_view_name": "ProgressView",
      "bar_style": "success",
      "description": "",
      "description_tooltip": null,
      "layout": "IPY_MODEL_0aa24de6802b4b78b8bd853e872306c6",
      "max": 1,
      "min": 0,
      "orientation": "horizontal",
      "style": "IPY_MODEL_db0d4918f6d94a988f0a17ae73fd0e18",
      "value": 1
     }
    },
    "eaac9460ef7742dfa32a3eac5cf33fbc": {
     "model_module": "@jupyter-widgets/controls",
     "model_module_version": "1.5.0",
     "model_name": "HTMLModel",
     "state": {
      "_dom_classes": [],
      "_model_module": "@jupyter-widgets/controls",
      "_model_module_version": "1.5.0",
      "_model_name": "HTMLModel",
      "_view_count": null,
      "_view_module": "@jupyter-widgets/controls",
      "_view_module_version": "1.5.0",
      "_view_name": "HTMLView",
      "description": "",
      "description_tooltip": null,
      "layout": "IPY_MODEL_1d0031db865d4a67b37c3ae12aa8ace1",
      "placeholder": "​",
      "style": "IPY_MODEL_28d8aa69433e4e9fb5294a709fa4f095",
      "value": " 100/? [03:41&lt;00:00,  1.67s/it]"
     }
    },
    "f106833357804268a15d05f2bb75c2f7": {
     "model_module": "@jupyter-widgets/base",
     "model_module_version": "1.2.0",
     "model_name": "LayoutModel",
     "state": {
      "_model_module": "@jupyter-widgets/base",
      "_model_module_version": "1.2.0",
      "_model_name": "LayoutModel",
      "_view_count": null,
      "_view_module": "@jupyter-widgets/base",
      "_view_module_version": "1.2.0",
      "_view_name": "LayoutView",
      "align_content": null,
      "align_items": null,
      "align_self": null,
      "border": null,
      "bottom": null,
      "display": null,
      "flex": null,
      "flex_flow": null,
      "grid_area": null,
      "grid_auto_columns": null,
      "grid_auto_flow": null,
      "grid_auto_rows": null,
      "grid_column": null,
      "grid_gap": null,
      "grid_row": null,
      "grid_template_areas": null,
      "grid_template_columns": null,
      "grid_template_rows": null,
      "height": null,
      "justify_content": null,
      "justify_items": null,
      "left": null,
      "margin": null,
      "max_height": null,
      "max_width": null,
      "min_height": null,
      "min_width": null,
      "object_fit": null,
      "object_position": null,
      "order": null,
      "overflow": null,
      "overflow_x": null,
      "overflow_y": null,
      "padding": null,
      "right": null,
      "top": null,
      "visibility": null,
      "width": null
     }
    },
    "f1d1b9d0d5af48b0af2dbbc373d78ed4": {
     "model_module": "@jupyter-widgets/base",
     "model_module_version": "1.2.0",
     "model_name": "LayoutModel",
     "state": {
      "_model_module": "@jupyter-widgets/base",
      "_model_module_version": "1.2.0",
      "_model_name": "LayoutModel",
      "_view_count": null,
      "_view_module": "@jupyter-widgets/base",
      "_view_module_version": "1.2.0",
      "_view_name": "LayoutView",
      "align_content": null,
      "align_items": null,
      "align_self": null,
      "border": null,
      "bottom": null,
      "display": null,
      "flex": null,
      "flex_flow": null,
      "grid_area": null,
      "grid_auto_columns": null,
      "grid_auto_flow": null,
      "grid_auto_rows": null,
      "grid_column": null,
      "grid_gap": null,
      "grid_row": null,
      "grid_template_areas": null,
      "grid_template_columns": null,
      "grid_template_rows": null,
      "height": null,
      "justify_content": null,
      "justify_items": null,
      "left": null,
      "margin": null,
      "max_height": null,
      "max_width": null,
      "min_height": null,
      "min_width": null,
      "object_fit": null,
      "object_position": null,
      "order": null,
      "overflow": null,
      "overflow_x": null,
      "overflow_y": null,
      "padding": null,
      "right": null,
      "top": null,
      "visibility": null,
      "width": null
     }
    },
    "f434beef506c41ffbf9ae51aab6b25ff": {
     "model_module": "@jupyter-widgets/controls",
     "model_module_version": "1.5.0",
     "model_name": "HBoxModel",
     "state": {
      "_dom_classes": [],
      "_model_module": "@jupyter-widgets/controls",
      "_model_module_version": "1.5.0",
      "_model_name": "HBoxModel",
      "_view_count": null,
      "_view_module": "@jupyter-widgets/controls",
      "_view_module_version": "1.5.0",
      "_view_name": "HBoxView",
      "box_style": "",
      "children": [
       "IPY_MODEL_8e2316145caa470db01e09dfb7e4489b",
       "IPY_MODEL_e3131091dcf0457dacd06629f4a881de",
       "IPY_MODEL_215523e422c44538b2a50edd37745f68"
      ],
      "layout": "IPY_MODEL_0f0b9a1132674d72931124dd5573f495"
     }
    },
    "f5d2d34bbc3e418a96d55996f34e0423": {
     "model_module": "@jupyter-widgets/controls",
     "model_module_version": "1.5.0",
     "model_name": "FloatProgressModel",
     "state": {
      "_dom_classes": [],
      "_model_module": "@jupyter-widgets/controls",
      "_model_module_version": "1.5.0",
      "_model_name": "FloatProgressModel",
      "_view_count": null,
      "_view_module": "@jupyter-widgets/controls",
      "_view_module_version": "1.5.0",
      "_view_name": "ProgressView",
      "bar_style": "success",
      "description": "",
      "description_tooltip": null,
      "layout": "IPY_MODEL_c953941f65da479aab36a5d1b71fed99",
      "max": 1,
      "min": 0,
      "orientation": "horizontal",
      "style": "IPY_MODEL_cab9bd9c0bfe42e3a81b653fe09dc9ad",
      "value": 1
     }
    },
    "f985bb8ae6334c26ae34abe93644b55b": {
     "model_module": "@jupyter-widgets/controls",
     "model_module_version": "1.5.0",
     "model_name": "HTMLModel",
     "state": {
      "_dom_classes": [],
      "_model_module": "@jupyter-widgets/controls",
      "_model_module_version": "1.5.0",
      "_model_name": "HTMLModel",
      "_view_count": null,
      "_view_module": "@jupyter-widgets/controls",
      "_view_module_version": "1.5.0",
      "_view_name": "HTMLView",
      "description": "",
      "description_tooltip": null,
      "layout": "IPY_MODEL_0639a19873f940b5aca5d275275618a7",
      "placeholder": "​",
      "style": "IPY_MODEL_dc75fe95420f44408841fbfdbc802716",
      "value": ""
     }
    },
    "fb2c6769cd8c4e6689e0ef41bccf8e91": {
     "model_module": "@jupyter-widgets/controls",
     "model_module_version": "1.5.0",
     "model_name": "ProgressStyleModel",
     "state": {
      "_model_module": "@jupyter-widgets/controls",
      "_model_module_version": "1.5.0",
      "_model_name": "ProgressStyleModel",
      "_view_count": null,
      "_view_module": "@jupyter-widgets/base",
      "_view_module_version": "1.2.0",
      "_view_name": "StyleView",
      "bar_color": null,
      "description_width": ""
     }
    },
    "fb9ab28dffde47f7ab7a0895fd9f20f5": {
     "model_module": "@jupyter-widgets/controls",
     "model_module_version": "1.5.0",
     "model_name": "HTMLModel",
     "state": {
      "_dom_classes": [],
      "_model_module": "@jupyter-widgets/controls",
      "_model_module_version": "1.5.0",
      "_model_name": "HTMLModel",
      "_view_count": null,
      "_view_module": "@jupyter-widgets/controls",
      "_view_module_version": "1.5.0",
      "_view_name": "HTMLView",
      "description": "",
      "description_tooltip": null,
      "layout": "IPY_MODEL_c012e9a82e754193a283fba7a2f61279",
      "placeholder": "​",
      "style": "IPY_MODEL_1f3ffa5349e64a198a5baf578e0b3ece",
      "value": " 379k/? [00:00&lt;00:00, 8.96MB/s]"
     }
    }
   }
  }
 },
 "nbformat": 4,
 "nbformat_minor": 1
}
