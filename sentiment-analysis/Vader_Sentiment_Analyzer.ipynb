{
 "cells": [
  {
   "cell_type": "markdown",
   "id": "d811ef17",
   "metadata": {},
   "source": [
    "### VADER Mulitlingual\n",
    "#### https://github.com/brunneis/vader-multi"
   ]
  },
  {
   "cell_type": "markdown",
   "id": "58dca0a3",
   "metadata": {},
   "source": [
    "#### Install VADER Mulitlingual"
   ]
  },
  {
   "cell_type": "code",
   "execution_count": null,
   "id": "1c179859",
   "metadata": {},
   "outputs": [],
   "source": [
    "!pip install vaderSentiment"
   ]
  },
  {
   "cell_type": "markdown",
   "id": "b918aa9d",
   "metadata": {},
   "source": [
    "### Import Libraries"
   ]
  },
  {
   "cell_type": "code",
   "execution_count": null,
   "id": "7684eacb",
   "metadata": {},
   "outputs": [],
   "source": [
    "from vaderSentiment.vaderSentiment import SentimentIntensityAnalyzer\n",
    "\n",
    "import pandas as pd\n",
    "import time\n",
    "from tqdm.notebook import tqdm\n",
    "tqdm.pandas()"
   ]
  },
  {
   "cell_type": "markdown",
   "id": "e357b725",
   "metadata": {},
   "source": [
    "### Load Dataset"
   ]
  },
  {
   "cell_type": "code",
   "execution_count": 2,
   "id": "61cfc913",
   "metadata": {},
   "outputs": [],
   "source": [
    "data_file = '../datasets/OpeNERes/opener_es.xlsx'\n",
    "dfTrain = pd.read_excel(data_file, sheet_name='Sheet1')"
   ]
  },
  {
   "cell_type": "code",
   "execution_count": 3,
   "id": "646caafc",
   "metadata": {},
   "outputs": [
    {
     "name": "stdout",
     "output_type": "stream",
     "text": [
      "107863\n"
     ]
    }
   ],
   "source": [
    "print(len(dfTrain))"
   ]
  },
  {
   "cell_type": "code",
   "execution_count": 4,
   "id": "7af7de25",
   "metadata": {},
   "outputs": [
    {
     "data": {
      "text/html": [
       "<div>\n",
       "<style scoped>\n",
       "    .dataframe tbody tr th:only-of-type {\n",
       "        vertical-align: middle;\n",
       "    }\n",
       "\n",
       "    .dataframe tbody tr th {\n",
       "        vertical-align: top;\n",
       "    }\n",
       "\n",
       "    .dataframe thead th {\n",
       "        text-align: right;\n",
       "    }\n",
       "</style>\n",
       "<table border=\"1\" class=\"dataframe\">\n",
       "  <thead>\n",
       "    <tr style=\"text-align: right;\">\n",
       "      <th></th>\n",
       "      <th>ID</th>\n",
       "      <th>Title</th>\n",
       "      <th>Review</th>\n",
       "    </tr>\n",
       "  </thead>\n",
       "  <tbody>\n",
       "    <tr>\n",
       "      <th>0</th>\n",
       "      <td>0</td>\n",
       "      <td>Excelente servicio, buenas instalaciones, limp...</td>\n",
       "      <td>Mi estancia fue tan sólo de 2 días, el precio ...</td>\n",
       "    </tr>\n",
       "    <tr>\n",
       "      <th>1</th>\n",
       "      <td>1</td>\n",
       "      <td>Lo pasamos genial</td>\n",
       "      <td>Pasamos unos días muy agradables en el memorie...</td>\n",
       "    </tr>\n",
       "    <tr>\n",
       "      <th>2</th>\n",
       "      <td>2</td>\n",
       "      <td>Muy congestionado</td>\n",
       "      <td>Demasiada gente en un vagón aunque es un medio...</td>\n",
       "    </tr>\n",
       "    <tr>\n",
       "      <th>3</th>\n",
       "      <td>3</td>\n",
       "      <td>Fantastica</td>\n",
       "      <td>zona restaurada. Hay una cervecería artesanal ...</td>\n",
       "    </tr>\n",
       "    <tr>\n",
       "      <th>4</th>\n",
       "      <td>4</td>\n",
       "      <td>Por algo es una de las maravillas del mundo</td>\n",
       "      <td>Visite la zona arqueológica en compañía de mi ...</td>\n",
       "    </tr>\n",
       "  </tbody>\n",
       "</table>\n",
       "</div>"
      ],
      "text/plain": [
       "   ID                                              Title  \\\n",
       "0   0  Excelente servicio, buenas instalaciones, limp...   \n",
       "1   1                                  Lo pasamos genial   \n",
       "2   2                                  Muy congestionado   \n",
       "3   3                                         Fantastica   \n",
       "4   4        Por algo es una de las maravillas del mundo   \n",
       "\n",
       "                                              Review  \n",
       "0  Mi estancia fue tan sólo de 2 días, el precio ...  \n",
       "1  Pasamos unos días muy agradables en el memorie...  \n",
       "2  Demasiada gente en un vagón aunque es un medio...  \n",
       "3  zona restaurada. Hay una cervecería artesanal ...  \n",
       "4  Visite la zona arqueológica en compañía de mi ...  "
      ]
     },
     "execution_count": 4,
     "metadata": {},
     "output_type": "execute_result"
    }
   ],
   "source": [
    "dfTrain.head()"
   ]
  },
  {
   "cell_type": "code",
   "execution_count": 5,
   "id": "718295aa",
   "metadata": {},
   "outputs": [],
   "source": [
    "# Drop rows where \"Review\" column is empty\n",
    "dfTrain = dfTrain.dropna(subset=[\"Review\"])"
   ]
  },
  {
   "cell_type": "code",
   "execution_count": 11,
   "id": "d17e34d8",
   "metadata": {},
   "outputs": [],
   "source": [
    "import re\n",
    "def sentence_case(text):\n",
    "    # Split into sentences. Therefore, find all text that ends\n",
    "    # with punctuation followed by white space or end of string.\n",
    "    sentences = re.findall(r'(?:\\d+\\.\\d+|\\b[A-Z](?:\\.[A-Z])*\\b\\.?|[^.!?])+[.!?](?:\\s|\\Z)', text)\n",
    "\n",
    "    # Capitalize the first letter of each sentence\n",
    "    sentences = [x[0].upper() + x[1:] for x in sentences]\n",
    "    #print(sentences)\n",
    "    # Combine sentences\n",
    "    return ''.join(sentences)\n",
    "\n",
    "def fix_punctuation(text):\n",
    "  try:\n",
    "    text = text.lower()  #lower case\n",
    "    text = text.replace('\\n', '')\n",
    "    text = text.strip()\n",
    "    #add space after punctuation\n",
    "    text1 = re.sub(r'(\\d+\\.\\d+|\\b[A-Z](?:\\.[A-Z])*\\b\\.?)|([.,;:!?)])\\s*', lambda x: x.group(1) or f'{x.group(2)} ', text)\n",
    "    return text1\n",
    "  except:\n",
    "    return text"
   ]
  },
  {
   "cell_type": "markdown",
   "id": "e1c4ed9d",
   "metadata": {},
   "source": [
    "### Remove Emojis from text"
   ]
  },
  {
   "cell_type": "code",
   "execution_count": 12,
   "id": "20497080",
   "metadata": {},
   "outputs": [],
   "source": [
    "def remove_words_and_emojis(text):\n",
    "    # Sample list of words/emojis to remove\n",
    "    words_to_remove = ['$:', '%)', '%-)', '&-:', '&:', \"( '}{' )\", '(%', \"('-:\", \"(':\", '((-:', '(*', '(-%', '(-*', '(-:', '(-:0', '(-:<', '(-:o', '(-:O', '(-:{', '(-:|>*', '(-;', '(-;|', '(8', '(:', '(:0', '(:<', '(:o', '(:O', '(;', '(;<', '(=', '(?:', '(^:', '(^;', '(^;0', '(^;o', '(o:', \")':\", \")-':\", ')-:', ')-:<', ')-:{', '):', '):<', '):{', ');<', '*)', '*-)', '*-:', '*-;', '*:', '*<|:-)', '*\\\\0/*', '*^:', ',-:', \"---'-;-{@\", '--<--<@', '.-:', '..###-:', '..###:', '/-:', '/:', '/:<', '/=', '/^:', '/o:', '0-8', '0-|', '0:)', '0:-)', '0:-3', '0:03', '0;^)', '0_o', '10q', '1337', '143', '1432', '14aa41', '182', '187', '2g2b4g', '2g2bt', '2qt', '3:(', '3:)', '3:-(', '3:-)', '4col', '4q', '5fs', '8)', '8-d', '8-o', '86', '8d', ':###..', ':$', ':&', \":'(\", \":')\", \":'-(\", \":'-)\", ':(', ':)', ':*', ':-###..', ':-&', ':-(', ':-)', ':-))', ':-*', ':-,', ':-.', ':-/', ':-<', ':-d', ':-D', ':-o', ':-p', ':-[', ':-\\\\', ':-c', ':-p', ':-|', ':-||', ':-Þ', ':/', ':3', ':<', ':>', ':?)', ':?c', ':@', ':d', ':D', ':l', ':o', ':p', ':s', ':[', ':\\\\', ':]', ':^)', ':^*', ':^/', ':^\\\\', ':^|', ':c', ':c)', ':o)', ':o/', ':o\\\\', ':o|', ':P', ':{', ':|', ':}', ':Þ', ';)', ';-)', ';-*', ';-]', ';d', ';D', ';]', ';^)', '</3', '<3', '<:', '<:-|', '=)', '=-3', '=-d', '=-D', '=/', '=3', '=d', '=D', '=l', '=\\\\', '=]', '=p', '=|', '>-:', '>.<', '>:', '>:(', '>:)', '>:-(', '>:-)', '>:/', '>:o', '>:p', '>:[', '>:\\\\', '>;(', '>;)', '>_>^', '@:', '@>-->--', \"@}-;-'---\", 'aas', 'aayf', 'afu', 'alol', 'ambw', 'aml', 'atab', 'awol', 'ayc', 'ayor', 'aug-00', 'bfd', 'bfe', 'bff', 'bffn', 'bl', 'bsod', 'btd', 'btdt', 'bz', 'b^d', 'cwot', \"d-':\", 'd8', 'd:', 'd:<', 'd;', 'd=', 'doa', 'dx', 'ez', 'fav', 'fcol', 'ff', 'ffs', 'fkm', 'foaf', 'ftw', 'fu', 'fubar', 'fwb', 'fyi', 'fysa', 'g1', 'gg', 'gga', 'gigo', 'gj', 'gl', 'gla', 'gn', 'gr8', 'grrr', 'gt', 'h&k', 'hagd', 'hagn', 'hago', 'hak', 'hand', 'heart', 'hearts', 'hho1/2k', 'hhoj', 'hhok', 'hugz', 'hi5', 'idk', 'ijs', 'ilu', 'iluaaf', 'ily', 'ily2', 'iou', 'iyq', 'j/j', 'j/k', 'j/p', 'j/t', 'j/w', 'j4f', 'j4g', 'jho', 'jhomf', 'jj', 'jk', 'jp', 'jt', 'jw', 'jealz', 'k4y', 'kfy', 'kia', 'kk', 'kmuf', 'l', 'l&r', 'laoj', 'lmao', 'lmbao', 'lmfao', 'lmso', 'lol', 'lolz', 'lts', 'ly', 'ly4e', 'lya', 'lyb', 'lyl', 'lylab', 'lylas', 'lylb', 'm8', 'mia', 'mml', 'mofo', 'muah', 'mubar', 'musm', 'mwah', 'n1', 'nbd', 'nbif', 'nfc', 'nfw', 'nh', 'nimby', 'nimjd', 'nimq', 'nimy', 'nitl', 'nme', 'noyb', 'np', 'ntmu', 'o-8', 'o-:', 'o-|', 'o.o', 'O.o', 'o.O', 'o:', 'o:)', 'o:-)', 'o:-3', 'o:3', 'o:<', 'o;^)', 'ok', 'o_o', 'O_o', 'o_O', 'pita', 'pls', 'plz', 'pmbi', 'pmfji', 'pmji', 'po', 'ptl', 'pu', 'qq', 'qt', 'r&r', 'rofl', 'roflmao', 'rotfl', 'rotflmao', 'rotflmfao', 'rotflol', 'rotgl', 'rotglmao', 's:', 'sapfu', 'sete', 'sfete', 'sgtm', 'slap', 'slaw', 'smh', 'snafu', 'sob', 'swak', 'tgif', 'thks', 'thx', 'tia', 'tmi', 'tnx', 'true', 'tx', 'txs', 'ty', 'tyvm', 'urw', 'vbg', 'vbs', 'vip', 'vwd', 'vwp', 'wag', 'wd', 'wilco', 'wp', 'wtf', 'wtg', 'wth', 'x-d', 'x-p', 'xd', 'xlnt', 'xoxo', 'xoxozzz', 'xp', 'xqzt', 'xtc', 'yolo', 'yoyo', 'yvw', 'yw', 'ywia', 'zzz', '[-;', '[:', '[;', '[=', '\\\\-:', '\\\\:', '\\\\:<', '\\\\=', '\\\\^:', '\\\\o/', '\\\\o:', ']-:', ']:', ']:<', '^<_<', '^urs', '{:', '|-0', '|-:', '|-:>', '|-o', '|:', '|;-)', '|=', '|^:', '|o:', '||-:', '}:', '}:(', '}:)', '}:-(', '}:-)', 'x-d', 'x-p', 'xd', 'xp', 'yay']\n",
    "    words = text.split()\n",
    "    neat_words = []\n",
    "    for word in words:\n",
    "        if word not in words_to_remove:\n",
    "            neat_words.append(word)\n",
    "    return ' '.join(neat_words)"
   ]
  },
  {
   "cell_type": "code",
   "execution_count": 14,
   "id": "454b40f9",
   "metadata": {},
   "outputs": [
    {
     "name": "stdout",
     "output_type": "stream",
     "text": [
      "Cleaned Sentence:  -- utf-8 encoded emojis such as  and  and \n"
     ]
    }
   ],
   "source": [
    "import re\n",
    "\n",
    "def remove_emojis(text):\n",
    "    # Define regex pattern to match emojis\n",
    "    emoji_pattern = re.compile(\"[\"\n",
    "                               u\"\\U0001F600-\\U0001F64F\"  # emoticons\n",
    "                               u\"\\U0001F300-\\U0001F5FF\"  # symbols & pictographs\n",
    "                               u\"\\U0001F680-\\U0001F6FF\"  # transport & map symbols\n",
    "                               u\"\\U0001F1E0-\\U0001F1FF\"  # flags (iOS)\n",
    "                               u\"\\U00002500-\\U00002BEF\"  # chinese char\n",
    "                               u\"\\U00002702-\\U000027B0\"\n",
    "                               u\"\\U00002702-\\U000027B0\"\n",
    "                               u\"\\U000024C2-\\U0001F251\"\n",
    "                               u\"\\U0001f926-\\U0001f937\"\n",
    "                               u\"\\U00010000-\\U0010ffff\"\n",
    "                               u\"\\u2640-\\u2642\"\n",
    "                               u\"\\u2600-\\u2B55\"\n",
    "                               u\"\\u200d\"\n",
    "                               u\"\\u23cf\"\n",
    "                               u\"\\u23e9\"\n",
    "                               u\"\\u231a\"\n",
    "                               u\"\\ufe0f\"  # dingbats\n",
    "                               u\"\\u3030\"\n",
    "                               \"]+\", flags=re.UNICODE)\n",
    "    # Remove emojis from the text\n",
    "    cleaned_text = emoji_pattern.sub(r'', text)\n",
    "    return cleaned_text"
   ]
  },
  {
   "cell_type": "code",
   "execution_count": 16,
   "id": "18a950a5",
   "metadata": {},
   "outputs": [
    {
     "data": {
      "application/vnd.jupyter.widget-view+json": {
       "model_id": "5152465972794c3fb445d6b3f74680d1",
       "version_major": 2,
       "version_minor": 0
      },
      "text/plain": [
       "  0%|          | 0/107863 [00:00<?, ?it/s]"
      ]
     },
     "metadata": {},
     "output_type": "display_data"
    },
    {
     "data": {
      "application/vnd.jupyter.widget-view+json": {
       "model_id": "9e429180b6da4e2da5720ebcc430e456",
       "version_major": 2,
       "version_minor": 0
      },
      "text/plain": [
       "  0%|          | 0/107863 [00:00<?, ?it/s]"
      ]
     },
     "metadata": {},
     "output_type": "display_data"
    },
    {
     "data": {
      "application/vnd.jupyter.widget-view+json": {
       "model_id": "f151449fce874710aaae882f6cd92e12",
       "version_major": 2,
       "version_minor": 0
      },
      "text/plain": [
       "  0%|          | 0/107863 [00:00<?, ?it/s]"
      ]
     },
     "metadata": {},
     "output_type": "display_data"
    }
   ],
   "source": [
    "dfTrain['reviewCorr'] = dfTrain['Review'].progress_apply(remove_words_and_emojis)\n",
    "dfTrain['reviewCorr'] = dfTrain['reviewCorr'].progress_apply(remove_emojis)\n",
    "dfTrain['reviewCorr'] = dfTrain['reviewCorr'].progress_apply(fix_punctuation)"
   ]
  },
  {
   "cell_type": "code",
   "execution_count": 17,
   "id": "fe33e719",
   "metadata": {},
   "outputs": [
    {
     "data": {
      "text/html": [
       "<div>\n",
       "<style scoped>\n",
       "    .dataframe tbody tr th:only-of-type {\n",
       "        vertical-align: middle;\n",
       "    }\n",
       "\n",
       "    .dataframe tbody tr th {\n",
       "        vertical-align: top;\n",
       "    }\n",
       "\n",
       "    .dataframe thead th {\n",
       "        text-align: right;\n",
       "    }\n",
       "</style>\n",
       "<table border=\"1\" class=\"dataframe\">\n",
       "  <thead>\n",
       "    <tr style=\"text-align: right;\">\n",
       "      <th></th>\n",
       "      <th>ID</th>\n",
       "      <th>Title</th>\n",
       "      <th>Review</th>\n",
       "      <th>Title_Review</th>\n",
       "      <th>reviewCorr</th>\n",
       "    </tr>\n",
       "  </thead>\n",
       "  <tbody>\n",
       "    <tr>\n",
       "      <th>0</th>\n",
       "      <td>0</td>\n",
       "      <td>Excelente servicio, buenas instalaciones, limp...</td>\n",
       "      <td>Mi estancia fue tan sólo de 2 días, el precio ...</td>\n",
       "      <td>Excelente servicio, buenas instalaciones, limp...</td>\n",
       "      <td>excelente servicio, buenas instalaciones, limp...</td>\n",
       "    </tr>\n",
       "    <tr>\n",
       "      <th>1</th>\n",
       "      <td>1</td>\n",
       "      <td>Lo pasamos genial</td>\n",
       "      <td>Pasamos unos días muy agradables en el memorie...</td>\n",
       "      <td>Lo pasamos genial Pasamos unos días muy agrada...</td>\n",
       "      <td>lo pasamos genial pasamos unos días muy agrada...</td>\n",
       "    </tr>\n",
       "    <tr>\n",
       "      <th>2</th>\n",
       "      <td>2</td>\n",
       "      <td>Muy congestionado</td>\n",
       "      <td>Demasiada gente en un vagón aunque es un medio...</td>\n",
       "      <td>Muy congestionado Demasiada gente en un vagón ...</td>\n",
       "      <td>muy congestionado demasiada gente en un vagón ...</td>\n",
       "    </tr>\n",
       "  </tbody>\n",
       "</table>\n",
       "</div>"
      ],
      "text/plain": [
       "   ID                                              Title  \\\n",
       "0   0  Excelente servicio, buenas instalaciones, limp...   \n",
       "1   1                                  Lo pasamos genial   \n",
       "2   2                                  Muy congestionado   \n",
       "\n",
       "                                              Review  \\\n",
       "0  Mi estancia fue tan sólo de 2 días, el precio ...   \n",
       "1  Pasamos unos días muy agradables en el memorie...   \n",
       "2  Demasiada gente en un vagón aunque es un medio...   \n",
       "\n",
       "                                        Title_Review  \\\n",
       "0  Excelente servicio, buenas instalaciones, limp...   \n",
       "1  Lo pasamos genial Pasamos unos días muy agrada...   \n",
       "2  Muy congestionado Demasiada gente en un vagón ...   \n",
       "\n",
       "                                          reviewCorr  \n",
       "0  excelente servicio, buenas instalaciones, limp...  \n",
       "1  lo pasamos genial pasamos unos días muy agrada...  \n",
       "2  muy congestionado demasiada gente en un vagón ...  "
      ]
     },
     "execution_count": 17,
     "metadata": {},
     "output_type": "execute_result"
    }
   ],
   "source": [
    "dfTrain[0:3]"
   ]
  },
  {
   "cell_type": "code",
   "execution_count": 23,
   "id": "0b3cd6f4",
   "metadata": {},
   "outputs": [],
   "source": [
    "def vader_polarity_label(compound):\n",
    "    polarity_label = ''\n",
    "    if(compound >= 0.05):\n",
    "        polarity_label = \"Positive\"\n",
    "    elif((compound > -0.05) and (compound < 0.05)):\n",
    "        polarity_label = \"Neutral\"\n",
    "    elif(compound <= -0.05):\n",
    "        polarity_label = \"Negative\"\n",
    "    return polarity_label"
   ]
  },
  {
   "cell_type": "code",
   "execution_count": 24,
   "id": "32d60ae1",
   "metadata": {},
   "outputs": [],
   "source": [
    "def gold_polarity_label(score):\n",
    "    polarity_label = ''\n",
    "    if(score >= 3.0 and score <= 5.0):\n",
    "        polarity_label = \"Positive\"\n",
    "    elif((score >= 0.0) and (score <= 2.0)):\n",
    "        polarity_label = \"Negative\"\n",
    "    elif((score >= 2.0) and (score <= 3.0)):\n",
    "        polarity_label = \"Neutral\"\n",
    "    return polarity_label"
   ]
  },
  {
   "cell_type": "code",
   "execution_count": 25,
   "id": "b8ed26cc",
   "metadata": {},
   "outputs": [],
   "source": [
    "def normalize_vader_polarity(compound):\n",
    "    polarity_label = ''\n",
    "    if(compound > 0.6 and compound <= 1.0):\n",
    "        polarity_label = 5\n",
    "    elif((compound > 0.2) and (compound <= 0.6)):\n",
    "        polarity_label = 4\n",
    "    elif((compound > -0.2) and (compound <= 0.2)):\n",
    "        polarity_label = 3\n",
    "    elif((compound > -0.6) and (compound <= -0.2)):\n",
    "        polarity_label = 2\n",
    "    elif((compound > -1.0) and (compound <= -0.6)):\n",
    "        polarity_label = 1\n",
    "    return polarity_label"
   ]
  },
  {
   "cell_type": "code",
   "execution_count": null,
   "id": "a8dca967",
   "metadata": {},
   "outputs": [],
   "source": [
    "dfTrain['gold_polarity_label'] = dfTrain['Polarity'].progress_apply(gold_polarity_label)"
   ]
  },
  {
   "cell_type": "code",
   "execution_count": 27,
   "id": "939a1ff4",
   "metadata": {},
   "outputs": [
    {
     "data": {
      "application/vnd.jupyter.widget-view+json": {
       "model_id": "e700174db89f48d98a812064b40447ed",
       "version_major": 2,
       "version_minor": 0
      },
      "text/plain": [
       "0it [00:00, ?it/s]"
      ]
     },
     "metadata": {},
     "output_type": "display_data"
    },
    {
     "name": "stderr",
     "output_type": "stream",
     "text": [
      "/tmp/ipykernel_126390/3965858198.py:13: FutureWarning: Setting an item of incompatible dtype is deprecated and will raise in a future error of pandas. Value 'Positive' has dtype incompatible with float64, please explicitly cast to a compatible dtype first.\n",
      "  dfTrain.at[i,'polarity_label'] = vader_polarity_label(vs['compound'])\n"
     ]
    },
    {
     "name": "stdout",
     "output_type": "stream",
     "text": [
      "vaderSentiment Error: list index out of range\n",
      "vaderSentiment Error: list index out of range\n",
      "vaderSentiment Error: list index out of range\n",
      "vaderSentiment Error: list index out of range\n",
      "vaderSentiment Error: HTTP Error 400: Bad Request\n",
      "vaderSentiment Error: HTTP Error 400: Bad Request\n",
      "vaderSentiment Error: HTTP Error 400: Bad Request\n",
      "vaderSentiment Error: HTTP Error 400: Bad Request\n",
      "vaderSentiment Error: HTTP Error 400: Bad Request\n",
      "vaderSentiment Error: HTTP Error 400: Bad Request\n",
      "vaderSentiment Error: HTTP Error 400: Bad Request\n",
      "vaderSentiment Error: HTTP Error 400: Bad Request\n",
      "vaderSentiment Error: HTTP Error 400: Bad Request\n",
      "vaderSentiment Error: HTTP Error 400: Bad Request\n",
      "vaderSentiment Error: HTTP Error 400: Bad Request\n",
      "vaderSentiment Error: HTTP Error 400: Bad Request\n",
      "Total Time (Seconds): 30223.190549850464\n"
     ]
    }
   ],
   "source": [
    "t0 = time.time()\n",
    "# Running in Title\n",
    "analyzer = SentimentIntensityAnalyzer()\n",
    "for i, row in tqdm(dfTrain.iterrows()):\n",
    "    #print(i, row.reviewCorr)\n",
    "    try:\n",
    "        vs = analyzer.polarity_scores(row.reviewCorr)\n",
    "        dfTrain.at[i,'neg'] = vs['neg']\n",
    "        dfTrain.at[i,'neu'] = vs['neu']\n",
    "        dfTrain.at[i,'pos'] = vs['pos']\n",
    "        dfTrain.at[i,'compound'] = vs['compound']\n",
    "        dfTrain.at[i,'polarity_label'] = vader_polarity_label(vs['compound'])\n",
    "        dfTrain.at[i,'Polarity'] = normalize_vader_polarity(vs['compound'])\n",
    "    except Exception as e:\n",
    "        #dfTrain1.at[i,'Score'] = -100\n",
    "        print(\"vaderSentiment Error: \" + str(e))\n",
    "    #break\n",
    "t1 = time.time()\n",
    "total = t1-t0\n",
    "print('Total Time (Seconds): ' + str(total))"
   ]
  },
  {
   "cell_type": "code",
   "execution_count": 28,
   "id": "409a625d",
   "metadata": {},
   "outputs": [],
   "source": [
    "dfTrain.to_excel(\"/sentiment-analysis-results/Tweets_Spanish_VADER.xlsx\")"
   ]
  },
  {
   "cell_type": "code",
   "execution_count": 2,
   "id": "9dc27901",
   "metadata": {},
   "outputs": [
    {
     "name": "stdout",
     "output_type": "stream",
     "text": [
      "Sentiment Analysis Output file save successfully..!\n"
     ]
    }
   ],
   "source": [
    "print(\"Sentiment Analysis Output file save successfully..!\")"
   ]
  }
 ],
 "metadata": {
  "kernelspec": {
   "display_name": "Python 3 (ipykernel)",
   "language": "python",
   "name": "python3"
  },
  "language_info": {
   "codemirror_mode": {
    "name": "ipython",
    "version": 3
   },
   "file_extension": ".py",
   "mimetype": "text/x-python",
   "name": "python",
   "nbconvert_exporter": "python",
   "pygments_lexer": "ipython3",
   "version": "3.11.5"
  }
 },
 "nbformat": 4,
 "nbformat_minor": 5
}
